{
 "cells": [
  {
   "cell_type": "code",
   "execution_count": 1,
   "id": "500a701f-bc50-444e-8e0b-fb16d82fb501",
   "metadata": {},
   "outputs": [],
   "source": [
    "import xml.etree.ElementTree as ET"
   ]
  },
  {
   "cell_type": "code",
   "execution_count": 2,
   "id": "ad532957-6388-48a1-966b-2bb29d60561f",
   "metadata": {},
   "outputs": [],
   "source": [
    "root_node = ET.parse('en-mt.tmx').getroot()"
   ]
  },
  {
   "cell_type": "code",
   "execution_count": 3,
   "id": "b5d5f789-576f-4dc9-8a8d-99719ebdadbd",
   "metadata": {},
   "outputs": [
    {
     "name": "stdout",
     "output_type": "stream",
     "text": [
      "<Element 'tmx' at 0x7fb9ac472f90>\n"
     ]
    }
   ],
   "source": [
    "print(root_node)"
   ]
  },
  {
   "cell_type": "code",
   "execution_count": 4,
   "id": "8d2f73dd-7da6-457c-ba2b-e5afe3afed56",
   "metadata": {},
   "outputs": [],
   "source": [
    "for tag in root_node.findall('body/tuv'):\n",
    "    # Get the value of the heading attribute\n",
    "    h_value = tag.get('heading')\n",
    "    if h_value is not None:\n",
    "        print(h_value)\n",
    "    # Get the value of the text attribute\n",
    "    t_value = tag.get('text')\n",
    "    if t_value is not None:\n",
    "        print(t_value)"
   ]
  },
  {
   "cell_type": "code",
   "execution_count": 5,
   "id": "d3cda28c-ff32-46a6-bea2-199abd16a4e2",
   "metadata": {},
   "outputs": [
    {
     "ename": "KeyError",
     "evalue": "'xml:lang'",
     "output_type": "error",
     "traceback": [
      "\u001b[0;31m---------------------------------------------------------------------------\u001b[0m",
      "\u001b[0;31mKeyError\u001b[0m                                  Traceback (most recent call last)",
      "\u001b[0;32m/tmp/ipykernel_5965/630695484.py\u001b[0m in \u001b[0;36m<module>\u001b[0;34m\u001b[0m\n\u001b[1;32m      1\u001b[0m \u001b[0;32mfor\u001b[0m \u001b[0mtag\u001b[0m \u001b[0;32min\u001b[0m \u001b[0mroot_node\u001b[0m\u001b[0;34m.\u001b[0m\u001b[0mfindall\u001b[0m\u001b[0;34m(\u001b[0m\u001b[0;34m'body/tu/tuv'\u001b[0m\u001b[0;34m)\u001b[0m\u001b[0;34m:\u001b[0m\u001b[0;34m\u001b[0m\u001b[0;34m\u001b[0m\u001b[0m\n\u001b[0;32m----> 2\u001b[0;31m     \u001b[0mvalue\u001b[0m \u001b[0;34m=\u001b[0m \u001b[0mtag\u001b[0m\u001b[0;34m.\u001b[0m\u001b[0mattrib\u001b[0m\u001b[0;34m[\u001b[0m\u001b[0;34m'xml:lang'\u001b[0m\u001b[0;34m]\u001b[0m\u001b[0;34m\u001b[0m\u001b[0;34m\u001b[0m\u001b[0m\n\u001b[0m\u001b[1;32m      3\u001b[0m     \u001b[0mprint\u001b[0m\u001b[0;34m(\u001b[0m\u001b[0mvalue\u001b[0m\u001b[0;34m)\u001b[0m\u001b[0;34m\u001b[0m\u001b[0;34m\u001b[0m\u001b[0m\n\u001b[1;32m      4\u001b[0m \u001b[0;34m\u001b[0m\u001b[0m\n\u001b[1;32m      5\u001b[0m \u001b[0;34m\u001b[0m\u001b[0m\n",
      "\u001b[0;31mKeyError\u001b[0m: 'xml:lang'"
     ]
    }
   ],
   "source": [
    "for tag in root_node.findall('body/tu/tuv'):\n",
    "    value = tag.attrib['xml:lang']\n",
    "    print(value)\n",
    "    \n",
    "    "
   ]
  },
  {
   "cell_type": "code",
   "execution_count": null,
   "id": "fcfc737a-005c-4f43-8f7e-26f624e0f2b8",
   "metadata": {},
   "outputs": [],
   "source": []
  }
 ],
 "metadata": {
  "kernelspec": {
   "display_name": "Python 3 (ipykernel)",
   "language": "python",
   "name": "python3"
  },
  "language_info": {
   "codemirror_mode": {
    "name": "ipython",
    "version": 3
   },
   "file_extension": ".py",
   "mimetype": "text/x-python",
   "name": "python",
   "nbconvert_exporter": "python",
   "pygments_lexer": "ipython3",
   "version": "3.9.12"
  }
 },
 "nbformat": 4,
 "nbformat_minor": 5
}
