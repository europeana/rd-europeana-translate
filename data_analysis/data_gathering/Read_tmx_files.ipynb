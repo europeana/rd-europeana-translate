{
 "cells": [
  {
   "cell_type": "markdown",
   "id": "eee184d1-ea13-46e1-bdb6-7bc9bc5df01b",
   "metadata": {},
   "source": [
    "# Experiment to read tmx data"
   ]
  },
  {
   "cell_type": "markdown",
   "id": "03edc5cc-9ec5-4d3c-a068-6087094cd55d",
   "metadata": {},
   "source": [
    "This is an experiment to read a tmx file- an Opus file- bilingual english - maltese"
   ]
  },
  {
   "cell_type": "code",
   "execution_count": 6,
   "id": "500a701f-bc50-444e-8e0b-fb16d82fb501",
   "metadata": {},
   "outputs": [],
   "source": [
    "import xml.etree.ElementTree as ET # xml library"
   ]
  },
  {
   "cell_type": "code",
   "execution_count": 2,
   "id": "ad532957-6388-48a1-966b-2bb29d60561f",
   "metadata": {},
   "outputs": [],
   "source": [
    "root_node = ET.parse('en-mt.tmx').getroot()"
   ]
  },
  {
   "cell_type": "code",
   "execution_count": 3,
   "id": "b5d5f789-576f-4dc9-8a8d-99719ebdadbd",
   "metadata": {},
   "outputs": [
    {
     "name": "stdout",
     "output_type": "stream",
     "text": [
      "<Element 'tmx' at 0x7fa29874b860>\n"
     ]
    }
   ],
   "source": [
    "print(root_node)"
   ]
  },
  {
   "cell_type": "code",
   "execution_count": 4,
   "id": "8d2f73dd-7da6-457c-ba2b-e5afe3afed56",
   "metadata": {},
   "outputs": [],
   "source": [
    "for tag in root_node.findall('body/tuv'):\n",
    "    # Get the value of the heading attribute\n",
    "    h_value = tag.get('heading')\n",
    "    if h_value is not None:\n",
    "        print(h_value)\n",
    "    # Get the value of the text attribute\n",
    "    t_value = tag.get('text')\n",
    "    if t_value is not None:\n",
    "        print(t_value)"
   ]
  },
  {
   "cell_type": "markdown",
   "id": "2e897500-263e-4263-ac6e-c65178903537",
   "metadata": {},
   "source": [
    "Experiment not finished - did not manage to read file yet"
   ]
  }
 ],
 "metadata": {
  "kernelspec": {
   "display_name": "Python 3 (ipykernel)",
   "language": "python",
   "name": "python3"
  },
  "language_info": {
   "codemirror_mode": {
    "name": "ipython",
    "version": 3
   },
   "file_extension": ".py",
   "mimetype": "text/x-python",
   "name": "python",
   "nbconvert_exporter": "python",
   "pygments_lexer": "ipython3",
   "version": "3.9.7"
  }
 },
 "nbformat": 4,
 "nbformat_minor": 5
}
