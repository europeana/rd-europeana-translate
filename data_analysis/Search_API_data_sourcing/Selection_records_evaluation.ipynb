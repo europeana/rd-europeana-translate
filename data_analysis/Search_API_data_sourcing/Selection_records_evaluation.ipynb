{
 "cells": [
  {
   "cell_type": "code",
   "execution_count": 2,
   "id": "60d374d8-56d4-48e3-a2be-6ac6b354692b",
   "metadata": {},
   "outputs": [],
   "source": [
    "import pyeuropeana.apis as apis\n",
    "import pyeuropeana.utils as utils\n",
    "import os\n",
    "import pandas as pd\n",
    "pd.set_option('display.max_rows', 500)\n",
    "pd.set_option('display.max_columns', 500)"
   ]
  },
  {
   "cell_type": "markdown",
   "id": "0482322d-ac1c-4ed2-8b60-6d1fee2097a3",
   "metadata": {},
   "source": [
    "# Goal"
   ]
  },
  {
   "cell_type": "markdown",
   "id": "5561289a-9889-4111-8abe-a75096a3ae03",
   "metadata": {},
   "source": [
    "This notebook is to extract suitable Europeana records to test the platforms for the evaluation campaigns within the project Europeana translate. \n",
    "The datasets chosen by the aggregators are shown here https://docs.google.com/spreadsheets/d/1M7dms5rEVKbijxZPNBhZh3JxnwA_T0KWei4zdR74Lb0/edit#gid=0 and the fields to be tested are signaled here https://docs.google.com/spreadsheets/d/1iBS1EvK37Jm8ZF3TVilvryw8bXXiM05FDxuvmldseQ8/edit#gid=0"
   ]
  },
  {
   "cell_type": "markdown",
   "id": "2ef0c2b0-89a3-49e6-835b-1918871bb9d5",
   "metadata": {},
   "source": [
    "#  Record selection strategy"
   ]
  },
  {
   "cell_type": "markdown",
   "id": "66209cc5-a189-4323-8dbd-dc153aa5d4bc",
   "metadata": {},
   "source": [
    "The general idea is to go through the datasets identified by the aggregators and select meaningful records with relevant fields, according to the list of fields above, that are populated. "
   ]
  },
  {
   "cell_type": "code",
   "execution_count": 3,
   "id": "47a49b04-ffaa-4b3b-a7c4-14e6b697ef10",
   "metadata": {},
   "outputs": [],
   "source": [
    "#setting enviroment variable\n",
    "os.environ['EUROPEANA_API_KEY'] = 'api2demo'"
   ]
  },
  {
   "cell_type": "code",
   "execution_count": 4,
   "id": "3a06516c-acbd-4864-894d-d272453acae1",
   "metadata": {},
   "outputs": [],
   "source": [
    " def search_api(qf, n_rows):\n",
    "    ''' This function extracts the europeana ids of records\n",
    "    given a quiery'''\n",
    "    response = apis.search(\n",
    "    query = '*:*',\n",
    "    qf=qf,\n",
    "    rows = n_rows, \n",
    "    profile='rich'\n",
    "    )\n",
    "    df_search=utils.search2df(response).europeana_id\n",
    "    return df_search"
   ]
  },
  {
   "cell_type": "code",
   "execution_count": 29,
   "id": "6ab07239-058d-4b51-8468-e0e6fd1c6e37",
   "metadata": {},
   "outputs": [],
   "source": [
    "def record_api(items_id):\n",
    "    ''' This function provides the record, given the europeana id '''\n",
    "    df_list=[]\n",
    "    for item in items_id:\n",
    "        data=apis.record(f'{item}')\n",
    "        data_jnorm=pd.json_normalize(data)\n",
    "        df_list.append(data_jnorm)\n",
    "    df_jnorm_tot = pd.concat(df_list, ignore_index=True, axis=0)\n",
    "    return df_jnorm_tot"
   ]
  },
  {
   "cell_type": "code",
   "execution_count": 7,
   "id": "d1c3f5b4-3a4c-49cd-94a9-8771e4d33636",
   "metadata": {},
   "outputs": [],
   "source": [
    "def record_api_proxy(items_id, proxy_nr):\n",
    "    ''' This function provides the record, given the europeana id but selects the information on the provider proxy '''\n",
    "    df_list=[]\n",
    "    for item in items_id:\n",
    "        data=apis.record(f'{item}')\n",
    "        df_0=pd.json_normalize(data,['object','proxies'])\n",
    "        df_proxy_provider=df_0.iloc[proxy_nr] #selcting provider proxy - there are the info I am interested in\n",
    "        df_proxy_provider=pd.DataFrame(df_proxy_provider)\n",
    "        df_proxy_provider=df_proxy_provider.transpose()\n",
    "        df_proxy_provider['item_id']=item\n",
    "        df_list.append(df_proxy_provider)\n",
    "    df_proxy_tot = pd.concat(df_list, ignore_index=True, axis=0)\n",
    "    return df_proxy_tot"
   ]
  },
  {
   "cell_type": "code",
   "execution_count": 8,
   "id": "4bb66e39-701a-4a9a-a95f-020cf945bb3c",
   "metadata": {},
   "outputs": [],
   "source": [
    "def retrieve_norm_data(query, n_rows,proxy_nr):\n",
    "    ''' This function returns records given a query. Also the proxy can be chosen. \n",
    "    query:'''\n",
    "    search_results_list=search_api(query, n_rows)\n",
    "    record_data=record_api_proxy(search_results_list,proxy_nr)\n",
    "    return record_data"
   ]
  },
  {
   "cell_type": "code",
   "execution_count": 9,
   "id": "bf6190fd-1dba-4c0e-b4ca-24366d3ec0f9",
   "metadata": {},
   "outputs": [],
   "source": [
    "def fin_records(query, n_records, proxy):\n",
    "    query=query\n",
    "    df=retrieve_norm_data(query, n_records, proxy)\n",
    "    list_of_item_ids_json=[]\n",
    "    list_of_item_web=[]\n",
    "    for item_id in list(df.item_id):\n",
    "        europeana_json=f'https://search-api.europeana.eu/record{item_id}.json?wskey=api2demo'\n",
    "        item_web=f'https://www.europeana.eu/item/{item_id}'\n",
    "        list_of_item_ids_json.append(europeana_json)\n",
    "        list_of_item_web.append(item_web)\n",
    "    return df, list_of_item_ids_json,list_of_item_web             "
   ]
  },
  {
   "cell_type": "code",
   "execution_count": 16,
   "id": "943803c3-64a6-48ca-8b62-ec6835a7198f",
   "metadata": {
    "tags": []
   },
   "outputs": [],
   "source": [
    "query='(edm_datasetName:2048205*)'\n",
    "\n",
    "df, lst_json, lst_web=fin_records(query,2,2)"
   ]
  },
  {
   "cell_type": "code",
   "execution_count": 17,
   "id": "a38242fe-28e1-476c-978d-1a48a04616d9",
   "metadata": {},
   "outputs": [
    {
     "data": {
      "text/html": [
       "<div>\n",
       "<style scoped>\n",
       "    .dataframe tbody tr th:only-of-type {\n",
       "        vertical-align: middle;\n",
       "    }\n",
       "\n",
       "    .dataframe tbody tr th {\n",
       "        vertical-align: top;\n",
       "    }\n",
       "\n",
       "    .dataframe thead th {\n",
       "        text-align: right;\n",
       "    }\n",
       "</style>\n",
       "<table border=\"1\" class=\"dataframe\">\n",
       "  <thead>\n",
       "    <tr style=\"text-align: right;\">\n",
       "      <th></th>\n",
       "      <th>about</th>\n",
       "      <th>proxyIn</th>\n",
       "      <th>proxyFor</th>\n",
       "      <th>lineage</th>\n",
       "      <th>edmType</th>\n",
       "      <th>europeanaProxy</th>\n",
       "      <th>dcCreator.def</th>\n",
       "      <th>dcIdentifier.def</th>\n",
       "      <th>dcType.def</th>\n",
       "      <th>dctermsSpatial.def</th>\n",
       "      <th>dcDescription.en</th>\n",
       "      <th>dcCreator.it</th>\n",
       "      <th>dcDescription.it</th>\n",
       "      <th>dcType.en</th>\n",
       "      <th>dctermsIsPartOf.en</th>\n",
       "      <th>dctermsProvenance.it</th>\n",
       "      <th>item_id</th>\n",
       "    </tr>\n",
       "  </thead>\n",
       "  <tbody>\n",
       "    <tr>\n",
       "      <th>0</th>\n",
       "      <td>/proxy/provider/2048205/europeana_fashion_SC02...</td>\n",
       "      <td>[/aggregation/provider/2048205/europeana_fashi...</td>\n",
       "      <td>/item/2048205/europeana_fashion_SC0215701</td>\n",
       "      <td>NaN</td>\n",
       "      <td>IMAGE</td>\n",
       "      <td>False</td>\n",
       "      <td>NaN</td>\n",
       "      <td>[SC0215701]</td>\n",
       "      <td>[http://thesaurus.europeanafashion.eu/thesauru...</td>\n",
       "      <td>NaN</td>\n",
       "      <td>NaN</td>\n",
       "      <td>[Emilio Pucci (Designer)]</td>\n",
       "      <td>[Schizzo SC02157: Mod. 1: kimono corto in tess...</td>\n",
       "      <td>[Object Type: sketch]</td>\n",
       "      <td>[Europeana XX: Century of Change]</td>\n",
       "      <td>[Archivio Emilio Pucci]</td>\n",
       "      <td>/2048205/europeana_fashion_SC0215701</td>\n",
       "    </tr>\n",
       "    <tr>\n",
       "      <th>1</th>\n",
       "      <td>/proxy/provider/2048205/europeana_fashion_SC02157</td>\n",
       "      <td>[/aggregation/provider/2048205/europeana_fashi...</td>\n",
       "      <td>/item/2048205/europeana_fashion_SC02157</td>\n",
       "      <td>NaN</td>\n",
       "      <td>IMAGE</td>\n",
       "      <td>False</td>\n",
       "      <td>NaN</td>\n",
       "      <td>[SC02157]</td>\n",
       "      <td>[http://thesaurus.europeanafashion.eu/thesauru...</td>\n",
       "      <td>NaN</td>\n",
       "      <td>NaN</td>\n",
       "      <td>[Emilio Pucci (Designer)]</td>\n",
       "      <td>[Schizzo SC02157: Mod. 1: kimono corto in tess...</td>\n",
       "      <td>[Object Type: sketch]</td>\n",
       "      <td>[Europeana XX: Century of Change]</td>\n",
       "      <td>[Archivio Emilio Pucci]</td>\n",
       "      <td>/2048205/europeana_fashion_SC02157</td>\n",
       "    </tr>\n",
       "  </tbody>\n",
       "</table>\n",
       "</div>"
      ],
      "text/plain": [
       "                                               about  \\\n",
       "0  /proxy/provider/2048205/europeana_fashion_SC02...   \n",
       "1  /proxy/provider/2048205/europeana_fashion_SC02157   \n",
       "\n",
       "                                             proxyIn  \\\n",
       "0  [/aggregation/provider/2048205/europeana_fashi...   \n",
       "1  [/aggregation/provider/2048205/europeana_fashi...   \n",
       "\n",
       "                                    proxyFor lineage edmType europeanaProxy  \\\n",
       "0  /item/2048205/europeana_fashion_SC0215701     NaN   IMAGE          False   \n",
       "1    /item/2048205/europeana_fashion_SC02157     NaN   IMAGE          False   \n",
       "\n",
       "  dcCreator.def dcIdentifier.def  \\\n",
       "0           NaN      [SC0215701]   \n",
       "1           NaN        [SC02157]   \n",
       "\n",
       "                                          dcType.def dctermsSpatial.def  \\\n",
       "0  [http://thesaurus.europeanafashion.eu/thesauru...                NaN   \n",
       "1  [http://thesaurus.europeanafashion.eu/thesauru...                NaN   \n",
       "\n",
       "  dcDescription.en               dcCreator.it  \\\n",
       "0              NaN  [Emilio Pucci (Designer)]   \n",
       "1              NaN  [Emilio Pucci (Designer)]   \n",
       "\n",
       "                                    dcDescription.it              dcType.en  \\\n",
       "0  [Schizzo SC02157: Mod. 1: kimono corto in tess...  [Object Type: sketch]   \n",
       "1  [Schizzo SC02157: Mod. 1: kimono corto in tess...  [Object Type: sketch]   \n",
       "\n",
       "                  dctermsIsPartOf.en     dctermsProvenance.it  \\\n",
       "0  [Europeana XX: Century of Change]  [Archivio Emilio Pucci]   \n",
       "1  [Europeana XX: Century of Change]  [Archivio Emilio Pucci]   \n",
       "\n",
       "                                item_id  \n",
       "0  /2048205/europeana_fashion_SC0215701  \n",
       "1    /2048205/europeana_fashion_SC02157  "
      ]
     },
     "execution_count": 17,
     "metadata": {},
     "output_type": "execute_result"
    }
   ],
   "source": [
    "df"
   ]
  },
  {
   "cell_type": "code",
   "execution_count": 18,
   "id": "c6f06d88-289b-4a2d-b445-49b47e6a1631",
   "metadata": {},
   "outputs": [
    {
     "data": {
      "text/plain": [
       "['https://search-api.europeana.eu/record/2048205/europeana_fashion_SC0215701.json?wskey=api2demo',\n",
       " 'https://search-api.europeana.eu/record/2048205/europeana_fashion_SC02157.json?wskey=api2demo']"
      ]
     },
     "execution_count": 18,
     "metadata": {},
     "output_type": "execute_result"
    }
   ],
   "source": [
    "lst_json"
   ]
  },
  {
   "cell_type": "code",
   "execution_count": 19,
   "id": "cdb9b71f-60da-4555-83be-a1b66ec8cae0",
   "metadata": {},
   "outputs": [
    {
     "data": {
      "text/plain": [
       "['https://www.europeana.eu/item//2048205/europeana_fashion_SC0215701',\n",
       " 'https://www.europeana.eu/item//2048205/europeana_fashion_SC02157']"
      ]
     },
     "execution_count": 19,
     "metadata": {},
     "output_type": "execute_result"
    }
   ],
   "source": [
    "lst_web"
   ]
  },
  {
   "cell_type": "code",
   "execution_count": 124,
   "id": "a8c5566b-8157-4d7f-b035-6a2aa8b10399",
   "metadata": {},
   "outputs": [
    {
     "data": {
      "text/plain": [
       "0    /739/europeana_fashion_SK_C_1216\n",
       "1    /739/europeana_fashion_SK_A_4457\n",
       "Name: item_id, dtype: object"
      ]
     },
     "execution_count": 124,
     "metadata": {},
     "output_type": "execute_result"
    }
   ],
   "source": [
    "df.item_id"
   ]
  },
  {
   "cell_type": "markdown",
   "id": "f7c926f5-2fbe-4877-83e6-df6159426227",
   "metadata": {},
   "source": [
    "# Record Selection"
   ]
  },
  {
   "cell_type": "code",
   "execution_count": 128,
   "id": "502e89fd-46e0-4607-b6da-e467fc2231cc",
   "metadata": {},
   "outputs": [
    {
     "data": {
      "text/html": [
       "<div>\n",
       "<style scoped>\n",
       "    .dataframe tbody tr th:only-of-type {\n",
       "        vertical-align: middle;\n",
       "    }\n",
       "\n",
       "    .dataframe tbody tr th {\n",
       "        vertical-align: top;\n",
       "    }\n",
       "\n",
       "    .dataframe thead th {\n",
       "        text-align: right;\n",
       "    }\n",
       "</style>\n",
       "<table border=\"1\" class=\"dataframe\">\n",
       "  <thead>\n",
       "    <tr style=\"text-align: right;\">\n",
       "      <th></th>\n",
       "      <th>about</th>\n",
       "      <th>proxyIn</th>\n",
       "      <th>proxyFor</th>\n",
       "      <th>lineage</th>\n",
       "      <th>edmType</th>\n",
       "      <th>europeanaProxy</th>\n",
       "      <th>dcIdentifier.def</th>\n",
       "      <th>dcLanguage.def</th>\n",
       "      <th>dcType.def</th>\n",
       "      <th>dctermsSpatial.def</th>\n",
       "      <th>dcDescription.def</th>\n",
       "      <th>dcDescription.en</th>\n",
       "      <th>dcDescription.it</th>\n",
       "      <th>dcFormat.en</th>\n",
       "      <th>dcLanguage.en</th>\n",
       "      <th>dcPublisher.def</th>\n",
       "      <th>dcRights.en</th>\n",
       "      <th>dcSubject.def</th>\n",
       "      <th>dcTitle.en</th>\n",
       "      <th>dcTitle.it</th>\n",
       "      <th>dcType.en</th>\n",
       "      <th>dctermsAlternative.en</th>\n",
       "      <th>dctermsAlternative.it</th>\n",
       "      <th>dctermsExtent.def</th>\n",
       "      <th>dctermsIsPartOf.def</th>\n",
       "      <th>dctermsIsPartOf.en</th>\n",
       "      <th>dctermsIssued.def</th>\n",
       "      <th>item_id</th>\n",
       "    </tr>\n",
       "  </thead>\n",
       "  <tbody>\n",
       "    <tr>\n",
       "      <th>0</th>\n",
       "      <td>/proxy/provider/2051933/data_euscreenXL_EUS_FF...</td>\n",
       "      <td>[/aggregation/provider/2051933/data_euscreenXL...</td>\n",
       "      <td>/item/2051933/data_euscreenXL_EUS_FFE4654D917A...</td>\n",
       "      <td>NaN</td>\n",
       "      <td>VIDEO</td>\n",
       "      <td>False</td>\n",
       "      <td>[OC015006]</td>\n",
       "      <td>NaN</td>\n",
       "      <td>[http://www.wikidata.org/entity/Q38926]</td>\n",
       "      <td>[Japan]</td>\n",
       "      <td>[Extended description: Giappone: veduta estern...</td>\n",
       "      <td>[Japan: big concert of sacred court music Gaga...</td>\n",
       "      <td>[Original language summary:  Giappone: grande ...</td>\n",
       "      <td>[ASPECT RATIO: 4:3, Black &amp; White, Mono, VIDEO]</td>\n",
       "      <td>[Italian]</td>\n",
       "      <td>[INCOM]</td>\n",
       "      <td>[All rights reserved Istituto Luce Cinecittà]</td>\n",
       "      <td>[National holidays, festivals, anniversaries a...</td>\n",
       "      <td>[Variety]</td>\n",
       "      <td>[Varietà]</td>\n",
       "      <td>[CLIP]</td>\n",
       "      <td>[SERIES TITLE: Horizon film magazine]</td>\n",
       "      <td>[Orizzonte cinematografico]</td>\n",
       "      <td>[00:01:00]</td>\n",
       "      <td>[http://mint-projects.image.ntua.gr/data/euscr...</td>\n",
       "      <td>[Europeana Subtitled]</td>\n",
       "      <td>[01/05/1959]</td>\n",
       "      <td>/2051933/data_euscreenXL_EUS_FFE4654D917AF1BD8...</td>\n",
       "    </tr>\n",
       "    <tr>\n",
       "      <th>1</th>\n",
       "      <td>/proxy/provider/2051933/data_euscreenXL_EUS_FF...</td>\n",
       "      <td>[/aggregation/provider/2051933/data_euscreenXL...</td>\n",
       "      <td>/item/2051933/data_euscreenXL_EUS_FFDF4E85015E...</td>\n",
       "      <td>NaN</td>\n",
       "      <td>VIDEO</td>\n",
       "      <td>False</td>\n",
       "      <td>[OC030601]</td>\n",
       "      <td>NaN</td>\n",
       "      <td>[http://www.wikidata.org/entity/Q38926]</td>\n",
       "      <td>[Rome, Milan, New York]</td>\n",
       "      <td>[Extended description: Roma|immagini del saggi...</td>\n",
       "      <td>[Italy: the Academy of the finance police cele...</td>\n",
       "      <td>[Original language summary:  Italia: L'Accadem...</td>\n",
       "      <td>[ASPECT RATIO: 4:3, Black &amp; White, Mono, VIDEO]</td>\n",
       "      <td>[Italian]</td>\n",
       "      <td>[INCOM]</td>\n",
       "      <td>[All rights reserved Istituto Luce Cinecittà]</td>\n",
       "      <td>[Education, http://thesaurus.euscreen.eu/EUscr...</td>\n",
       "      <td>[News through objective lens]</td>\n",
       "      <td>[Cronaca con l'obiettivo]</td>\n",
       "      <td>[CLIP]</td>\n",
       "      <td>[SERIES TITLE: Horizon film magazine]</td>\n",
       "      <td>[Orizzonte cinematografico]</td>\n",
       "      <td>[00:03:30]</td>\n",
       "      <td>[http://mint-projects.image.ntua.gr/data/euscr...</td>\n",
       "      <td>[Europeana Subtitled]</td>\n",
       "      <td>[01/05/1962]</td>\n",
       "      <td>/2051933/data_euscreenXL_EUS_FFDF4E85015E29F74...</td>\n",
       "    </tr>\n",
       "  </tbody>\n",
       "</table>\n",
       "</div>"
      ],
      "text/plain": [
       "                                               about  \\\n",
       "0  /proxy/provider/2051933/data_euscreenXL_EUS_FF...   \n",
       "1  /proxy/provider/2051933/data_euscreenXL_EUS_FF...   \n",
       "\n",
       "                                             proxyIn  \\\n",
       "0  [/aggregation/provider/2051933/data_euscreenXL...   \n",
       "1  [/aggregation/provider/2051933/data_euscreenXL...   \n",
       "\n",
       "                                            proxyFor lineage edmType  \\\n",
       "0  /item/2051933/data_euscreenXL_EUS_FFE4654D917A...     NaN   VIDEO   \n",
       "1  /item/2051933/data_euscreenXL_EUS_FFDF4E85015E...     NaN   VIDEO   \n",
       "\n",
       "  europeanaProxy dcIdentifier.def dcLanguage.def  \\\n",
       "0          False       [OC015006]            NaN   \n",
       "1          False       [OC030601]            NaN   \n",
       "\n",
       "                                dcType.def       dctermsSpatial.def  \\\n",
       "0  [http://www.wikidata.org/entity/Q38926]                  [Japan]   \n",
       "1  [http://www.wikidata.org/entity/Q38926]  [Rome, Milan, New York]   \n",
       "\n",
       "                                   dcDescription.def  \\\n",
       "0  [Extended description: Giappone: veduta estern...   \n",
       "1  [Extended description: Roma|immagini del saggi...   \n",
       "\n",
       "                                    dcDescription.en  \\\n",
       "0  [Japan: big concert of sacred court music Gaga...   \n",
       "1  [Italy: the Academy of the finance police cele...   \n",
       "\n",
       "                                    dcDescription.it  \\\n",
       "0  [Original language summary:  Giappone: grande ...   \n",
       "1  [Original language summary:  Italia: L'Accadem...   \n",
       "\n",
       "                                       dcFormat.en dcLanguage.en  \\\n",
       "0  [ASPECT RATIO: 4:3, Black & White, Mono, VIDEO]     [Italian]   \n",
       "1  [ASPECT RATIO: 4:3, Black & White, Mono, VIDEO]     [Italian]   \n",
       "\n",
       "  dcPublisher.def                                    dcRights.en  \\\n",
       "0         [INCOM]  [All rights reserved Istituto Luce Cinecittà]   \n",
       "1         [INCOM]  [All rights reserved Istituto Luce Cinecittà]   \n",
       "\n",
       "                                       dcSubject.def  \\\n",
       "0  [National holidays, festivals, anniversaries a...   \n",
       "1  [Education, http://thesaurus.euscreen.eu/EUscr...   \n",
       "\n",
       "                      dcTitle.en                 dcTitle.it dcType.en  \\\n",
       "0                      [Variety]                  [Varietà]    [CLIP]   \n",
       "1  [News through objective lens]  [Cronaca con l'obiettivo]    [CLIP]   \n",
       "\n",
       "                   dctermsAlternative.en        dctermsAlternative.it  \\\n",
       "0  [SERIES TITLE: Horizon film magazine]  [Orizzonte cinematografico]   \n",
       "1  [SERIES TITLE: Horizon film magazine]  [Orizzonte cinematografico]   \n",
       "\n",
       "  dctermsExtent.def                                dctermsIsPartOf.def  \\\n",
       "0        [00:01:00]  [http://mint-projects.image.ntua.gr/data/euscr...   \n",
       "1        [00:03:30]  [http://mint-projects.image.ntua.gr/data/euscr...   \n",
       "\n",
       "      dctermsIsPartOf.en dctermsIssued.def  \\\n",
       "0  [Europeana Subtitled]      [01/05/1959]   \n",
       "1  [Europeana Subtitled]      [01/05/1962]   \n",
       "\n",
       "                                             item_id  \n",
       "0  /2051933/data_euscreenXL_EUS_FFE4654D917AF1BD8...  \n",
       "1  /2051933/data_euscreenXL_EUS_FFDF4E85015E29F74...  "
      ]
     },
     "execution_count": 128,
     "metadata": {},
     "output_type": "execute_result"
    }
   ],
   "source": [
    "query='(edm_datasetName:2051933*)'\n",
    "\n",
    "df, lst_json, lst_web=fin_records(query,2,1)\n",
    "df"
   ]
  },
  {
   "cell_type": "markdown",
   "id": "56ec4f4a-1550-4e93-915b-a383200d298a",
   "metadata": {},
   "source": [
    "Based on the search example above I have manually selected the following records from the aggregators, from the mentioned datasets [here](https://docs.google.com/spreadsheets/d/1M7dms5rEVKbijxZPNBhZh3JxnwA_T0KWei4zdR74Lb0/edit#gid=0). I have looked for meaningful values in the relevant fields on the provider/aggregator proxies.\n",
    "The records are subdivided per aggregator."
   ]
  },
  {
   "cell_type": "markdown",
   "id": "67d50752-bba1-4f64-8db5-e68c29ccb05c",
   "metadata": {},
   "source": [
    "## Euscreen"
   ]
  },
  {
   "cell_type": "code",
   "execution_count": 20,
   "id": "7e0bf93c-6ac2-4411-bde5-6e1ff8e263ae",
   "metadata": {
    "tags": []
   },
   "outputs": [],
   "source": [
    "#EuSCREEN\n",
    "# query='(edm_datasetName:2051914* AND proxy_dc_terms_temporal:*)' gives no result suggesting there are no items with dc_terms_temporal in the dataset, same ofr dc_terms_spatial in contrast with notes aggregator\n",
    "# checked in both italian and english\n",
    "\n",
    "# dc description in both en en nl, dc subject in both nl and en, dc title in both nl and en, dc terms alternative in both, dc Spatial in both en and nl\n",
    "data_1='https://search-api.europeana.eu/record/2051906/data_euscreenXL_https___www_openbeelden_nl_media_9972.json?wskey=api2demo'\n",
    "#dc format dc type in english\n",
    "data_2='https://search-api.europeana.eu/record/2051918/data_euscreenXL_EUS_FFDCE2AB00B2936EC29312E656622105.json?wskey=api2demo',\n",
    "#dc type and dc format in english only, dc terms alternative in both en and it\n",
    "data_3='https://search-api.europeana.eu/record/2051933/data_euscreenXL_EUS_FFE4654D917AF1BD85344825D9B62172.json?wskey=api2demo'\n",
    "#dctype only in french\n",
    "data_4 ='https://search-api.europeana.eu/record/2051908/data_euscreenXL_ina_VDX14007632.json?wskey=api2demo',\n",
    "#interesting for dc description field mixed french/italian\n",
    "data_='https://search-api.europeana.eu/record/2051935/data_euscreenXL_EUS_FF97A8E4FCADBAE5A90F9650F923CAF3.json?wskey=api2demo'"
   ]
  },
  {
   "cell_type": "markdown",
   "id": "4f39d8a9-2ee6-4b6a-b7d7-bf942a8a7a8e",
   "metadata": {},
   "source": [
    "# Museu"
   ]
  },
  {
   "cell_type": "code",
   "execution_count": 21,
   "id": "3499facb-abd3-4e99-8fc1-ef6fe9ec76b7",
   "metadata": {
    "tags": []
   },
   "outputs": [],
   "source": [
    "#dc_termsmedium and dc_format in french only\n",
    "data_5= 'https://search-api.europeana.eu/record/2048001/AP_10450606.json?wskey=api2demo',\n",
    "\n",
    "\n",
    "#dc_termsmedium  dc_format in dutch only\n",
    "data_6='https://search-api.europeana.eu/record/2048001/AP_10407814.json?wskey=api2demo'\n",
    "\n",
    "#dc_description and title in italian\n",
    "data_7='https://search-api.europeana.eu/record/226/96_eikonprojekt_RM_2010.json?wskey=api2demo',\n",
    "\n",
    "#dcterms_medium and type in french only\n",
    "data_8='https://search-api.europeana.eu/record/2048001/AP_10450615.json?wskey=api2demo'\n",
    "\n",
    "#dctype and dcspatial in french and english, format in eng nl, and fr\n",
    "data_9='https://search-api.europeana.eu/record/322/Museu_ProvidedCHO_Mus_es_Royaux_d_Art_et_d_Histoire_94355.json?wskey=api2demo',"
   ]
  },
  {
   "cell_type": "markdown",
   "id": "bbc97d05-a6c5-4053-a265-1360a87e473c",
   "metadata": {},
   "source": [
    "# Fashion"
   ]
  },
  {
   "cell_type": "code",
   "execution_count": 22,
   "id": "c6f89a1c-6484-4312-b4be-af6debf65a72",
   "metadata": {
    "tags": []
   },
   "outputs": [],
   "source": [
    "#dctempral in dutch\n",
    "data_10='https://search-api.europeana.eu/record/2048230/europeana_fashion_9927.json?wskey=api2demo'\n",
    "\n",
    "\n",
    "#dcterms spatial in dutch\n",
    "data_11='https://search-api.europeana.eu/record/2048230/europeana_fashion_920.json?wskey=api2demo',\n",
    "\n",
    "# dctitle in french\n",
    "data_12='https://search-api.europeana.eu/record/2048218/europeana_fashion_mad_638.json?wskey=api2demo'\n",
    "\n",
    "data_= 'https://search-api.europeana.eu/record/2048227/europeana_fashion_S_2_002.json?wskey=api2demo'\n",
    "\n",
    "data___= 'https://search-api.europeana.eu/record/2048205/europeana_fashion_SC0215701.json?wskey=api2demo'"
   ]
  }
 ],
 "metadata": {
  "kernelspec": {
   "display_name": "Python 3 (ipykernel)",
   "language": "python",
   "name": "python3"
  },
  "language_info": {
   "codemirror_mode": {
    "name": "ipython",
    "version": 3
   },
   "file_extension": ".py",
   "mimetype": "text/x-python",
   "name": "python",
   "nbconvert_exporter": "python",
   "pygments_lexer": "ipython3",
   "version": "3.9.12"
  }
 },
 "nbformat": 4,
 "nbformat_minor": 5
}
