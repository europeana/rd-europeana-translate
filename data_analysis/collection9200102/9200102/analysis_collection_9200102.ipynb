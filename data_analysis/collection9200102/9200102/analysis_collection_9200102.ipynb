{
 "cells": [
  {
   "cell_type": "code",
   "execution_count": 1,
   "id": "4d927df3-fd29-4bd2-9e95-bdd28abdd07b",
   "metadata": {},
   "outputs": [],
   "source": [
    "import pandas as pd\n",
    "import os\n",
    "import json\n",
    "import matplotlib.pyplot as plt"
   ]
  },
  {
   "cell_type": "markdown",
   "id": "12ab9954-9f16-47ce-a661-eb336045d26e",
   "metadata": {},
   "source": [
    "# Introduction"
   ]
  },
  {
   "cell_type": "markdown",
   "id": "6a25bbe5-1040-4030-90d7-041b1e5252f4",
   "metadata": {},
   "source": [
    "This notebook analyses some properties the Europeana collection 9200102 - in the form of the corresponding bilingual file - produced by NTUA (Arne).\n",
    "This collection was removed in the latest Europeana dump we analysed (June 2022) while was present in the dump from February 2022. <br>\n",
    "The question is if it is worth to have it in terms of useful bilingual data."
   ]
  },
  {
   "cell_type": "markdown",
   "id": "43fc57d6-03ca-479c-b2b8-35c7367e4c5c",
   "metadata": {},
   "source": [
    "We analyse \n",
    "- For how many metadata fields the english part is equal to the spanish one - these are not valid bilingual metadata fields\n",
    "- For how many metadata fields the english part is not equal to the spanish one, in this case we are dealing with genuine bilingual metadata fields\n"
   ]
  },
  {
   "cell_type": "code",
   "execution_count": 2,
   "id": "23b23966-1f14-4431-9ff3-22db3e9912d7",
   "metadata": {},
   "outputs": [],
   "source": [
    "file='bilingual.json'"
   ]
  },
  {
   "cell_type": "code",
   "execution_count": 3,
   "id": "b6b653af-9090-417e-a924-7f158370ea7d",
   "metadata": {},
   "outputs": [],
   "source": [
    "  \n",
    "# Opening JSON file\n",
    "f = open(file)\n",
    "  \n",
    "# returns JSON object \n",
    "data = json.load(f)\n",
    "length_en_metadata=[]\n",
    "iter_bil_same=0\n",
    "iter_bil_not_same=0\n",
    "for i in data['en-es']:\n",
    "    if i['en']==i['es']:\n",
    "        iter_bil_same=iter_bil_same+1\n",
    "    else:\n",
    "        length_en_metadata.append(len(i['en'].split()))\n",
    "        iter_bil_not_same=iter_bil_not_same+1  \n",
    "\n",
    "#Closing file\n",
    "f.close()"
   ]
  },
  {
   "cell_type": "code",
   "execution_count": 4,
   "id": "36425fe6-0ad2-49a1-aa86-a69dcfda9f89",
   "metadata": {},
   "outputs": [],
   "source": [
    "# plotting the distribution of genuine metadata fields that have spanish translation"
   ]
  },
  {
   "cell_type": "code",
   "execution_count": 5,
   "id": "b83246e8-3e1a-44f5-b5a7-b0a451397297",
   "metadata": {},
   "outputs": [
    {
     "data": {
      "image/png": "[encoded data removed]",
      "text/plain": [
       "<Figure size 432x288 with 1 Axes>"
      ]
     },
     "metadata": {
      "needs_background": "light"
     },
     "output_type": "display_data"
    }
   ],
   "source": [
    "plt.hist(length_en_metadata,bins=100);"
   ]
  },
  {
   "cell_type": "code",
   "execution_count": 6,
   "id": "e8a65e04-ecf3-4ee7-af92-d70954b4c1a9",
   "metadata": {},
   "outputs": [
    {
     "data": {
      "text/plain": [
       "1473"
      ]
     },
     "execution_count": 6,
     "metadata": {},
     "output_type": "execute_result"
    }
   ],
   "source": [
    "iter_bil_same"
   ]
  },
  {
   "cell_type": "code",
   "execution_count": 7,
   "id": "40ac2c65-480e-4de2-9927-e92a60f1d92d",
   "metadata": {},
   "outputs": [
    {
     "data": {
      "text/plain": [
       "11793"
      ]
     },
     "execution_count": 7,
     "metadata": {},
     "output_type": "execute_result"
    }
   ],
   "source": [
    "iter_bil_not_same"
   ]
  },
  {
   "cell_type": "markdown",
   "id": "637a15cd-3268-42a2-81d5-3af1da8d204e",
   "metadata": {},
   "source": [
    "# Conclusions"
   ]
  },
  {
   "cell_type": "markdown",
   "id": "ee5bc44a-90f2-4b18-8dcb-06f200a0e08f",
   "metadata": {},
   "source": [
    "There are about 12000 bilingual fields (en-es) therefore it makes sense to make use of this collection as source of training data for the Europeana translate project."
   ]
  }
 ],
 "metadata": {
  "kernelspec": {
   "display_name": "Python 3 (ipykernel)",
   "language": "python",
   "name": "python3"
  },
  "language_info": {
   "codemirror_mode": {
    "name": "ipython",
    "version": 3
   },
   "file_extension": ".py",
   "mimetype": "text/x-python",
   "name": "python",
   "nbconvert_exporter": "python",
   "pygments_lexer": "ipython3",
   "version": "3.9.7"
  }
 },
 "nbformat": 4,
 "nbformat_minor": 5
}
