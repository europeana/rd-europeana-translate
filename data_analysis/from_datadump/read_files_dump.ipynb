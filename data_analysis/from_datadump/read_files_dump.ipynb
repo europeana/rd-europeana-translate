{
 "cells": [
  {
   "cell_type": "code",
   "execution_count": 1,
   "id": "4d927df3-fd29-4bd2-9e95-bdd28abdd07b",
   "metadata": {},
   "outputs": [],
   "source": [
    "import pandas as pd\n",
    "import os\n",
    "from zipfile import ZipFile\n",
    "from bs4 import BeautifulSoup"
   ]
  },
  {
   "cell_type": "markdown",
   "id": "f5c3491d-29ba-4994-bfca-d993127d072d",
   "metadata": {},
   "source": [
    "# Analysis on data dump\n",
    "This notebook is to learn reading data dumps directly form the server (Rnd2) as opposed to obtain the data through API calls"
   ]
  },
  {
   "cell_type": "markdown",
   "id": "4308626d-760c-41ea-8f70-fb2c8fe91237",
   "metadata": {},
   "source": [
    "Recent data dump with normalized lang tags produced at the end of June 2022 for the project Etranslate"
   ]
  },
  {
   "cell_type": "code",
   "execution_count": 1,
   "id": "c9ad45a8-7c4f-46a6-b842-afb798de35d0",
   "metadata": {},
   "outputs": [],
   "source": [
    "#data dump location\n",
    "data_path=\"/projects/etranslate-data-dump\""
   ]
  },
  {
   "cell_type": "code",
   "execution_count": 2,
   "id": "40b170d1-fcdd-4164-ac6b-2ba6449b088d",
   "metadata": {},
   "outputs": [
    {
     "name": "stdout",
     "output_type": "stream",
     "text": [
      "/home/pscalia/git/rd-europeana-translate/data_analysis/from_datadump\n"
     ]
    }
   ],
   "source": [
    "!pwd"
   ]
  },
  {
   "cell_type": "code",
   "execution_count": 12,
   "id": "b397922b-9447-4146-8a00-475e81b00c08",
   "metadata": {},
   "outputs": [],
   "source": [
    "#listing files in directory\n",
    "list_data_files=os.listdir(data_path)"
   ]
  },
  {
   "cell_type": "code",
   "execution_count": null,
   "id": "b0fcf2ff-4264-48fc-9c60-d0b01bb3b688",
   "metadata": {},
   "outputs": [],
   "source": []
  },
  {
   "cell_type": "code",
   "execution_count": null,
   "id": "d6f39044-88fc-4b24-a1df-697cb8e72176",
   "metadata": {},
   "outputs": [],
   "source": []
  },
  {
   "cell_type": "code",
   "execution_count": 8,
   "id": "56ff76c2-fe23-4e1c-8dd4-1e2ab92ead4a",
   "metadata": {},
   "outputs": [
    {
     "data": {
      "text/plain": [
       "2051943"
      ]
     },
     "execution_count": 8,
     "metadata": {},
     "output_type": "execute_result"
    }
   ],
   "source": [
    "2051943"
   ]
  },
  {
   "cell_type": "code",
   "execution_count": 17,
   "id": "20f02373-dd78-4bb7-bd57-a8f3aad6db8c",
   "metadata": {},
   "outputs": [
    {
     "data": {
      "text/plain": [
       "'/projects/etranslate-data-dump/2051943.zip'"
      ]
     },
     "execution_count": 17,
     "metadata": {},
     "output_type": "execute_result"
    }
   ],
   "source": [
    "#locating zip file. Each zip file  contains a collection\n",
    "file_name = os.path.join(data_path,'2051943.zip')\n",
    "file_name"
   ]
  },
  {
   "cell_type": "code",
   "execution_count": 18,
   "id": "5857c615-597b-4b30-80e2-dc437fd0da8d",
   "metadata": {},
   "outputs": [],
   "source": [
    "#reading files that"
   ]
  },
  {
   "cell_type": "code",
   "execution_count": null,
   "id": "bb04f3b1-51be-49cf-82e6-c424d0e12ad6",
   "metadata": {},
   "outputs": [],
   "source": [
    "# extrecting  files that have not been extracted\n",
    "with ZipFile(file_name, 'r') as zipObject:\n",
    " listOfFileNames = zipObject.namelist()\n",
    " for fileName in listOfFileNames:\n",
    "        if os.path.isfile(fileName):\n",
    "           # Extract a single file from zip\n",
    "            print('file already exist')\n",
    "        else:\n",
    "            zipObject.extract(fileName)\n",
    "            print('file extracted')"
   ]
  },
  {
   "cell_type": "code",
   "execution_count": 46,
   "id": "23b0ae9a-25c9-48eb-914e-2029e0b6b79c",
   "metadata": {},
   "outputs": [],
   "source": [
    "#open one of the xml unzipped files\n",
    "with open(listOfFileNames[0], 'r') as f:\n",
    "\tfile = f.read() "
   ]
  },
  {
   "cell_type": "code",
   "execution_count": 47,
   "id": "1f26e605-4fbc-4e84-890c-15eb53ca4852",
   "metadata": {},
   "outputs": [],
   "source": [
    "#use beaut soup for parsing xml\n",
    "soup = BeautifulSoup(file, 'xml')"
   ]
  },
  {
   "cell_type": "code",
   "execution_count": null,
   "id": "2b281d2b-d47c-4233-887d-83a2adc67484",
   "metadata": {},
   "outputs": [],
   "source": [
    "#finding all description tag\n",
    "soup.find('description')"
   ]
  },
  {
   "cell_type": "code",
   "execution_count": null,
   "id": "e9f21db1-7e6c-40ff-a188-8a0246d39916",
   "metadata": {},
   "outputs": [],
   "source": [
    "t.text"
   ]
  },
  {
   "cell_type": "code",
   "execution_count": null,
   "id": "28651b98-b4bd-438d-8183-6433389e39e9",
   "metadata": {},
   "outputs": [],
   "source": [
    "# find attributes of title\n",
    "soup.find()"
   ]
  },
  {
   "cell_type": "markdown",
   "id": "da9b0f7d-d0a2-4308-b436-e18e60f8d859",
   "metadata": {},
   "source": [
    "# Experiment 1: extract all german text"
   ]
  },
  {
   "cell_type": "code",
   "execution_count": null,
   "id": "bc642c66-a059-46d5-93be-17feee156589",
   "metadata": {},
   "outputs": [],
   "source": [
    "listOfFileNames"
   ]
  },
  {
   "cell_type": "code",
   "execution_count": null,
   "id": "ca0d41b6-ca12-4971-bd52-9059aa711bc5",
   "metadata": {},
   "outputs": [],
   "source": [
    "with ZipFile(file_name, 'r') as zipObject:\n",
    " listOfFileNames = zipObject.namelist()\n",
    " for fileName in listOfFileNames:\n",
    "        if os.path.isfile(fileName):\n",
    "           # Extract a single file from zip\n",
    "            print('file already exist')\n",
    "            print(fileName)\n",
    "        else:\n",
    "            zipObject.extract(fileName)\n",
    "            print('file extracted') "
   ]
  },
  {
   "cell_type": "code",
   "execution_count": 7,
   "id": "9d6f5305-e502-48fe-a4f2-35113255c955",
   "metadata": {},
   "outputs": [],
   "source": [
    "def read_single_collection(listOfFileNames, field):\n",
    "    lang_tags=[]\n",
    "    for filename in listOfFileNames:\n",
    "        with open(filename, 'r') as f:\n",
    "            file = f.read() \n",
    "        soup = BeautifulSoup(file, 'xml')\n",
    "        t=soup.find(f'{field}')\n",
    "        lang=t.get('xml:lang')\n",
    "        if lang:\n",
    "            lang_tags.append(lang)\n",
    "    return lang_tags"
   ]
  },
  {
   "cell_type": "code",
   "execution_count": null,
   "id": "3dc8b479-2c19-4b89-8992-9a3001a50a4d",
   "metadata": {},
   "outputs": [],
   "source": [
    "list_data_files=os.listdir(data_path) #list of zip files\n",
    "for zip_file in list_data_files:\n",
    "    file_name = os.path.join(data_path,  zip_file) #name of zip file\n",
    "    print(file_name)\n",
    "    with ZipFile(file_name, 'r') as zipObject:\n",
    "        listOfFileNames = zipObject.namelist()\n",
    "        for fileName in listOfFileNames:\n",
    "                if os.path.isfile(fileName):\n",
    "                   # Extract a single file from zip\n",
    "                   print('file exists')\n",
    "                   os.remove(fileName)  \n",
    "                else:\n",
    "                    pass\n",
    "         \n",
    "        \n",
    "                \n",
    "                #     extracted_file=zipObject.extract(fileName)\n",
    "                #     print('file extracted')\n",
    "                #     with open( extracted_file, 'r') as f:\n",
    "                #         file = f.read() \n",
    "                #     soup = BeautifulSoup(file, 'xml')\n",
    "                #     t=soup.find('description')\n",
    "                #     print(t.get('xml:lang'))\n",
    "                #     print('file extracted')"
   ]
  },
  {
   "cell_type": "code",
   "execution_count": 38,
   "id": "1fc5810d-b794-432f-8347-588ad65e185f",
   "metadata": {},
   "outputs": [
    {
     "ename": "SyntaxError",
     "evalue": "unexpected EOF while parsing (1312526846.py, line 2)",
     "output_type": "error",
     "traceback": [
      "\u001b[0;36m  File \u001b[0;32m\"/tmp/ipykernel_6303/1312526846.py\"\u001b[0;36m, line \u001b[0;32m2\u001b[0m\n\u001b[0;31m    print(\"{} : {}, {}°\".format(values[\"from\"], values.find(\"symbol\")[\"name\"], values.fin\u001b[0m\n\u001b[0m                                                                                         ^\u001b[0m\n\u001b[0;31mSyntaxError\u001b[0m\u001b[0;31m:\u001b[0m unexpected EOF while parsing\n"
     ]
    }
   ],
   "source": [
    "for values in soup.findAll(\"time\"):\n",
    "    print(\"{} : {}, {}°\".format(values[\"from\"], values.find(\"symbol\")[\"name\"], values.fin"
   ]
  },
  {
   "cell_type": "code",
   "execution_count": null,
   "id": "bbc314ef-c742-4c25-a22f-9e016621c1d4",
   "metadata": {},
   "outputs": [],
   "source": [
    "file_name = os.path.join(data_path,  '2051943.zip')\n",
    "file_name"
   ]
  },
  {
   "cell_type": "code",
   "execution_count": 61,
   "id": "f82b3a50-4523-42b9-990f-bf4c554c4c47",
   "metadata": {},
   "outputs": [
    {
     "data": {
      "text/plain": [
       "<dcterms:temporal xml:lang=\"de\">Mai 1952</dcterms:temporal>"
      ]
     },
     "execution_count": 61,
     "metadata": {},
     "output_type": "execute_result"
    }
   ],
   "source": [
    "with open('plink__f_1_100475.xml', 'r') as f:\n",
    "    file = f.read() \n",
    "soup = BeautifulSoup(file, 'xml')\n",
    "t=soup.find('temporal')\n",
    "#t.get('xml:lang')\n",
    "t"
   ]
  },
  {
   "cell_type": "code",
   "execution_count": 15,
   "id": "1cb65dab-6eed-4b44-8350-f924c820f4e8",
   "metadata": {},
   "outputs": [
    {
     "data": {
      "text/plain": [
       "'/projects/etranslate-data-dump/2051943.zip'"
      ]
     },
     "execution_count": 15,
     "metadata": {},
     "output_type": "execute_result"
    }
   ],
   "source": [
    "file_name = os.path.join(data_path,  '2051943.zip')\n",
    "file_name\n",
    "    "
   ]
  },
  {
   "cell_type": "code",
   "execution_count": null,
   "id": "95779a2c-1039-4988-bb13-51a6d27c2830",
   "metadata": {},
   "outputs": [],
   "source": []
  },
  {
   "cell_type": "code",
   "execution_count": null,
   "id": "2be8ec4b-b282-40be-85d4-baa7ae072eda",
   "metadata": {},
   "outputs": [],
   "source": [
    "file_name = os.path.join(data_path,  list_data_files[2])"
   ]
  },
  {
   "cell_type": "code",
   "execution_count": null,
   "id": "8aea414d-bb2d-4afd-a33b-b27e01b920d3",
   "metadata": {},
   "outputs": [],
   "source": [
    "with ZipFile(file_name, 'r') as zipObject:\n",
    "    listOfFileNames = zipObject.namelist()\n",
    " for fileName in listOfFileNames:\n",
    "        if os.path.isfile(fileName):\n",
    "           # Extract a single file from zip\n",
    "            print('file already exist')\n",
    "        else:\n",
    "            data=zipObject.extract(fileName)\n",
    "            print('file extracted')"
   ]
  },
  {
   "cell_type": "code",
   "execution_count": null,
   "id": "87220c18-4c10-447c-9fdd-01f09dffe741",
   "metadata": {},
   "outputs": [],
   "source": [
    "#alternative to find keyword in file?\n",
    "keyword = 'your_keyword'\n",
    "for file in files:\n",
    "    if os.path.isfile(os.path.join(your_path, file)):\n",
    "        f = open(os.path.join(your_path, file),'r')\n",
    "        for x in f:\n",
    "            if keyword in x:\n",
    "                #do what you want\n",
    "        f.close()"
   ]
  }
 ],
 "metadata": {
  "kernelspec": {
   "display_name": "Python 3 (ipykernel)",
   "language": "python",
   "name": "python3"
  },
  "language_info": {
   "codemirror_mode": {
    "name": "ipython",
    "version": 3
   },
   "file_extension": ".py",
   "mimetype": "text/x-python",
   "name": "python",
   "nbconvert_exporter": "python",
   "pygments_lexer": "ipython3",
   "version": "3.9.7"
  }
 },
 "nbformat": 4,
 "nbformat_minor": 5
}
