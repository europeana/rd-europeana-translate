{
 "cells": [
  {
   "cell_type": "code",
   "execution_count": 253,
   "id": "4d927df3-fd29-4bd2-9e95-bdd28abdd07b",
   "metadata": {},
   "outputs": [],
   "source": [
    "import pandas as pd\n",
    "import os\n",
    "from zipfile import ZipFile\n",
    "from bs4 import BeautifulSoup"
   ]
  },
  {
   "cell_type": "markdown",
   "id": "f5c3491d-29ba-4994-bfca-d993127d072d",
   "metadata": {},
   "source": [
    "# Analysis on data dump\n",
    "This notebook is to learn reading data dumps directly form the server (Rnd2) as opposed to obtain the data through API calls"
   ]
  },
  {
   "cell_type": "markdown",
   "id": "4308626d-760c-41ea-8f70-fb2c8fe91237",
   "metadata": {},
   "source": [
    "Recent data dump with normalized lang tags produced at the end of June 2022 for the project Etranslate"
   ]
  },
  {
   "cell_type": "code",
   "execution_count": 254,
   "id": "c9ad45a8-7c4f-46a6-b842-afb798de35d0",
   "metadata": {},
   "outputs": [],
   "source": [
    "#data dump location\n",
    "data_path=\"/projects/etranslate-data-dump\""
   ]
  },
  {
   "cell_type": "code",
   "execution_count": 255,
   "id": "b397922b-9447-4146-8a00-475e81b00c08",
   "metadata": {},
   "outputs": [
    {
     "data": {
      "text/plain": [
       "'00719.zip'"
      ]
     },
     "execution_count": 255,
     "metadata": {},
     "output_type": "execute_result"
    }
   ],
   "source": [
    "#listing files in directory\n",
    "list_data_files=os.listdir(data_path)\n",
    "list_data_files[2]"
   ]
  },
  {
   "cell_type": "code",
   "execution_count": 256,
   "id": "20f02373-dd78-4bb7-bd57-a8f3aad6db8c",
   "metadata": {},
   "outputs": [],
   "source": [
    "#locating zip file. Each zip file  contains a collection\n",
    "file_name = os.path.join(data_path,  list_data_files[2])"
   ]
  },
  {
   "cell_type": "code",
   "execution_count": null,
   "id": "5857c615-597b-4b30-80e2-dc437fd0da8d",
   "metadata": {},
   "outputs": [],
   "source": [
    "#reading files that"
   ]
  },
  {
   "cell_type": "code",
   "execution_count": 264,
   "id": "bb04f3b1-51be-49cf-82e6-c424d0e12ad6",
   "metadata": {},
   "outputs": [
    {
     "name": "stdout",
     "output_type": "stream",
     "text": [
      "file already exist\n",
      "file already exist\n",
      "file already exist\n",
      "file already exist\n",
      "file already exist\n",
      "file already exist\n",
      "file already exist\n",
      "file already exist\n",
      "file already exist\n",
      "file already exist\n",
      "file already exist\n",
      "file already exist\n",
      "file already exist\n",
      "file already exist\n",
      "file already exist\n",
      "file already exist\n",
      "file already exist\n",
      "file already exist\n",
      "file already exist\n",
      "file already exist\n",
      "file already exist\n",
      "file already exist\n",
      "file already exist\n",
      "file already exist\n",
      "file already exist\n",
      "file already exist\n",
      "file already exist\n",
      "file already exist\n",
      "file already exist\n",
      "file already exist\n",
      "file already exist\n",
      "file already exist\n",
      "file already exist\n",
      "file already exist\n",
      "file already exist\n",
      "file already exist\n",
      "file already exist\n",
      "file already exist\n",
      "file already exist\n",
      "file already exist\n",
      "file already exist\n",
      "file already exist\n",
      "file already exist\n",
      "file already exist\n"
     ]
    }
   ],
   "source": [
    "# extrecting  files that have not been extracted\n",
    "with ZipFile(file_name, 'r') as zipObject:\n",
    " listOfFileNames = zipObject.namelist()\n",
    " for fileName in listOfFileNames:\n",
    "        if os.path.isfile(fileName):\n",
    "           # Extract a single file from zip\n",
    "            print('file already exist')\n",
    "        else:\n",
    "            zipObject.extract(fileName)\n",
    "            print('file extracted')"
   ]
  },
  {
   "cell_type": "code",
   "execution_count": 265,
   "id": "23b0ae9a-25c9-48eb-914e-2029e0b6b79c",
   "metadata": {},
   "outputs": [],
   "source": [
    "#open one of the xml unzipped files\n",
    "with open(listOfFileNames[0], 'r') as f:\n",
    "\tfile = f.read() "
   ]
  },
  {
   "cell_type": "code",
   "execution_count": 266,
   "id": "1f26e605-4fbc-4e84-890c-15eb53ca4852",
   "metadata": {},
   "outputs": [],
   "source": [
    "#use beaut soup for parsing xml\n",
    "soup = BeautifulSoup(file, 'xml')"
   ]
  },
  {
   "cell_type": "code",
   "execution_count": 267,
   "id": "2b281d2b-d47c-4233-887d-83a2adc67484",
   "metadata": {},
   "outputs": [],
   "source": [
    "#finding all description tag\n",
    "t=soup.find('title')"
   ]
  },
  {
   "cell_type": "code",
   "execution_count": 268,
   "id": "e9f21db1-7e6c-40ff-a188-8a0246d39916",
   "metadata": {},
   "outputs": [
    {
     "data": {
      "text/plain": [
       "<dc:title>Entwürfe des Hauptstaatsarchivs Stuttgart für das Landeswappen, insbesondere auf der Grundlage der Wappen von Baden, Württemberg und dem Herzogtum Schwaben, Frühe Versuche einer Kombination des badischen und des württembergischen Wappens von Hansmartin Decker-Hauff</dc:title>"
      ]
     },
     "execution_count": 268,
     "metadata": {},
     "output_type": "execute_result"
    }
   ],
   "source": [
    "t"
   ]
  },
  {
   "cell_type": "code",
   "execution_count": 269,
   "id": "28651b98-b4bd-438d-8183-6433389e39e9",
   "metadata": {},
   "outputs": [
    {
     "data": {
      "text/plain": [
       "{}"
      ]
     },
     "execution_count": 269,
     "metadata": {},
     "output_type": "execute_result"
    }
   ],
   "source": [
    "# find attributes of title\n",
    "t.attrs"
   ]
  },
  {
   "cell_type": "code",
   "execution_count": null,
   "id": "87220c18-4c10-447c-9fdd-01f09dffe741",
   "metadata": {},
   "outputs": [],
   "source": [
    "#alternative to find keyword in file?\n",
    "keyword = 'your_keyword'\n",
    "for file in files:\n",
    "    if os.path.isfile(os.path.join(your_path, file)):\n",
    "        f = open(os.path.join(your_path, file),'r')\n",
    "        for x in f:\n",
    "            if keyword in x:\n",
    "                #do what you want\n",
    "        f.close()"
   ]
  }
 ],
 "metadata": {
  "kernelspec": {
   "display_name": "Python 3 (ipykernel)",
   "language": "python",
   "name": "python3"
  },
  "language_info": {
   "codemirror_mode": {
    "name": "ipython",
    "version": 3
   },
   "file_extension": ".py",
   "mimetype": "text/x-python",
   "name": "python",
   "nbconvert_exporter": "python",
   "pygments_lexer": "ipython3",
   "version": "3.9.7"
  }
 },
 "nbformat": 4,
 "nbformat_minor": 5
}
