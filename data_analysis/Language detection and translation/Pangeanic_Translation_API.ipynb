{
 "cells": [
  {
   "cell_type": "markdown",
   "id": "aa7edc7f-a48d-4f0d-9863-5537643c0ae1",
   "metadata": {},
   "source": [
    "# Test Pangeanic API for detection and translation"
   ]
  },
  {
   "cell_type": "code",
   "execution_count": 2,
   "id": "923e1f7c-ad19-4663-8ac2-d931bd3e18a3",
   "metadata": {},
   "outputs": [],
   "source": [
    "\n",
    "import requests\n",
    "import json"
   ]
  },
  {
   "cell_type": "markdown",
   "id": "dac88e48-2233-4c29-8fa7-7a112fd96cf7",
   "metadata": {},
   "source": [
    "In this notebook I perform some tests of the current version of the Pangeanic API for both labguage detection and testing. The reference document with the specifications is here \n",
    "https://docs.google.com/document/d/1hodVDOmzpEQ_jsRt-_0tUpDcQG2_KOC6G1U9Pr9jd5U/edit "
   ]
  },
  {
   "cell_type": "markdown",
   "id": "1a4cf3e0-62c2-46d5-81e8-13941df36d73",
   "metadata": {},
   "source": [
    "# Language detection"
   ]
  },
  {
   "cell_type": "markdown",
   "id": "8f4cf274-d7aa-4a11-a652-6105017e30ba",
   "metadata": {},
   "source": [
    "### Testing how numbers are handled"
   ]
  },
  {
   "cell_type": "code",
   "execution_count": 96,
   "id": "c483175e-d2b6-4837-93e9-fe37e5a3c695",
   "metadata": {
    "tags": []
   },
   "outputs": [],
   "source": [
    "#endpoint language detection\n",
    "url = \"http://prod.pangeamt.com:8080/NexRelay/v1/detect_language\""
   ]
  },
  {
   "cell_type": "code",
   "execution_count": 93,
   "id": "35a9175f-715a-4944-82b1-3188e9b8f8a5",
   "metadata": {},
   "outputs": [],
   "source": [
    "headers = {\"Authorization\": \"Bearer XPTO\"}\n",
    "\n",
    "data = {\n",
    "      \"apikey\": \"APIKEY\",\n",
    "      \"mode\": \"europeana\",\n",
    "      \"src\": [\n",
    "       \"12/2003\",\n",
    "    ],\n",
    "    \"src_lang\": \"pt\",\n",
    "}"
   ]
  },
  {
   "cell_type": "code",
   "execution_count": 94,
   "id": "aa640a41-26c5-4fe8-9062-1f3d3e335ba1",
   "metadata": {},
   "outputs": [],
   "source": [
    "response = requests.post(url, headers=headers, json=data)"
   ]
  },
  {
   "cell_type": "code",
   "execution_count": 95,
   "id": "85f2b0ac-5068-4c64-93b8-dc54ea91031d",
   "metadata": {
    "tags": []
   },
   "outputs": [
    {
     "name": "stdout",
     "output_type": "stream",
     "text": [
      "Status Code 200\n",
      "JSON Response  {'src_detected': 'es', 'src_lang_score': 0.2108}\n"
     ]
    }
   ],
   "source": [
    "print(\"Status Code\", response.status_code)\n",
    "print(\"JSON Response \", response.json())"
   ]
  },
  {
   "cell_type": "markdown",
   "id": "0305a6c5-aada-437f-bebb-fbf0a95fe947",
   "metadata": {},
   "source": [
    "Would expect 'zxx' as response because number but get 'es' insteadhttps://docs.google.com/document/d/1hodVDOmzpEQ_jsRt-_0tUpDcQG2_KOC6G1U9Pr9jd5U/edit"
   ]
  },
  {
   "cell_type": "markdown",
   "id": "4c892469-4e84-46df-94c0-42be67287294",
   "metadata": {},
   "source": [
    "### Testing detection of multiple sentences"
   ]
  },
  {
   "cell_type": "code",
   "execution_count": 96,
   "id": "2ce2aa5e-3915-46e4-a8df-8838b5145a2b",
   "metadata": {
    "tags": []
   },
   "outputs": [],
   "source": [
    "#endpoint language detection\n",
    "url = \"http://prod.pangeamt.com:8080/NexRelay/v1/detect_language\""
   ]
  },
  {
   "cell_type": "code",
   "execution_count": 101,
   "id": "5875fb02-2138-4e87-8a71-116960d16383",
   "metadata": {},
   "outputs": [],
   "source": [
    "headers = {\"Authorization\": \"Bearer XPTO\"}\n",
    "\n",
    "data = {\n",
    "      \"apikey\": \"APIKEY\",\n",
    "      \"mode\": \"europeana\",\n",
    "      \"src\": [\n",
    "       \"Isto é uma frase para teste\",\n",
    "       \"Traduit aussi cette phrase\",\n",
    "       \"2014\",\n",
    "       \"एहि वाक्यक सेहो अनुवाद करू\"\n",
    "    ],\n",
    "    \"src_lang\": \"pt\",\n",
    "}"
   ]
  },
  {
   "cell_type": "code",
   "execution_count": 102,
   "id": "320327f1-3f7b-4723-aa6e-3c674e030060",
   "metadata": {},
   "outputs": [],
   "source": [
    "response = requests.post(url, headers=headers, json=data)"
   ]
  },
  {
   "cell_type": "code",
   "execution_count": 100,
   "id": "c64adf38-1855-4ca0-9f5e-53da4024b3cc",
   "metadata": {
    "tags": []
   },
   "outputs": [
    {
     "name": "stdout",
     "output_type": "stream",
     "text": [
      "Status Code 200\n",
      "JSON Response  {'src_detected': 'pt', 'src_lang_score': 0.3443}\n"
     ]
    }
   ],
   "source": [
    "print(\"Status Code\", response.status_code)\n",
    "print(\"JSON Response \", response.json())"
   ]
  },
  {
   "cell_type": "markdown",
   "id": "24030096-1a1d-4b32-a717-eb68618fb058",
   "metadata": {},
   "source": [
    "Only the first sentence is language detected not the rest, it does not match the examples in the reference document."
   ]
  },
  {
   "cell_type": "markdown",
   "id": "2c144f5d-3110-4a58-997b-8fb1e661ad86",
   "metadata": {},
   "source": [
    "### Testing translations of multiple sentences"
   ]
  },
  {
   "cell_type": "code",
   "execution_count": 97,
   "id": "a80f4d36-a76c-46bb-b213-051114a40086",
   "metadata": {},
   "outputs": [],
   "source": [
    "url_translation='http://prod.pangeamt.com:8080/NexRelay/v1/translate'\n",
    "#endpoint translation"
   ]
  },
  {
   "cell_type": "code",
   "execution_count": 58,
   "id": "8789e43f-8fcd-434b-9585-af0e23fbc0bf",
   "metadata": {},
   "outputs": [],
   "source": [
    "data_translation={\n",
    "    \"apikey\": \"APIKEY\",\n",
    "    \"mode\": \"europeana\",\n",
    "    \"src\": [\n",
    "      \"Isto é uma frase para teste\"\n",
    "    ],\n",
    "    \"src_lang\": \"pt\",\n",
    "    \"Include_src\": \"true\",\n",
    "    \"tgt_lang\": \"en\"\n",
    "}"
   ]
  },
  {
   "cell_type": "code",
   "execution_count": 59,
   "id": "fb226dfa-5905-4af4-a321-3f63a51f1ef5",
   "metadata": {},
   "outputs": [],
   "source": [
    "response_tr = requests.post(url_translation, headers=headers, json=data_translation)"
   ]
  },
  {
   "cell_type": "code",
   "execution_count": 60,
   "id": "ba1dd32b-42ba-46bb-be8f-1854e324d416",
   "metadata": {},
   "outputs": [
    {
     "name": "stdout",
     "output_type": "stream",
     "text": [
      "Status Code 200\n",
      "JSON Response  []\n"
     ]
    }
   ],
   "source": [
    "print(\"Status Code\", response_tr.status_code)\n",
    "print(\"JSON Response \", response_tr.json())"
   ]
  },
  {
   "cell_type": "markdown",
   "id": "9570a4ba-61ab-4164-9668-a45c9947e53c",
   "metadata": {},
   "source": [
    "The Translation is empty"
   ]
  },
  {
   "cell_type": "markdown",
   "id": "e5504374-5946-4f9f-99fe-550d8c1f2f09",
   "metadata": {},
   "source": [
    "### Problems at the moment with current examples\n",
    "- Translation repsonses are empty \n",
    "- Language detection tasks with multiple sentences do not work. Return detection of only one (the first) sentence\n",
    "- Inserting number in language detection never returns 'zxx'"
   ]
  }
 ],
 "metadata": {
  "kernelspec": {
   "display_name": "Python 3 (ipykernel)",
   "language": "python",
   "name": "python3"
  },
  "language_info": {
   "codemirror_mode": {
    "name": "ipython",
    "version": 3
   },
   "file_extension": ".py",
   "mimetype": "text/x-python",
   "name": "python",
   "nbconvert_exporter": "python",
   "pygments_lexer": "ipython3",
   "version": "3.9.12"
  }
 },
 "nbformat": 4,
 "nbformat_minor": 5
}
