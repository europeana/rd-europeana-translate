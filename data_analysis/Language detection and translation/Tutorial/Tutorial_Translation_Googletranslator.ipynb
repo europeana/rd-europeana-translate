{
 "cells": [
  {
   "cell_type": "code",
   "execution_count": 1,
   "id": "6b49405d-97ad-4fd2-8a8b-1edc87499eb9",
   "metadata": {},
   "outputs": [],
   "source": [
    "# Importing main libraries\n",
    "#importing google translation service\n",
    "from deep_translator import GoogleTranslator \n",
    "#importing a a package that performs automatic scoring of translations\n",
    "#importing a a package that performs automatic scoring of translations\n",
    "#using the TER metrics\n",
    "import  pyter\n",
    "import pandas as pd\n",
    "import pyeuropeana.apis as apis\n",
    "import pyeuropeana.utils as utils\n",
    "import os\n",
    "pd.options.mode.chained_assignment = None"
   ]
  },
  {
   "cell_type": "markdown",
   "id": "f130a063-9b19-4c35-bf5d-fd92804040ef",
   "metadata": {},
   "source": [
    "# Introduction"
   ]
  },
  {
   "cell_type": "markdown",
   "id": "6b362e47-05cf-43dc-8505-eb998436617f",
   "metadata": {},
   "source": [
    "The [Europeana Foundation](https://www.europeana.eu/en) digitally collects currently more than 60 Millions Cultural Heritage (CH) records. These records are described by a series of metadata that capture the available information about the objects. For example the title, a text that describes the object, the type of the object (video, textual, etc) are all relevant metadata. \n",
    "\n",
    "One of the goals of  Europeana is to improve the multilinguality of its resources, meaning that as many objects as possible should have information available in as many languages are possible, ideally at least all the 24 European languages.\n",
    "While many records are already available in many languages, there are records that curently do not hold  yet relevant information in the language preferred by the users of the Europeana platform. \n",
    "To tackle this problem we could use an automatic translation service to achieve a fuller language coverage of the metadata. \n",
    "\n",
    "\n",
    "This notebook contains a brief demo on using the [Europeana Search API](https://pro.europeana.eu/page/search) in combination with [PyEuropeana](https://github.com/europeana/rd-europeana-python-api), a Python client library for Europeana APIs, to perform translations of metadata and evaluate their quality. Read more about how the PyEuropeana package works in the [Documentation](https://rd-europeana-python-api.readthedocs.io/en/stable/)."
   ]
  },
  {
   "cell_type": "markdown",
   "id": "e09fec05-fe60-44cd-a117-8fa0a03ea1cc",
   "metadata": {},
   "source": [
    "# PyEuropeana packakge installation"
   ]
  },
  {
   "cell_type": "markdown",
   "id": "174eba7e-3100-4350-9c2f-a17158ee7f19",
   "metadata": {},
   "source": [
    "Install PyEuropeana with pip:"
   ]
  },
  {
   "cell_type": "code",
   "execution_count": 17,
   "id": "15e911e4-bdc9-48a7-b8a0-856e6ebd90f4",
   "metadata": {},
   "outputs": [
    {
     "name": "stdout",
     "output_type": "stream",
     "text": [
      "Collecting https://github.com/europeana/rd-europeana-python-api/archive/master.zip\n",
      "  Downloading https://github.com/europeana/rd-europeana-python-api/archive/master.zip\n",
      "\u001b[K     - 3.8 MB 6.6 MB/s\n",
      "^C\n",
      "\u001b[31mERROR: Operation cancelled by user\u001b[0m\n",
      "\u001b[?25h"
     ]
    }
   ],
   "source": [
    "#%%capture\n",
    "#!pip install pyeuropeana\n",
    "!pip install https://github.com/europeana/rd-europeana-python-api/archive/master.zip"
   ]
  },
  {
   "cell_type": "code",
   "execution_count": 18,
   "id": "9ce8ece7-8803-4ebf-883c-1c86544fc00d",
   "metadata": {},
   "outputs": [],
   "source": [
    "#setting enviroment variable\n",
    "os.environ['EUROPEANA_API_KEY'] = 'api2demo'"
   ]
  },
  {
   "cell_type": "markdown",
   "id": "6d2c5101-c125-4b16-9fcc-3408885cb735",
   "metadata": {},
   "source": [
    "# Definition of the translation function"
   ]
  },
  {
   "cell_type": "markdown",
   "id": "fe22c9d4-32ef-4bb0-8d9a-a7b5b5eecfb4",
   "metadata": {},
   "source": [
    "In this section we define the function that will perform language translation of a piece of text."
   ]
  },
  {
   "cell_type": "code",
   "execution_count": 4,
   "id": "59f6a908-5e65-41fc-8cb6-1fccf52f81d7",
   "metadata": {},
   "outputs": [],
   "source": [
    "def translate(txt, target):\n",
    "    if type(txt)==str: \n",
    "        #Here we are using the GoogleTranslator library, defining a source language that is detected \n",
    "        #automatically and a target language we want the text to be translated to\n",
    "        translated=GoogleTranslator(source='auto', target=target).translate(txt)\n",
    "    else:\n",
    "        translated= 'Provided text is not a string and cannot be translated'\n",
    "    return translated"
   ]
  },
  {
   "cell_type": "markdown",
   "id": "37630ff7-42f9-44ea-9aa3-2399d49c8a62",
   "metadata": {},
   "source": [
    "Let us try if this function works on a simple piece of Dutch text to be translated to English"
   ]
  },
  {
   "cell_type": "code",
   "execution_count": 5,
   "id": "d140ebab-7e04-4519-aaa9-c10ad4f8d4ee",
   "metadata": {},
   "outputs": [
    {
     "data": {
      "text/plain": [
       "'How are you ?'"
      ]
     },
     "execution_count": 5,
     "metadata": {},
     "output_type": "execute_result"
    }
   ],
   "source": [
    "text= \"Hoe gaat het ?\"\n",
    "translation=translate(text,'en')\n",
    "translation"
   ]
  },
  {
   "cell_type": "markdown",
   "id": "fed23233-d0ac-44f6-8e01-39bd994ee660",
   "metadata": {},
   "source": [
    "It looks like it is working!"
   ]
  },
  {
   "cell_type": "markdown",
   "id": "d0b7b8da-648a-4839-9bfa-2f13b2b94f57",
   "metadata": {},
   "source": [
    "In the following we will be using the PyEuropeana module and the Search API to query the Europeana database."
   ]
  },
  {
   "cell_type": "markdown",
   "id": "fcf33c24-bccf-487a-bf55-e41ffae572ca",
   "metadata": {},
   "source": [
    "# Querying the Europeana database"
   ]
  },
  {
   "cell_type": "markdown",
   "id": "12186834-32fe-4cbd-8c03-a0410bfafacb",
   "metadata": {},
   "source": [
    "Let us specify the query we want to make and the number of CH records we would like to retrieve. The following query looks for the records that have a description in Italian and asks to retrieve 10 of them."
   ]
  },
  {
   "cell_type": "code",
   "execution_count": 6,
   "id": "db508d55-16bb-4c37-b054-43ef3e3a3e29",
   "metadata": {},
   "outputs": [],
   "source": [
    "#Here we define the query and the number of record parameters\n",
    "query= 'proxy_dc_description.it:*'\n",
    "n_CH_records=10"
   ]
  },
  {
   "cell_type": "markdown",
   "id": "17340675-13e9-4217-bf53-7134374746a8",
   "metadata": {},
   "source": [
    "Once we have defined the parameters we can perform the API call using the apis module of the PyEuropeana package"
   ]
  },
  {
   "cell_type": "code",
   "execution_count": 7,
   "id": "ef81e6b6-a03d-4841-9c73-9b237f5ca7ce",
   "metadata": {},
   "outputs": [],
   "source": [
    "response = apis.search(\n",
    "    query = query,\n",
    "    rows = n_CH_records,\n",
    "    )"
   ]
  },
  {
   "cell_type": "markdown",
   "id": "fbb99292-ed77-4090-9fb8-0d3ac0bc924c",
   "metadata": {},
   "source": [
    "Let us take a look at the call response"
   ]
  },
  {
   "cell_type": "code",
   "execution_count": null,
   "id": "4ef7c610-cda4-4800-a9f0-bab84e4b752a",
   "metadata": {
    "tags": []
   },
   "outputs": [],
   "source": [
    "response"
   ]
  },
  {
   "cell_type": "markdown",
   "id": "8f16a8b2-fdd7-46ef-b7d9-5c8fd3d8e265",
   "metadata": {},
   "source": [
    "The response is a rich and complex JSON file, which is essentially a list of nested dictionaries, in Python. The JSON format holds many different metadata fields, for example `itemCount` and `totalResults`. In many cases we are not interested in all the metadata fields, but in a subset, depending on the problem at hand. \n",
    "\n",
    "It would then be  useful if we could focus on a selection of the fields and access them in an easier to read  format than the JSON format, for example a table. The PyEuropeana module offers just that!"
   ]
  },
  {
   "cell_type": "markdown",
   "id": "eb08a62a-716d-464b-9c49-ef078a170274",
   "metadata": {},
   "source": [
    "# Selection of a subset of metadata fields"
   ]
  },
  {
   "cell_type": "markdown",
   "id": "ff5cc1a8-4f58-45f5-8bfb-f2f8d93c101a",
   "metadata": {},
   "source": [
    "Here we use the function `search2df` within the utils module to select a subset of the fields and cast them in a tabular form"
   ]
  },
  {
   "cell_type": "code",
   "execution_count": 9,
   "id": "823d204c-2ced-46e0-bbdf-6f54eb86e677",
   "metadata": {},
   "outputs": [
    {
     "data": {
      "text/html": [
       "<div>\n",
       "<style scoped>\n",
       "    .dataframe tbody tr th:only-of-type {\n",
       "        vertical-align: middle;\n",
       "    }\n",
       "\n",
       "    .dataframe tbody tr th {\n",
       "        vertical-align: top;\n",
       "    }\n",
       "\n",
       "    .dataframe thead th {\n",
       "        text-align: right;\n",
       "    }\n",
       "</style>\n",
       "<table border=\"1\" class=\"dataframe\">\n",
       "  <thead>\n",
       "    <tr style=\"text-align: right;\">\n",
       "      <th></th>\n",
       "      <th>europeana_id</th>\n",
       "      <th>uri</th>\n",
       "      <th>type</th>\n",
       "      <th>image_url</th>\n",
       "      <th>country</th>\n",
       "      <th>description</th>\n",
       "      <th>title</th>\n",
       "      <th>creator</th>\n",
       "      <th>language</th>\n",
       "      <th>rights</th>\n",
       "      <th>provider</th>\n",
       "      <th>dataset_name</th>\n",
       "      <th>concept</th>\n",
       "      <th>concept_lang</th>\n",
       "      <th>description_lang</th>\n",
       "      <th>title_lang</th>\n",
       "    </tr>\n",
       "  </thead>\n",
       "  <tbody>\n",
       "    <tr>\n",
       "      <th>0</th>\n",
       "      <td>/9200314/BibliographicResource_3000093755040_s...</td>\n",
       "      <td>http://data.europeana.eu/item/9200314/Bibliogr...</td>\n",
       "      <td>IMAGE</td>\n",
       "      <td>http://www.14-18.it/img/mappa/RML0358106_01/full</td>\n",
       "      <td>Italy</td>\n",
       "      <td>Manifesto che riporta due carte geografiche de...</td>\n",
       "      <td>L'insegnamento della carta geografica della gu...</td>\n",
       "      <td>None</td>\n",
       "      <td>it</td>\n",
       "      <td>http://rightsstatements.org/vocab/InC/1.0/</td>\n",
       "      <td>Central Institute for the Union Catalogue of I...</td>\n",
       "      <td>9200314_Ag_EU_TEL_a1192b_Collections_1914-1918</td>\n",
       "      <td>http://data.europeana.eu/concept/loc/sh85148236</td>\n",
       "      <td>{'de': 'Karte (Kartografie)', 'hi': 'मानचित्र'...</td>\n",
       "      <td>{'it': 'Manifesto che riporta due carte geogra...</td>\n",
       "      <td>{'it': 'L'insegnamento della carta geografica ...</td>\n",
       "    </tr>\n",
       "    <tr>\n",
       "      <th>1</th>\n",
       "      <td>/9200314/BibliographicResource_3000093755038_s...</td>\n",
       "      <td>http://data.europeana.eu/item/9200314/Bibliogr...</td>\n",
       "      <td>IMAGE</td>\n",
       "      <td>http://www.14-18.it/img/mappa/RML0195860_01/full</td>\n",
       "      <td>Italy</td>\n",
       "      <td>Manifesto che mostra al centro la carta geogra...</td>\n",
       "      <td>Croce rossa americana</td>\n",
       "      <td>Croce Rossa Americana</td>\n",
       "      <td>it</td>\n",
       "      <td>http://rightsstatements.org/vocab/InC/1.0/</td>\n",
       "      <td>Central Institute for the Union Catalogue of I...</td>\n",
       "      <td>9200314_Ag_EU_TEL_a1192b_Collections_1914-1918</td>\n",
       "      <td>http://data.europeana.eu/concept/loc/sh85148236</td>\n",
       "      <td>{'de': 'Karte (Kartografie)', 'hi': 'मानचित्र'...</td>\n",
       "      <td>{'it': 'Manifesto che mostra al centro la cart...</td>\n",
       "      <td>{'it': 'Croce rossa americana'}</td>\n",
       "    </tr>\n",
       "  </tbody>\n",
       "</table>\n",
       "</div>"
      ],
      "text/plain": [
       "                                        europeana_id  \\\n",
       "0  /9200314/BibliographicResource_3000093755040_s...   \n",
       "1  /9200314/BibliographicResource_3000093755038_s...   \n",
       "\n",
       "                                                 uri   type  \\\n",
       "0  http://data.europeana.eu/item/9200314/Bibliogr...  IMAGE   \n",
       "1  http://data.europeana.eu/item/9200314/Bibliogr...  IMAGE   \n",
       "\n",
       "                                          image_url country  \\\n",
       "0  http://www.14-18.it/img/mappa/RML0358106_01/full   Italy   \n",
       "1  http://www.14-18.it/img/mappa/RML0195860_01/full   Italy   \n",
       "\n",
       "                                         description  \\\n",
       "0  Manifesto che riporta due carte geografiche de...   \n",
       "1  Manifesto che mostra al centro la carta geogra...   \n",
       "\n",
       "                                               title                creator  \\\n",
       "0  L'insegnamento della carta geografica della gu...                   None   \n",
       "1                              Croce rossa americana  Croce Rossa Americana   \n",
       "\n",
       "  language                                      rights  \\\n",
       "0       it  http://rightsstatements.org/vocab/InC/1.0/   \n",
       "1       it  http://rightsstatements.org/vocab/InC/1.0/   \n",
       "\n",
       "                                            provider  \\\n",
       "0  Central Institute for the Union Catalogue of I...   \n",
       "1  Central Institute for the Union Catalogue of I...   \n",
       "\n",
       "                                     dataset_name  \\\n",
       "0  9200314_Ag_EU_TEL_a1192b_Collections_1914-1918   \n",
       "1  9200314_Ag_EU_TEL_a1192b_Collections_1914-1918   \n",
       "\n",
       "                                           concept  \\\n",
       "0  http://data.europeana.eu/concept/loc/sh85148236   \n",
       "1  http://data.europeana.eu/concept/loc/sh85148236   \n",
       "\n",
       "                                        concept_lang  \\\n",
       "0  {'de': 'Karte (Kartografie)', 'hi': 'मानचित्र'...   \n",
       "1  {'de': 'Karte (Kartografie)', 'hi': 'मानचित्र'...   \n",
       "\n",
       "                                    description_lang  \\\n",
       "0  {'it': 'Manifesto che riporta due carte geogra...   \n",
       "1  {'it': 'Manifesto che mostra al centro la cart...   \n",
       "\n",
       "                                          title_lang  \n",
       "0  {'it': 'L'insegnamento della carta geografica ...  \n",
       "1                    {'it': 'Croce rossa americana'}  "
      ]
     },
     "execution_count": 9,
     "metadata": {},
     "output_type": "execute_result"
    }
   ],
   "source": [
    "df_search=utils.search2df(response)\n",
    "df_search.head(2) #visualizing 2 of 10 requested results in tabular form"
   ]
  },
  {
   "cell_type": "markdown",
   "id": "7c9fa5be-89bc-4050-9026-ce9324970cd2",
   "metadata": {},
   "source": [
    "Comparing the headings of the table above with the original JSON file we can notice that  a subselection of fields has been performed by the `search2df` function.\n",
    "In the following section we will look to translate the text in the `description` field, one of the most important metadata fields."
   ]
  },
  {
   "cell_type": "markdown",
   "id": "96ce7c6a-a492-4fe1-b484-f00c2261e2b6",
   "metadata": {},
   "source": [
    "# Translations of the `descritpion` field"
   ]
  },
  {
   "cell_type": "markdown",
   "id": "c78ba6b0-b760-4ea0-b093-b9655ee96048",
   "metadata": {},
   "source": [
    "In this tutorial, the information we are interested in translating is the description of the record, held in the `description` column. Let us see if we can apply the function defined at the beginning of the notebook to translate the description column from its original language, Italian, to English."
   ]
  },
  {
   "cell_type": "markdown",
   "id": "e3644592-467b-42d2-ac51-984f523c4030",
   "metadata": {},
   "source": [
    "We make a new column `description_en` and apply the function `translate` to the `description` column to translate it to English."
   ]
  },
  {
   "cell_type": "code",
   "execution_count": 10,
   "id": "2d109fdc-59a9-47fe-a1f2-14428c104e24",
   "metadata": {},
   "outputs": [],
   "source": [
    "df_search['description_en']=df_search['description'].apply(translate,target='en')"
   ]
  },
  {
   "cell_type": "markdown",
   "id": "42038e78-4d66-4867-a6ec-5282debd729e",
   "metadata": {},
   "source": [
    "Let us visualize only the original text and  the  English translation"
   ]
  },
  {
   "cell_type": "code",
   "execution_count": 11,
   "id": "b4fdd9b0-ad7a-4006-9f17-fab657447a87",
   "metadata": {},
   "outputs": [
    {
     "data": {
      "text/html": [
       "<div>\n",
       "<style scoped>\n",
       "    .dataframe tbody tr th:only-of-type {\n",
       "        vertical-align: middle;\n",
       "    }\n",
       "\n",
       "    .dataframe tbody tr th {\n",
       "        vertical-align: top;\n",
       "    }\n",
       "\n",
       "    .dataframe thead th {\n",
       "        text-align: right;\n",
       "    }\n",
       "</style>\n",
       "<table border=\"1\" class=\"dataframe\">\n",
       "  <thead>\n",
       "    <tr style=\"text-align: right;\">\n",
       "      <th></th>\n",
       "      <th>description</th>\n",
       "      <th>description_en</th>\n",
       "    </tr>\n",
       "  </thead>\n",
       "  <tbody>\n",
       "    <tr>\n",
       "      <th>0</th>\n",
       "      <td>Manifesto che riporta due carte geografiche de...</td>\n",
       "      <td>Poster showing two geographical maps of Europe...</td>\n",
       "    </tr>\n",
       "    <tr>\n",
       "      <th>1</th>\n",
       "      <td>Manifesto che mostra al centro la carta geogra...</td>\n",
       "      <td>Poster showing in the center the geographical ...</td>\n",
       "    </tr>\n",
       "    <tr>\n",
       "      <th>2</th>\n",
       "      <td>Manifesto che mostra una carta geografica dell...</td>\n",
       "      <td>Poster showing a map of north-eastern Italy an...</td>\n",
       "    </tr>\n",
       "    <tr>\n",
       "      <th>3</th>\n",
       "      <td>Manifesto che mostra al centro una carta geogr...</td>\n",
       "      <td>Poster showing in the center a geographical ma...</td>\n",
       "    </tr>\n",
       "    <tr>\n",
       "      <th>4</th>\n",
       "      <td>Manifesto che mostra una carta geografica dell...</td>\n",
       "      <td>Poster showing a map of north-eastern Italy an...</td>\n",
       "    </tr>\n",
       "    <tr>\n",
       "      <th>5</th>\n",
       "      <td>Manifesto che mostra una carta geografica dell...</td>\n",
       "      <td>Poster showing a map of Italy and the Balkans ...</td>\n",
       "    </tr>\n",
       "    <tr>\n",
       "      <th>6</th>\n",
       "      <td>Manifesto che mostra la carta geografica del m...</td>\n",
       "      <td>Poster showing the geographical map of the wor...</td>\n",
       "    </tr>\n",
       "    <tr>\n",
       "      <th>7</th>\n",
       "      <td>Manifesto che mostra una rappresentazione geog...</td>\n",
       "      <td>Poster showing a geographic representation of ...</td>\n",
       "    </tr>\n",
       "    <tr>\n",
       "      <th>8</th>\n",
       "      <td>Manifesto che raffigura in azzurro la catena d...</td>\n",
       "      <td>Poster depicting in blue the mountain range an...</td>\n",
       "    </tr>\n",
       "    <tr>\n",
       "      <th>9</th>\n",
       "      <td>Manifesto che mostra la carta geograficha dell...</td>\n",
       "      <td>Poster showing the geographical map of Venice ...</td>\n",
       "    </tr>\n",
       "  </tbody>\n",
       "</table>\n",
       "</div>"
      ],
      "text/plain": [
       "                                         description  \\\n",
       "0  Manifesto che riporta due carte geografiche de...   \n",
       "1  Manifesto che mostra al centro la carta geogra...   \n",
       "2  Manifesto che mostra una carta geografica dell...   \n",
       "3  Manifesto che mostra al centro una carta geogr...   \n",
       "4  Manifesto che mostra una carta geografica dell...   \n",
       "5  Manifesto che mostra una carta geografica dell...   \n",
       "6  Manifesto che mostra la carta geografica del m...   \n",
       "7  Manifesto che mostra una rappresentazione geog...   \n",
       "8  Manifesto che raffigura in azzurro la catena d...   \n",
       "9  Manifesto che mostra la carta geograficha dell...   \n",
       "\n",
       "                                      description_en  \n",
       "0  Poster showing two geographical maps of Europe...  \n",
       "1  Poster showing in the center the geographical ...  \n",
       "2  Poster showing a map of north-eastern Italy an...  \n",
       "3  Poster showing in the center a geographical ma...  \n",
       "4  Poster showing a map of north-eastern Italy an...  \n",
       "5  Poster showing a map of Italy and the Balkans ...  \n",
       "6  Poster showing the geographical map of the wor...  \n",
       "7  Poster showing a geographic representation of ...  \n",
       "8  Poster depicting in blue the mountain range an...  \n",
       "9  Poster showing the geographical map of Venice ...  "
      ]
     },
     "execution_count": 11,
     "metadata": {},
     "output_type": "execute_result"
    }
   ],
   "source": [
    "#We select only the original description in Italian and its automatic translation to English\n",
    "df_translation=df_search[['description','description_en',]]\n",
    "df_translation"
   ]
  },
  {
   "cell_type": "markdown",
   "id": "4c432e34-9a49-416a-b132-cfa20e4c6f9e",
   "metadata": {},
   "source": [
    "We get an idea by scanning the table above, and we can zoom in, for example on the second row, to fully visualize the original text and its translation."
   ]
  },
  {
   "cell_type": "code",
   "execution_count": 12,
   "id": "84cf51c3-9f05-4755-a779-8516838be5e0",
   "metadata": {},
   "outputs": [
    {
     "data": {
      "text/plain": [
       "[\"Manifesto che mostra al centro la carta geografica dell'Italia in cui sono indicati i luoghi dove la Croce rossa americana è presente sul territorio,  intorno fanno da cornice alcune fotografie che documentano il lavoro svolto dalla Croce rossa americana, in alto sono presenti i ritratti fotografici di Woodrow Wilson, Robert Perkins ed Henry P. Davison.\",\n",
       " 'Poster showing in the center the geographical map of Italy showing the places where the American Red Cross is present in the area, around it are some photographs documenting the work done by the American Red Cross, at the top there are photographic portraits by Woodrow Wilson, Robert Perkins and Henry P. Davison.']"
      ]
     },
     "execution_count": 12,
     "metadata": {},
     "output_type": "execute_result"
    }
   ],
   "source": [
    " list(df_translation.loc[1])"
   ]
  },
  {
   "cell_type": "markdown",
   "id": "7f6b9eb9-8bb6-4b25-8890-f1ccf1821802",
   "metadata": {},
   "source": [
    "To a reader that understands both Italian and English the translation looks ok, except for the last line where there is an interesting mistake. Can you spot it?"
   ]
  },
  {
   "cell_type": "markdown",
   "id": "347f4768-151d-4fed-9f41-1a0e67e20cab",
   "metadata": {},
   "source": [
    "# Quality of translations"
   ]
  },
  {
   "cell_type": "markdown",
   "id": "8c69e474-14b0-4313-8464-4973ebb94608",
   "metadata": {},
   "source": [
    "The next question we may ask is, can we measure the quality of these metadata translations? <br>\n",
    "The standard automatic ways to measure the quality of translations is to compare them to reference translations and measure how close they are. Over time, many metrics have been developed to do so,  some of the most popular are bilingual evaluation understudy, ([BLEU](https://en.wikipedia.org/wiki/BLEU))  and translation error rate ([TER](https://kantanmtblog.com/2015/07/28/what-is-translation-error-rate-ter/)). <br>\n",
    "In our case, we don't have reference translations at hand, therefore we opt for the following: we translate back the English text into Italian, and we measure how close the original Italian is to the back translated  Italian text. In essence we are using the original text in Italian as a reference. We can then apply the scoring methods comparing  the back translation in Italian to the original text in Italian, assumed here as reference. We can subsequently use this score as an estimate of the quality of the intial translation from Italian to English. This method that uses the back translation, to Italian in this case, is called round trip translation ([RTT](https://en.wikipedia.org/wiki/Round-trip_translation)). Although the RTT technique has some donwnsides  it allows us to form an idea of the quality of the translations when reference translations are not available."
   ]
  },
  {
   "cell_type": "markdown",
   "id": "46ce3a6c-4757-4068-bca5-c9dc96e046df",
   "metadata": {},
   "source": [
    "Let us thus add a new column to the dataframe, `description_en_it`, to hold the back translation of the `description` column from English to Italian and perform the translation"
   ]
  },
  {
   "cell_type": "code",
   "execution_count": 13,
   "id": "fae8f727-88c9-4c92-858e-9d3c567d787f",
   "metadata": {
    "tags": []
   },
   "outputs": [
    {
     "data": {
      "text/html": [
       "<div>\n",
       "<style scoped>\n",
       "    .dataframe tbody tr th:only-of-type {\n",
       "        vertical-align: middle;\n",
       "    }\n",
       "\n",
       "    .dataframe tbody tr th {\n",
       "        vertical-align: top;\n",
       "    }\n",
       "\n",
       "    .dataframe thead th {\n",
       "        text-align: right;\n",
       "    }\n",
       "</style>\n",
       "<table border=\"1\" class=\"dataframe\">\n",
       "  <thead>\n",
       "    <tr style=\"text-align: right;\">\n",
       "      <th></th>\n",
       "      <th>europeana_id</th>\n",
       "      <th>uri</th>\n",
       "      <th>type</th>\n",
       "      <th>image_url</th>\n",
       "      <th>country</th>\n",
       "      <th>description</th>\n",
       "      <th>title</th>\n",
       "      <th>creator</th>\n",
       "      <th>language</th>\n",
       "      <th>rights</th>\n",
       "      <th>provider</th>\n",
       "      <th>dataset_name</th>\n",
       "      <th>concept</th>\n",
       "      <th>concept_lang</th>\n",
       "      <th>description_lang</th>\n",
       "      <th>title_lang</th>\n",
       "      <th>description_en</th>\n",
       "      <th>description_en_it</th>\n",
       "    </tr>\n",
       "  </thead>\n",
       "  <tbody>\n",
       "    <tr>\n",
       "      <th>0</th>\n",
       "      <td>/9200314/BibliographicResource_3000093755040_s...</td>\n",
       "      <td>http://data.europeana.eu/item/9200314/Bibliogr...</td>\n",
       "      <td>IMAGE</td>\n",
       "      <td>http://www.14-18.it/img/mappa/RML0358106_01/full</td>\n",
       "      <td>Italy</td>\n",
       "      <td>Manifesto che riporta due carte geografiche de...</td>\n",
       "      <td>L'insegnamento della carta geografica della gu...</td>\n",
       "      <td>None</td>\n",
       "      <td>it</td>\n",
       "      <td>http://rightsstatements.org/vocab/InC/1.0/</td>\n",
       "      <td>Central Institute for the Union Catalogue of I...</td>\n",
       "      <td>9200314_Ag_EU_TEL_a1192b_Collections_1914-1918</td>\n",
       "      <td>http://data.europeana.eu/concept/loc/sh85148236</td>\n",
       "      <td>{'de': 'Karte (Kartografie)', 'hi': 'मानचित्र'...</td>\n",
       "      <td>{'it': 'Manifesto che riporta due carte geogra...</td>\n",
       "      <td>{'it': 'L'insegnamento della carta geografica ...</td>\n",
       "      <td>Poster showing two geographical maps of Europe...</td>\n",
       "      <td>Manifesto raffigurante due carte geografiche d...</td>\n",
       "    </tr>\n",
       "    <tr>\n",
       "      <th>1</th>\n",
       "      <td>/9200314/BibliographicResource_3000093755038_s...</td>\n",
       "      <td>http://data.europeana.eu/item/9200314/Bibliogr...</td>\n",
       "      <td>IMAGE</td>\n",
       "      <td>http://www.14-18.it/img/mappa/RML0195860_01/full</td>\n",
       "      <td>Italy</td>\n",
       "      <td>Manifesto che mostra al centro la carta geogra...</td>\n",
       "      <td>Croce rossa americana</td>\n",
       "      <td>Croce Rossa Americana</td>\n",
       "      <td>it</td>\n",
       "      <td>http://rightsstatements.org/vocab/InC/1.0/</td>\n",
       "      <td>Central Institute for the Union Catalogue of I...</td>\n",
       "      <td>9200314_Ag_EU_TEL_a1192b_Collections_1914-1918</td>\n",
       "      <td>http://data.europeana.eu/concept/loc/sh85148236</td>\n",
       "      <td>{'de': 'Karte (Kartografie)', 'hi': 'मानचित्र'...</td>\n",
       "      <td>{'it': 'Manifesto che mostra al centro la cart...</td>\n",
       "      <td>{'it': 'Croce rossa americana'}</td>\n",
       "      <td>Poster showing in the center the geographical ...</td>\n",
       "      <td>Manifesto che mostra al centro la carta geogra...</td>\n",
       "    </tr>\n",
       "  </tbody>\n",
       "</table>\n",
       "</div>"
      ],
      "text/plain": [
       "                                        europeana_id  \\\n",
       "0  /9200314/BibliographicResource_3000093755040_s...   \n",
       "1  /9200314/BibliographicResource_3000093755038_s...   \n",
       "\n",
       "                                                 uri   type  \\\n",
       "0  http://data.europeana.eu/item/9200314/Bibliogr...  IMAGE   \n",
       "1  http://data.europeana.eu/item/9200314/Bibliogr...  IMAGE   \n",
       "\n",
       "                                          image_url country  \\\n",
       "0  http://www.14-18.it/img/mappa/RML0358106_01/full   Italy   \n",
       "1  http://www.14-18.it/img/mappa/RML0195860_01/full   Italy   \n",
       "\n",
       "                                         description  \\\n",
       "0  Manifesto che riporta due carte geografiche de...   \n",
       "1  Manifesto che mostra al centro la carta geogra...   \n",
       "\n",
       "                                               title                creator  \\\n",
       "0  L'insegnamento della carta geografica della gu...                   None   \n",
       "1                              Croce rossa americana  Croce Rossa Americana   \n",
       "\n",
       "  language                                      rights  \\\n",
       "0       it  http://rightsstatements.org/vocab/InC/1.0/   \n",
       "1       it  http://rightsstatements.org/vocab/InC/1.0/   \n",
       "\n",
       "                                            provider  \\\n",
       "0  Central Institute for the Union Catalogue of I...   \n",
       "1  Central Institute for the Union Catalogue of I...   \n",
       "\n",
       "                                     dataset_name  \\\n",
       "0  9200314_Ag_EU_TEL_a1192b_Collections_1914-1918   \n",
       "1  9200314_Ag_EU_TEL_a1192b_Collections_1914-1918   \n",
       "\n",
       "                                           concept  \\\n",
       "0  http://data.europeana.eu/concept/loc/sh85148236   \n",
       "1  http://data.europeana.eu/concept/loc/sh85148236   \n",
       "\n",
       "                                        concept_lang  \\\n",
       "0  {'de': 'Karte (Kartografie)', 'hi': 'मानचित्र'...   \n",
       "1  {'de': 'Karte (Kartografie)', 'hi': 'मानचित्र'...   \n",
       "\n",
       "                                    description_lang  \\\n",
       "0  {'it': 'Manifesto che riporta due carte geogra...   \n",
       "1  {'it': 'Manifesto che mostra al centro la cart...   \n",
       "\n",
       "                                          title_lang  \\\n",
       "0  {'it': 'L'insegnamento della carta geografica ...   \n",
       "1                    {'it': 'Croce rossa americana'}   \n",
       "\n",
       "                                      description_en  \\\n",
       "0  Poster showing two geographical maps of Europe...   \n",
       "1  Poster showing in the center the geographical ...   \n",
       "\n",
       "                                   description_en_it  \n",
       "0  Manifesto raffigurante due carte geografiche d...  \n",
       "1  Manifesto che mostra al centro la carta geogra...  "
      ]
     },
     "execution_count": 13,
     "metadata": {},
     "output_type": "execute_result"
    }
   ],
   "source": [
    "df_search['description_en_it']=df_search['description_en'].apply(translate, target= 'it')\n",
    "df_search.head(2) #visualize the first two rows of the result"
   ]
  },
  {
   "cell_type": "markdown",
   "id": "32248644-543b-4250-9bdc-e7dd8fde0ba7",
   "metadata": {},
   "source": [
    "Now, let us visualize the original text in Italian and the back translation to Italian"
   ]
  },
  {
   "cell_type": "code",
   "execution_count": 14,
   "id": "218330d1-7cfb-4412-a67b-136afc8a0a53",
   "metadata": {},
   "outputs": [
    {
     "data": {
      "text/html": [
       "<div>\n",
       "<style scoped>\n",
       "    .dataframe tbody tr th:only-of-type {\n",
       "        vertical-align: middle;\n",
       "    }\n",
       "\n",
       "    .dataframe tbody tr th {\n",
       "        vertical-align: top;\n",
       "    }\n",
       "\n",
       "    .dataframe thead th {\n",
       "        text-align: right;\n",
       "    }\n",
       "</style>\n",
       "<table border=\"1\" class=\"dataframe\">\n",
       "  <thead>\n",
       "    <tr style=\"text-align: right;\">\n",
       "      <th></th>\n",
       "      <th>description</th>\n",
       "      <th>description_en_it</th>\n",
       "    </tr>\n",
       "  </thead>\n",
       "  <tbody>\n",
       "    <tr>\n",
       "      <th>0</th>\n",
       "      <td>Manifesto che riporta due carte geografiche de...</td>\n",
       "      <td>Manifesto raffigurante due carte geografiche d...</td>\n",
       "    </tr>\n",
       "    <tr>\n",
       "      <th>1</th>\n",
       "      <td>Manifesto che mostra al centro la carta geogra...</td>\n",
       "      <td>Manifesto che mostra al centro la carta geogra...</td>\n",
       "    </tr>\n",
       "    <tr>\n",
       "      <th>2</th>\n",
       "      <td>Manifesto che mostra una carta geografica dell...</td>\n",
       "      <td>Poster raffigurante una mappa dell'Italia nord...</td>\n",
       "    </tr>\n",
       "    <tr>\n",
       "      <th>3</th>\n",
       "      <td>Manifesto che mostra al centro una carta geogr...</td>\n",
       "      <td>Manifesto che mostra al centro una mappa geogr...</td>\n",
       "    </tr>\n",
       "    <tr>\n",
       "      <th>4</th>\n",
       "      <td>Manifesto che mostra una carta geografica dell...</td>\n",
       "      <td>Poster raffigurante una mappa dell'Italia nord...</td>\n",
       "    </tr>\n",
       "    <tr>\n",
       "      <th>5</th>\n",
       "      <td>Manifesto che mostra una carta geografica dell...</td>\n",
       "      <td>Poster raffigurante una mappa dell'Italia e de...</td>\n",
       "    </tr>\n",
       "    <tr>\n",
       "      <th>6</th>\n",
       "      <td>Manifesto che mostra la carta geografica del m...</td>\n",
       "      <td>Il manifesto raffigurante la carta geografica ...</td>\n",
       "    </tr>\n",
       "    <tr>\n",
       "      <th>7</th>\n",
       "      <td>Manifesto che mostra una rappresentazione geog...</td>\n",
       "      <td>Poster raffigurante una rappresentazione geogr...</td>\n",
       "    </tr>\n",
       "    <tr>\n",
       "      <th>8</th>\n",
       "      <td>Manifesto che raffigura in azzurro la catena d...</td>\n",
       "      <td>Poster raffigurante in blu la catena montuosa ...</td>\n",
       "    </tr>\n",
       "    <tr>\n",
       "      <th>9</th>\n",
       "      <td>Manifesto che mostra la carta geograficha dell...</td>\n",
       "      <td>Poster raffigurante la carta geografica di Ven...</td>\n",
       "    </tr>\n",
       "  </tbody>\n",
       "</table>\n",
       "</div>"
      ],
      "text/plain": [
       "                                         description  \\\n",
       "0  Manifesto che riporta due carte geografiche de...   \n",
       "1  Manifesto che mostra al centro la carta geogra...   \n",
       "2  Manifesto che mostra una carta geografica dell...   \n",
       "3  Manifesto che mostra al centro una carta geogr...   \n",
       "4  Manifesto che mostra una carta geografica dell...   \n",
       "5  Manifesto che mostra una carta geografica dell...   \n",
       "6  Manifesto che mostra la carta geografica del m...   \n",
       "7  Manifesto che mostra una rappresentazione geog...   \n",
       "8  Manifesto che raffigura in azzurro la catena d...   \n",
       "9  Manifesto che mostra la carta geograficha dell...   \n",
       "\n",
       "                                   description_en_it  \n",
       "0  Manifesto raffigurante due carte geografiche d...  \n",
       "1  Manifesto che mostra al centro la carta geogra...  \n",
       "2  Poster raffigurante una mappa dell'Italia nord...  \n",
       "3  Manifesto che mostra al centro una mappa geogr...  \n",
       "4  Poster raffigurante una mappa dell'Italia nord...  \n",
       "5  Poster raffigurante una mappa dell'Italia e de...  \n",
       "6  Il manifesto raffigurante la carta geografica ...  \n",
       "7  Poster raffigurante una rappresentazione geogr...  \n",
       "8  Poster raffigurante in blu la catena montuosa ...  \n",
       "9  Poster raffigurante la carta geografica di Ven...  "
      ]
     },
     "execution_count": 14,
     "metadata": {},
     "output_type": "execute_result"
    }
   ],
   "source": [
    "df_translation_test=df_search[['description','description_en_it']]\n",
    "df_translation_test"
   ]
  },
  {
   "cell_type": "markdown",
   "id": "39d01c71-34db-48a0-b869-96682f45ca89",
   "metadata": {},
   "source": [
    "They look pretty similar but let us quantify our impressions by applying the TER metrics"
   ]
  },
  {
   "cell_type": "code",
   "execution_count": 15,
   "id": "41893e4c-d341-4049-9edb-0c115c9ce8b3",
   "metadata": {},
   "outputs": [],
   "source": [
    "df_translation_test['Ter_Score']=df_translation_test.apply(lambda x: pyter.ter(x['description'].split( ), x['description_en_it'].split()), axis=1)"
   ]
  },
  {
   "cell_type": "code",
   "execution_count": 16,
   "id": "d7cdd951-389a-42aa-9918-0acfadeabfec",
   "metadata": {},
   "outputs": [
    {
     "data": {
      "text/html": [
       "<div>\n",
       "<style scoped>\n",
       "    .dataframe tbody tr th:only-of-type {\n",
       "        vertical-align: middle;\n",
       "    }\n",
       "\n",
       "    .dataframe tbody tr th {\n",
       "        vertical-align: top;\n",
       "    }\n",
       "\n",
       "    .dataframe thead th {\n",
       "        text-align: right;\n",
       "    }\n",
       "</style>\n",
       "<table border=\"1\" class=\"dataframe\">\n",
       "  <thead>\n",
       "    <tr style=\"text-align: right;\">\n",
       "      <th></th>\n",
       "      <th>description</th>\n",
       "      <th>description_en_it</th>\n",
       "      <th>Ter_Score</th>\n",
       "    </tr>\n",
       "  </thead>\n",
       "  <tbody>\n",
       "    <tr>\n",
       "      <th>0</th>\n",
       "      <td>Manifesto che riporta due carte geografiche de...</td>\n",
       "      <td>Manifesto raffigurante due carte geografiche d...</td>\n",
       "      <td>0.343750</td>\n",
       "    </tr>\n",
       "    <tr>\n",
       "      <th>1</th>\n",
       "      <td>Manifesto che mostra al centro la carta geogra...</td>\n",
       "      <td>Manifesto che mostra al centro la carta geogra...</td>\n",
       "      <td>0.312500</td>\n",
       "    </tr>\n",
       "    <tr>\n",
       "      <th>2</th>\n",
       "      <td>Manifesto che mostra una carta geografica dell...</td>\n",
       "      <td>Poster raffigurante una mappa dell'Italia nord...</td>\n",
       "      <td>0.200000</td>\n",
       "    </tr>\n",
       "    <tr>\n",
       "      <th>3</th>\n",
       "      <td>Manifesto che mostra al centro una carta geogr...</td>\n",
       "      <td>Manifesto che mostra al centro una mappa geogr...</td>\n",
       "      <td>0.357143</td>\n",
       "    </tr>\n",
       "    <tr>\n",
       "      <th>4</th>\n",
       "      <td>Manifesto che mostra una carta geografica dell...</td>\n",
       "      <td>Poster raffigurante una mappa dell'Italia nord...</td>\n",
       "      <td>0.347826</td>\n",
       "    </tr>\n",
       "    <tr>\n",
       "      <th>5</th>\n",
       "      <td>Manifesto che mostra una carta geografica dell...</td>\n",
       "      <td>Poster raffigurante una mappa dell'Italia e de...</td>\n",
       "      <td>0.416667</td>\n",
       "    </tr>\n",
       "    <tr>\n",
       "      <th>6</th>\n",
       "      <td>Manifesto che mostra la carta geografica del m...</td>\n",
       "      <td>Il manifesto raffigurante la carta geografica ...</td>\n",
       "      <td>0.358974</td>\n",
       "    </tr>\n",
       "    <tr>\n",
       "      <th>7</th>\n",
       "      <td>Manifesto che mostra una rappresentazione geog...</td>\n",
       "      <td>Poster raffigurante una rappresentazione geogr...</td>\n",
       "      <td>0.250000</td>\n",
       "    </tr>\n",
       "    <tr>\n",
       "      <th>8</th>\n",
       "      <td>Manifesto che raffigura in azzurro la catena d...</td>\n",
       "      <td>Poster raffigurante in blu la catena montuosa ...</td>\n",
       "      <td>0.300000</td>\n",
       "    </tr>\n",
       "    <tr>\n",
       "      <th>9</th>\n",
       "      <td>Manifesto che mostra la carta geograficha dell...</td>\n",
       "      <td>Poster raffigurante la carta geografica di Ven...</td>\n",
       "      <td>0.307692</td>\n",
       "    </tr>\n",
       "  </tbody>\n",
       "</table>\n",
       "</div>"
      ],
      "text/plain": [
       "                                         description  \\\n",
       "0  Manifesto che riporta due carte geografiche de...   \n",
       "1  Manifesto che mostra al centro la carta geogra...   \n",
       "2  Manifesto che mostra una carta geografica dell...   \n",
       "3  Manifesto che mostra al centro una carta geogr...   \n",
       "4  Manifesto che mostra una carta geografica dell...   \n",
       "5  Manifesto che mostra una carta geografica dell...   \n",
       "6  Manifesto che mostra la carta geografica del m...   \n",
       "7  Manifesto che mostra una rappresentazione geog...   \n",
       "8  Manifesto che raffigura in azzurro la catena d...   \n",
       "9  Manifesto che mostra la carta geograficha dell...   \n",
       "\n",
       "                                   description_en_it  Ter_Score  \n",
       "0  Manifesto raffigurante due carte geografiche d...   0.343750  \n",
       "1  Manifesto che mostra al centro la carta geogra...   0.312500  \n",
       "2  Poster raffigurante una mappa dell'Italia nord...   0.200000  \n",
       "3  Manifesto che mostra al centro una mappa geogr...   0.357143  \n",
       "4  Poster raffigurante una mappa dell'Italia nord...   0.347826  \n",
       "5  Poster raffigurante una mappa dell'Italia e de...   0.416667  \n",
       "6  Il manifesto raffigurante la carta geografica ...   0.358974  \n",
       "7  Poster raffigurante una rappresentazione geogr...   0.250000  \n",
       "8  Poster raffigurante in blu la catena montuosa ...   0.300000  \n",
       "9  Poster raffigurante la carta geografica di Ven...   0.307692  "
      ]
     },
     "execution_count": 16,
     "metadata": {},
     "output_type": "execute_result"
    }
   ],
   "source": [
    "df_translation_test"
   ]
  },
  {
   "cell_type": "markdown",
   "id": "0830ae5f-1a4a-4762-b05a-0f4534937ed4",
   "metadata": {},
   "source": [
    "The TER metrics measures the amount of editing needed to bring the translation in line with the original reference, the lower the TER score the better the quality of the back translation. As anticipated above, we could then use this score as an estimate of the quality of the translation from Italian to English, which was our goal."
   ]
  },
  {
   "cell_type": "markdown",
   "id": "70867018-3157-442a-8828-f0737913ddff",
   "metadata": {},
   "source": [
    "# Conclusions"
   ]
  },
  {
   "cell_type": "markdown",
   "id": "7147e2a7-a1aa-494a-9b40-a1646b2cc188",
   "metadata": {},
   "source": [
    "In this tutorial we briefily covered the following topics\n",
    "- Introduction to metadata fields describing a CH object\n",
    "- Importance of having relevant metadata fields available in many languages\n",
    "- Use of the PyEuropeana module in combination with the Search API to retrieve CH objects with a description in Italian\n",
    "- Automatic translation from Italian to English of the retrieved metadata describing the CH object\n",
    "- Use of the RTT method in combination with the TER score to estimate the quality of the obtained translations"
   ]
  }
 ],
 "metadata": {
  "kernelspec": {
   "display_name": "Python 3 (ipykernel)",
   "language": "python",
   "name": "python3"
  },
  "language_info": {
   "codemirror_mode": {
    "name": "ipython",
    "version": 3
   },
   "file_extension": ".py",
   "mimetype": "text/x-python",
   "name": "python",
   "nbconvert_exporter": "python",
   "pygments_lexer": "ipython3",
   "version": "3.9.7"
  }
 },
 "nbformat": 4,
 "nbformat_minor": 5
}
