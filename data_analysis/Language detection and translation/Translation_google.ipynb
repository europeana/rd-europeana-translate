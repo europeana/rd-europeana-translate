{
 "cells": [
  {
   "cell_type": "markdown",
   "id": "ceaeca52-7efe-4473-a7f2-297acb27e2d4",
   "metadata": {},
   "source": [
    "# Language detection"
   ]
  },
  {
   "cell_type": "markdown",
   "id": "98214956-8366-4257-9801-aa8a981d0a01",
   "metadata": {},
   "source": [
    "Here we are trying out google for translations, using the credentials from Europeana"
   ]
  },
  {
   "cell_type": "code",
   "execution_count": 1,
   "id": "8e79118c-36f8-43b5-a1c8-4cead55f44b3",
   "metadata": {},
   "outputs": [],
   "source": [
    "import os\n",
    "from google.cloud import translate_v2\n",
    "import pandas as pd"
   ]
  },
  {
   "cell_type": "code",
   "execution_count": 4,
   "id": "8328b107-4f30-41c9-bd50-b7d589f8ff7d",
   "metadata": {},
   "outputs": [],
   "source": [
    "os.environ['GOOGLE_APPLICATION_CREDENTIALS']=\"google_cloud_key.json\""
   ]
  },
  {
   "cell_type": "code",
   "execution_count": 5,
   "id": "e15b5866-5eb1-453b-87a8-4971da27d6a4",
   "metadata": {},
   "outputs": [],
   "source": [
    "def translate_text(target, text):\n",
    "    \"\"\"Translates text into the target language.\n",
    "\n",
    "    Target must be an ISO 639-1 language code.\n",
    "    See https://g.co/cloud/translate/v2/translate-reference#supported_languages\n",
    "    \"\"\"\n",
    "    import six\n",
    "    from google.cloud import translate_v2 as translate\n",
    "\n",
    "    translate_client = translate.Client()\n",
    "\n",
    "    if isinstance(text, six.binary_type):\n",
    "        text = text.decode(\"utf-8\")\n",
    "\n",
    "    # Text can also be a sequence of strings, in which case this method\n",
    "    # will return a sequence of results for each text.\n",
    "    result = translate_client.translate(text, target_language=target)\n",
    "\n",
    "    print(u\"Text: {}\".format(result[\"input\"]))\n",
    "    print(u\"Translation: {}\".format(result[\"translatedText\"]))\n",
    "    print(u\"Detected source language: {}\".format(result[\"detectedSourceLanguage\"]))\n"
   ]
  },
  {
   "cell_type": "code",
   "execution_count": 6,
   "id": "27ddf983-ec9f-4cb6-a0b5-8ccce19b3161",
   "metadata": {},
   "outputs": [
    {
     "name": "stdout",
     "output_type": "stream",
     "text": [
      "Text: come stai?\n",
      "Translation: how are you?\n",
      "Detected source language: it\n"
     ]
    }
   ],
   "source": [
    "translate_text('en', 'come stai?')"
   ]
  },
  {
   "cell_type": "code",
   "execution_count": null,
   "id": "66b9a621-1e89-4339-81b7-9024811c56e8",
   "metadata": {},
   "outputs": [],
   "source": []
  }
 ],
 "metadata": {
  "kernelspec": {
   "display_name": "Python 3 (ipykernel)",
   "language": "python",
   "name": "python3"
  },
  "language_info": {
   "codemirror_mode": {
    "name": "ipython",
    "version": 3
   },
   "file_extension": ".py",
   "mimetype": "text/x-python",
   "name": "python",
   "nbconvert_exporter": "python",
   "pygments_lexer": "ipython3",
   "version": "3.9.7"
  }
 },
 "nbformat": 4,
 "nbformat_minor": 5
}
