{
 "cells": [
  {
   "cell_type": "markdown",
   "id": "72db3ec4-5adb-44ea-86cf-a1590583477f",
   "metadata": {},
   "source": [
    "# setup translation with Etranslation API"
   ]
  },
  {
   "cell_type": "markdown",
   "id": "b2151dea-4355-4367-af5b-9dde9b64b1dd",
   "metadata": {},
   "source": [
    "This is an attempt to start performing translations using the Etranslation tool of the EC. I am working with Nuno Freire on this. The idea is that I make a request to Etransaltion and get the translation back fron the web app setup by Nuno"
   ]
  },
  {
   "cell_type": "markdown",
   "id": "047933ec-8702-40d8-b9d5-3d2517e8d6f5",
   "metadata": {},
   "source": [
    "## References\n",
    "-https://ec.europa.eu/cefdigital/wiki/pages/viewpage.action?pageId=216465916\n",
    "\n",
    "-Mail from Nuno setting up th web app to receive the translations\n",
    "\n",
    "The etranslation callback webapp is running.\n",
    "You should use the callback URL and the error callback url, I believe. Use these URLs: \n",
    "callback URL: https://rnd-2.eanadev.org/etranslation-callback/callback\n",
    "error callback URL: https://rnd-2.eanadev.org/etranslation-callback/error\n",
    " \n",
    "When you send a request, the immediate response from eTranslation is a number (id of the request), and when the translated text is ready, etranslation sends it to the callback webapp running at rnd-2.\n",
    "The webapp stores the translated text in files in this folder: /var/lib/etranslation/translations-repository\n",
    "The files are named as follows:\n",
    "<id_of_request>_<language_code>.txt\n",
    "So, if you request a text to be translated into several languages, there will be several files with the same request id - one for each language.\n",
    "\n",
    "Let me know if you have any questions.\n",
    "\n",
    "Cheers,\n",
    "Nuno\n"
   ]
  },
  {
   "cell_type": "markdown",
   "id": "3d1a2291-ac2f-4e25-bc89-8cbdb69a99e6",
   "metadata": {},
   "source": [
    "Here I attempt to create an ID for the translation"
   ]
  },
  {
   "cell_type": "code",
   "execution_count": 3,
   "id": "6da5c7fc-aa5e-49b4-9394-b4af2a27de6e",
   "metadata": {},
   "outputs": [],
   "source": [
    "import requests\n",
    "import json\n",
    "import pandas as pd\n",
    "from requests.auth import HTTPDigestAuth\n",
    "import os\n",
    "import os.path\n",
    "import time"
   ]
  },
  {
   "cell_type": "code",
   "execution_count": 18,
   "id": "665b41b3-3104-40a5-a29f-2fcd176b8e7f",
   "metadata": {},
   "outputs": [],
   "source": [
    "def receiveRequest(sourceLanguage,targetLanguage1,targetLanguage2,textToTranslate):\n",
    "    \n",
    "    eTranslationRestUrl = \"https://webgate.ec.europa.eu/etranslation/si/translate\"\n",
    "    applicationName = 'Europeana_IR_20190225'\n",
    "    password = \"n2ux3PrvqQ5XpSad\"\n",
    "\n",
    "    translationRequest = {}\n",
    "    translationRequest['sourceLanguage'] = f'{sourceLanguage}'\n",
    "    #How can I request a text to be translated into several languages?\n",
    "    # I think have to work with the fact that it is a list\n",
    "    translationRequest['targetLanguages'] = [f'{targetLanguage1}',f'{targetLanguage2}']\n",
    "    translationRequest['callerInformation'] = {\"application\" : applicationName, \"username\":applicationName}\n",
    "    translationRequest['textToTranslate'] = f'{textToTranslate}'\n",
    "    translationRequest['requesterCallback'] = 'https://rnd-2.eanadev.org/etranslation-callback/callback'\n",
    "    translationRequest['requesterCallbackError']='https://rnd-2.eanadev.org/etranslation-callback/error'\n",
    "\n",
    "    jsonTranslationRequest = json.dumps(translationRequest)\n",
    "\n",
    "    jsonHeader = {'Content-Type' : 'application/json'}\n",
    "    response = requests.post(eTranslationRestUrl, auth=HTTPDigestAuth(applicationName, password), headers = jsonHeader, data=jsonTranslationRequest)\n",
    "    #Translation ID\n",
    "    tr_ID=response.text\n",
    "    #building the translation file that will be looked on the server\n",
    "    #Upper case is needed because this is how the file is saved on Rnd2 server\n",
    "    capital_source= f'{targetLanguage1}'.upper()\n",
    "    file_ID= f'{tr_ID}_{capital_source}.txt'\n",
    "    return file_ID"
   ]
  },
  {
   "cell_type": "code",
   "execution_count": 19,
   "id": "24709e8f-f84a-4533-8fc1-0f3398cbed2a",
   "metadata": {},
   "outputs": [],
   "source": [
    "def ReceiveTranslation(file_ID):\n",
    "    file_on_RnD2=f'../../../../../var/lib/etranslation/translations-repository/{file_ID}'\n",
    "    # wait till file is created\n",
    "    while not os.path.exists(file_on_RnD2):\n",
    "         time.sleep(1) #wait in cycles of a second\n",
    "    if os.path.isfile(file_on_RnD2):\n",
    "        fileObject = open(file_on_RnD2, \"r\")\n",
    "        data = fileObject.read()\n",
    "        res_dict=json.loads(data) \n",
    "    else:\n",
    "        raise ValueError(\"%s isn't a file!\" % file_path)\n",
    "    return res_dict"
   ]
  },
  {
   "cell_type": "markdown",
   "id": "101864b7-62e0-4ac8-aebe-c8a784a1ff82",
   "metadata": {},
   "source": [
    "# Example translation one sentence"
   ]
  },
  {
   "cell_type": "code",
   "execution_count": 20,
   "id": "ed2d5e98-e14e-4cb7-bce5-bcaa6a2c7632",
   "metadata": {},
   "outputs": [
    {
     "data": {
      "text/plain": [
       "{'request-id': ['181118332'],\n",
       " 'target-language': ['IT'],\n",
       " 'translated-text': ['Come sei oggi?\\n']}"
      ]
     },
     "execution_count": 20,
     "metadata": {},
     "output_type": "execute_result"
    }
   ],
   "source": [
    "txt_to_translate =' How are you today?'\n",
    "file_ID=receiveRequest('EN','IT','NL',txt_to_translate)\n",
    "translated_txt=ReceiveTranslation(file_ID)\n",
    "translated_txt"
   ]
  },
  {
   "cell_type": "markdown",
   "id": "2f24cd4f-b40e-47c7-91be-3cf995dfd39a",
   "metadata": {},
   "source": [
    "# Example translation multiple sentences"
   ]
  },
  {
   "cell_type": "markdown",
   "id": "2c7edfc0-d0c4-4e40-92cc-d16c8dfb73e2",
   "metadata": {},
   "source": [
    "Sending three different requests"
   ]
  },
  {
   "cell_type": "code",
   "execution_count": 168,
   "id": "1175f953-c4f3-4334-bc8f-3f9b7446e9d0",
   "metadata": {},
   "outputs": [],
   "source": [
    "lst_tr=['How are you',\n",
    "'Eat well tonight',\n",
    "'Sleep very well',]"
   ]
  },
  {
   "cell_type": "code",
   "execution_count": 169,
   "id": "3ab219a7-5421-4624-ac37-80c3de7fcea6",
   "metadata": {},
   "outputs": [],
   "source": [
    "#sending three translation requests\n",
    "file_tr=[]\n",
    "for i in lst_tr:\n",
    "    file_ID=receiveRequest('en','it',i)\n",
    "    file_tr.append(file_ID)"
   ]
  },
  {
   "cell_type": "code",
   "execution_count": 170,
   "id": "aebe1969-8a15-4652-9ca1-5e8a9cbba07b",
   "metadata": {},
   "outputs": [],
   "source": [
    "#receiving three translations\n",
    "lst2=[]\n",
    "for i in file_tr:\n",
    "    trs=ReceiveTranslation(i)\n",
    "    lst2.append(trs)"
   ]
  },
  {
   "cell_type": "code",
   "execution_count": 171,
   "id": "bcce1e5a-345e-4b7e-8579-125f9d107edb",
   "metadata": {},
   "outputs": [
    {
     "data": {
      "text/plain": [
       "[{'request-id': ['179262573'],\n",
       "  'target-language': ['IT'],\n",
       "  'translated-text': ['Come siete\\n']},\n",
       " {'request-id': ['179262574'],\n",
       "  'target-language': ['IT'],\n",
       "  'translated-text': ['Mangiare bene questa sera\\n']},\n",
       " {'request-id': ['179262575'],\n",
       "  'target-language': ['IT'],\n",
       "  'translated-text': ['Dormire molto bene\\n']}]"
      ]
     },
     "execution_count": 171,
     "metadata": {},
     "output_type": "execute_result"
    }
   ],
   "source": [
    "lst2"
   ]
  },
  {
   "cell_type": "code",
   "execution_count": 10,
   "id": "9cd0a491-795d-456f-ae4d-80aad5717394",
   "metadata": {},
   "outputs": [],
   "source": [
    "eTranslationlangdetection='https://language-tools.ec.europa.eu/NamedEntitiesWS/askLanguageDetection'"
   ]
  },
  {
   "cell_type": "code",
   "execution_count": 24,
   "id": "106f3165-f184-4416-b494-b01fa5c70caa",
   "metadata": {},
   "outputs": [],
   "source": [
    "applicationName = 'Europeana_IR_20190225'\n",
    "password = \"n2ux3PrvqQ5XpSad\""
   ]
  },
  {
   "cell_type": "code",
   "execution_count": null,
   "id": "309f59df-1746-41df-a930-1b69e456d5c7",
   "metadata": {},
   "outputs": [],
   "source": [
    "\"credentials\" : {\n",
    "        \"application\" : \"MY_APPLICATION\",\n",
    "        \"password\" : \"my_password\"\n",
    "    },\n",
    "    \"format\" : \"docx\",   \n",
    "    \"verbose\" : \"false\"    \n",
    "}"
   ]
  },
  {
   "cell_type": "code",
   "execution_count": 6,
   "id": "18624179-4c6a-4fde-aac4-7d204c8aebec",
   "metadata": {},
   "outputs": [],
   "source": [
    "applicationName = 'Europeana_IR_20190225'\n",
    "password = \"n2ux3PrvqQ5XpSad\""
   ]
  },
  {
   "cell_type": "code",
   "execution_count": 16,
   "id": "ffbce9a9-8d5d-4e7f-bd39-e2cec94c28a3",
   "metadata": {},
   "outputs": [],
   "source": [
    "langdetectrequest = {}\n",
    "langdetectrequest['credentials'] = {\"application\" : 'Europeana_IR_20190225',\"password\" : \"n2ux3PrvqQ5XpSad\"}\n",
    "langdetectrequest['format'] = \"txt\"\n",
    "langdetectrequest['verbose'] = \"true\"\n",
    "    \n",
    "    \n",
    "    # #How can I request a text to be translated into several languages?\n",
    "    # # I think have to work with the fact that it is a list\n",
    "    # translationRequest['targetLanguages'] = [f'{targetLanguage1}',f'{targetLanguage2}']\n",
    "    # translationRequest['callerInformation'] = {\"application\" : applicationName, \"username\":applicationName}\n",
    "    # translationRequest['textToTranslate'] = f'{textToTranslate}'\n",
    "    # translationRequest['requesterCallback'] = 'https://rnd-2.eanadev.org/etranslation-callback/callback'\n",
    "#translationRequest['requesterCallbackError']='https://rnd-2.eanadev.org/etranslation-callback/error'"
   ]
  },
  {
   "cell_type": "code",
   "execution_count": 17,
   "id": "09599215-c8d5-4ea7-a5db-abdc13b6ed9f",
   "metadata": {},
   "outputs": [
    {
     "data": {
      "text/plain": [
       "{'credentials': {'application': 'Europeana_IR_20190225',\n",
       "  'password': 'n2ux3PrvqQ5XpSad'},\n",
       " 'format': 'txt',\n",
       " 'verbose': 'true'}"
      ]
     },
     "execution_count": 17,
     "metadata": {},
     "output_type": "execute_result"
    }
   ],
   "source": [
    "langdetectrequest"
   ]
  },
  {
   "cell_type": "code",
   "execution_count": 13,
   "id": "bd500fda-2884-42b3-97f3-b00c99a8299e",
   "metadata": {},
   "outputs": [],
   "source": [
    "# import requests\n",
    "from requests.structures import CaseInsensitiveDict\n",
    "\n",
    "# url = \"https://reqbin.com/echo/post/json\"\n",
    "# headers = CaseInsensitiveDict()\n",
    "# headers[\"Accept\"] = \"application/json\"\n",
    "# headers[\"Content-Type\"] = \"application/json\"\n",
    "\n",
    "# data = \"\"\"\n",
    "# {\n",
    "#   \"Id\": 78912,\n",
    "#   \"Customer\": \"Jason Sweet\",\n",
    "# }\n",
    "# \"\"\"\n",
    "\n",
    "# resp = requests.post(url, headers=headers, data=data)\n",
    "# print(resp.status_code)"
   ]
  },
  {
   "cell_type": "code",
   "execution_count": 14,
   "id": "96893af5-f6cc-4d08-bc35-c48add10b430",
   "metadata": {},
   "outputs": [
    {
     "ename": "InvalidHeader",
     "evalue": "Value for header {credentials: {'application': 'Europeana_IR_20190225', 'password': 'n2ux3PrvqQ5XpSad'}} must be of type str or bytes, not <class 'dict'>",
     "output_type": "error",
     "traceback": [
      "\u001b[0;31m---------------------------------------------------------------------------\u001b[0m",
      "\u001b[0;31mTypeError\u001b[0m                                 Traceback (most recent call last)",
      "\u001b[0;32m~/anaconda3/envs/python_wrap/lib/python3.9/site-packages/requests/utils.py\u001b[0m in \u001b[0;36mcheck_header_validity\u001b[0;34m(header)\u001b[0m\n\u001b[1;32m   1023\u001b[0m     \u001b[0;32mtry\u001b[0m\u001b[0;34m:\u001b[0m\u001b[0;34m\u001b[0m\u001b[0;34m\u001b[0m\u001b[0m\n\u001b[0;32m-> 1024\u001b[0;31m         \u001b[0;32mif\u001b[0m \u001b[0;32mnot\u001b[0m \u001b[0mpat\u001b[0m\u001b[0;34m.\u001b[0m\u001b[0mmatch\u001b[0m\u001b[0;34m(\u001b[0m\u001b[0mvalue\u001b[0m\u001b[0;34m)\u001b[0m\u001b[0;34m:\u001b[0m\u001b[0;34m\u001b[0m\u001b[0;34m\u001b[0m\u001b[0m\n\u001b[0m\u001b[1;32m   1025\u001b[0m             \u001b[0;32mraise\u001b[0m \u001b[0mInvalidHeader\u001b[0m\u001b[0;34m(\u001b[0m\u001b[0;34m\"Invalid return character or leading space in header: %s\"\u001b[0m \u001b[0;34m%\u001b[0m \u001b[0mname\u001b[0m\u001b[0;34m)\u001b[0m\u001b[0;34m\u001b[0m\u001b[0;34m\u001b[0m\u001b[0m\n",
      "\u001b[0;31mTypeError\u001b[0m: expected string or bytes-like object",
      "\nDuring handling of the above exception, another exception occurred:\n",
      "\u001b[0;31mInvalidHeader\u001b[0m                             Traceback (most recent call last)",
      "\u001b[0;32m/tmp/ipykernel_4551/2385350712.py\u001b[0m in \u001b[0;36m<module>\u001b[0;34m\u001b[0m\n\u001b[1;32m      8\u001b[0m   \u001b[0;34m\"text\"\u001b[0m\u001b[0;34m\u001b[0m\u001b[0;34m\u001b[0m\u001b[0m\n\u001b[1;32m      9\u001b[0m }\"\"\"\n\u001b[0;32m---> 10\u001b[0;31m \u001b[0mresponse\u001b[0m \u001b[0;34m=\u001b[0m \u001b[0mrequests\u001b[0m\u001b[0;34m.\u001b[0m\u001b[0mpost\u001b[0m\u001b[0;34m(\u001b[0m\u001b[0meTranslationlangdetection\u001b[0m\u001b[0;34m,\u001b[0m\u001b[0mheaders\u001b[0m\u001b[0;34m=\u001b[0m\u001b[0mheaders\u001b[0m\u001b[0;34m,\u001b[0m\u001b[0mdata\u001b[0m\u001b[0;34m=\u001b[0m\u001b[0mdata\u001b[0m\u001b[0;34m)\u001b[0m\u001b[0;34m\u001b[0m\u001b[0;34m\u001b[0m\u001b[0m\n\u001b[0m",
      "\u001b[0;32m~/anaconda3/envs/python_wrap/lib/python3.9/site-packages/requests/api.py\u001b[0m in \u001b[0;36mpost\u001b[0;34m(url, data, json, **kwargs)\u001b[0m\n\u001b[1;32m    115\u001b[0m     \"\"\"\n\u001b[1;32m    116\u001b[0m \u001b[0;34m\u001b[0m\u001b[0m\n\u001b[0;32m--> 117\u001b[0;31m     \u001b[0;32mreturn\u001b[0m \u001b[0mrequest\u001b[0m\u001b[0;34m(\u001b[0m\u001b[0;34m'post'\u001b[0m\u001b[0;34m,\u001b[0m \u001b[0murl\u001b[0m\u001b[0;34m,\u001b[0m \u001b[0mdata\u001b[0m\u001b[0;34m=\u001b[0m\u001b[0mdata\u001b[0m\u001b[0;34m,\u001b[0m \u001b[0mjson\u001b[0m\u001b[0;34m=\u001b[0m\u001b[0mjson\u001b[0m\u001b[0;34m,\u001b[0m \u001b[0;34m**\u001b[0m\u001b[0mkwargs\u001b[0m\u001b[0;34m)\u001b[0m\u001b[0;34m\u001b[0m\u001b[0;34m\u001b[0m\u001b[0m\n\u001b[0m\u001b[1;32m    118\u001b[0m \u001b[0;34m\u001b[0m\u001b[0m\n\u001b[1;32m    119\u001b[0m \u001b[0;34m\u001b[0m\u001b[0m\n",
      "\u001b[0;32m~/anaconda3/envs/python_wrap/lib/python3.9/site-packages/requests/api.py\u001b[0m in \u001b[0;36mrequest\u001b[0;34m(method, url, **kwargs)\u001b[0m\n\u001b[1;32m     59\u001b[0m     \u001b[0;31m# cases, and look like a memory leak in others.\u001b[0m\u001b[0;34m\u001b[0m\u001b[0;34m\u001b[0m\u001b[0m\n\u001b[1;32m     60\u001b[0m     \u001b[0;32mwith\u001b[0m \u001b[0msessions\u001b[0m\u001b[0;34m.\u001b[0m\u001b[0mSession\u001b[0m\u001b[0;34m(\u001b[0m\u001b[0;34m)\u001b[0m \u001b[0;32mas\u001b[0m \u001b[0msession\u001b[0m\u001b[0;34m:\u001b[0m\u001b[0;34m\u001b[0m\u001b[0;34m\u001b[0m\u001b[0m\n\u001b[0;32m---> 61\u001b[0;31m         \u001b[0;32mreturn\u001b[0m \u001b[0msession\u001b[0m\u001b[0;34m.\u001b[0m\u001b[0mrequest\u001b[0m\u001b[0;34m(\u001b[0m\u001b[0mmethod\u001b[0m\u001b[0;34m=\u001b[0m\u001b[0mmethod\u001b[0m\u001b[0;34m,\u001b[0m \u001b[0murl\u001b[0m\u001b[0;34m=\u001b[0m\u001b[0murl\u001b[0m\u001b[0;34m,\u001b[0m \u001b[0;34m**\u001b[0m\u001b[0mkwargs\u001b[0m\u001b[0;34m)\u001b[0m\u001b[0;34m\u001b[0m\u001b[0;34m\u001b[0m\u001b[0m\n\u001b[0m\u001b[1;32m     62\u001b[0m \u001b[0;34m\u001b[0m\u001b[0m\n\u001b[1;32m     63\u001b[0m \u001b[0;34m\u001b[0m\u001b[0m\n",
      "\u001b[0;32m~/anaconda3/envs/python_wrap/lib/python3.9/site-packages/requests/sessions.py\u001b[0m in \u001b[0;36mrequest\u001b[0;34m(self, method, url, params, data, headers, cookies, files, auth, timeout, allow_redirects, proxies, hooks, stream, verify, cert, json)\u001b[0m\n\u001b[1;32m    513\u001b[0m             \u001b[0mhooks\u001b[0m\u001b[0;34m=\u001b[0m\u001b[0mhooks\u001b[0m\u001b[0;34m,\u001b[0m\u001b[0;34m\u001b[0m\u001b[0;34m\u001b[0m\u001b[0m\n\u001b[1;32m    514\u001b[0m         )\n\u001b[0;32m--> 515\u001b[0;31m         \u001b[0mprep\u001b[0m \u001b[0;34m=\u001b[0m \u001b[0mself\u001b[0m\u001b[0;34m.\u001b[0m\u001b[0mprepare_request\u001b[0m\u001b[0;34m(\u001b[0m\u001b[0mreq\u001b[0m\u001b[0;34m)\u001b[0m\u001b[0;34m\u001b[0m\u001b[0;34m\u001b[0m\u001b[0m\n\u001b[0m\u001b[1;32m    516\u001b[0m \u001b[0;34m\u001b[0m\u001b[0m\n\u001b[1;32m    517\u001b[0m         \u001b[0mproxies\u001b[0m \u001b[0;34m=\u001b[0m \u001b[0mproxies\u001b[0m \u001b[0;32mor\u001b[0m \u001b[0;34m{\u001b[0m\u001b[0;34m}\u001b[0m\u001b[0;34m\u001b[0m\u001b[0;34m\u001b[0m\u001b[0m\n",
      "\u001b[0;32m~/anaconda3/envs/python_wrap/lib/python3.9/site-packages/requests/sessions.py\u001b[0m in \u001b[0;36mprepare_request\u001b[0;34m(self, request)\u001b[0m\n\u001b[1;32m    441\u001b[0m \u001b[0;34m\u001b[0m\u001b[0m\n\u001b[1;32m    442\u001b[0m         \u001b[0mp\u001b[0m \u001b[0;34m=\u001b[0m \u001b[0mPreparedRequest\u001b[0m\u001b[0;34m(\u001b[0m\u001b[0;34m)\u001b[0m\u001b[0;34m\u001b[0m\u001b[0;34m\u001b[0m\u001b[0m\n\u001b[0;32m--> 443\u001b[0;31m         p.prepare(\n\u001b[0m\u001b[1;32m    444\u001b[0m             \u001b[0mmethod\u001b[0m\u001b[0;34m=\u001b[0m\u001b[0mrequest\u001b[0m\u001b[0;34m.\u001b[0m\u001b[0mmethod\u001b[0m\u001b[0;34m.\u001b[0m\u001b[0mupper\u001b[0m\u001b[0;34m(\u001b[0m\u001b[0;34m)\u001b[0m\u001b[0;34m,\u001b[0m\u001b[0;34m\u001b[0m\u001b[0;34m\u001b[0m\u001b[0m\n\u001b[1;32m    445\u001b[0m             \u001b[0murl\u001b[0m\u001b[0;34m=\u001b[0m\u001b[0mrequest\u001b[0m\u001b[0;34m.\u001b[0m\u001b[0murl\u001b[0m\u001b[0;34m,\u001b[0m\u001b[0;34m\u001b[0m\u001b[0;34m\u001b[0m\u001b[0m\n",
      "\u001b[0;32m~/anaconda3/envs/python_wrap/lib/python3.9/site-packages/requests/models.py\u001b[0m in \u001b[0;36mprepare\u001b[0;34m(self, method, url, headers, files, data, params, auth, cookies, hooks, json)\u001b[0m\n\u001b[1;32m    317\u001b[0m         \u001b[0mself\u001b[0m\u001b[0;34m.\u001b[0m\u001b[0mprepare_method\u001b[0m\u001b[0;34m(\u001b[0m\u001b[0mmethod\u001b[0m\u001b[0;34m)\u001b[0m\u001b[0;34m\u001b[0m\u001b[0;34m\u001b[0m\u001b[0m\n\u001b[1;32m    318\u001b[0m         \u001b[0mself\u001b[0m\u001b[0;34m.\u001b[0m\u001b[0mprepare_url\u001b[0m\u001b[0;34m(\u001b[0m\u001b[0murl\u001b[0m\u001b[0;34m,\u001b[0m \u001b[0mparams\u001b[0m\u001b[0;34m)\u001b[0m\u001b[0;34m\u001b[0m\u001b[0;34m\u001b[0m\u001b[0m\n\u001b[0;32m--> 319\u001b[0;31m         \u001b[0mself\u001b[0m\u001b[0;34m.\u001b[0m\u001b[0mprepare_headers\u001b[0m\u001b[0;34m(\u001b[0m\u001b[0mheaders\u001b[0m\u001b[0;34m)\u001b[0m\u001b[0;34m\u001b[0m\u001b[0;34m\u001b[0m\u001b[0m\n\u001b[0m\u001b[1;32m    320\u001b[0m         \u001b[0mself\u001b[0m\u001b[0;34m.\u001b[0m\u001b[0mprepare_cookies\u001b[0m\u001b[0;34m(\u001b[0m\u001b[0mcookies\u001b[0m\u001b[0;34m)\u001b[0m\u001b[0;34m\u001b[0m\u001b[0;34m\u001b[0m\u001b[0m\n\u001b[1;32m    321\u001b[0m         \u001b[0mself\u001b[0m\u001b[0;34m.\u001b[0m\u001b[0mprepare_body\u001b[0m\u001b[0;34m(\u001b[0m\u001b[0mdata\u001b[0m\u001b[0;34m,\u001b[0m \u001b[0mfiles\u001b[0m\u001b[0;34m,\u001b[0m \u001b[0mjson\u001b[0m\u001b[0;34m)\u001b[0m\u001b[0;34m\u001b[0m\u001b[0;34m\u001b[0m\u001b[0m\n",
      "\u001b[0;32m~/anaconda3/envs/python_wrap/lib/python3.9/site-packages/requests/models.py\u001b[0m in \u001b[0;36mprepare_headers\u001b[0;34m(self, headers)\u001b[0m\n\u001b[1;32m    451\u001b[0m             \u001b[0;32mfor\u001b[0m \u001b[0mheader\u001b[0m \u001b[0;32min\u001b[0m \u001b[0mheaders\u001b[0m\u001b[0;34m.\u001b[0m\u001b[0mitems\u001b[0m\u001b[0;34m(\u001b[0m\u001b[0;34m)\u001b[0m\u001b[0;34m:\u001b[0m\u001b[0;34m\u001b[0m\u001b[0;34m\u001b[0m\u001b[0m\n\u001b[1;32m    452\u001b[0m                 \u001b[0;31m# Raise exception on invalid header value.\u001b[0m\u001b[0;34m\u001b[0m\u001b[0;34m\u001b[0m\u001b[0m\n\u001b[0;32m--> 453\u001b[0;31m                 \u001b[0mcheck_header_validity\u001b[0m\u001b[0;34m(\u001b[0m\u001b[0mheader\u001b[0m\u001b[0;34m)\u001b[0m\u001b[0;34m\u001b[0m\u001b[0;34m\u001b[0m\u001b[0m\n\u001b[0m\u001b[1;32m    454\u001b[0m                 \u001b[0mname\u001b[0m\u001b[0;34m,\u001b[0m \u001b[0mvalue\u001b[0m \u001b[0;34m=\u001b[0m \u001b[0mheader\u001b[0m\u001b[0;34m\u001b[0m\u001b[0;34m\u001b[0m\u001b[0m\n\u001b[1;32m    455\u001b[0m                 \u001b[0mself\u001b[0m\u001b[0;34m.\u001b[0m\u001b[0mheaders\u001b[0m\u001b[0;34m[\u001b[0m\u001b[0mto_native_string\u001b[0m\u001b[0;34m(\u001b[0m\u001b[0mname\u001b[0m\u001b[0;34m)\u001b[0m\u001b[0;34m]\u001b[0m \u001b[0;34m=\u001b[0m \u001b[0mvalue\u001b[0m\u001b[0;34m\u001b[0m\u001b[0;34m\u001b[0m\u001b[0m\n",
      "\u001b[0;32m~/anaconda3/envs/python_wrap/lib/python3.9/site-packages/requests/utils.py\u001b[0m in \u001b[0;36mcheck_header_validity\u001b[0;34m(header)\u001b[0m\n\u001b[1;32m   1025\u001b[0m             \u001b[0;32mraise\u001b[0m \u001b[0mInvalidHeader\u001b[0m\u001b[0;34m(\u001b[0m\u001b[0;34m\"Invalid return character or leading space in header: %s\"\u001b[0m \u001b[0;34m%\u001b[0m \u001b[0mname\u001b[0m\u001b[0;34m)\u001b[0m\u001b[0;34m\u001b[0m\u001b[0;34m\u001b[0m\u001b[0m\n\u001b[1;32m   1026\u001b[0m     \u001b[0;32mexcept\u001b[0m \u001b[0mTypeError\u001b[0m\u001b[0;34m:\u001b[0m\u001b[0;34m\u001b[0m\u001b[0;34m\u001b[0m\u001b[0m\n\u001b[0;32m-> 1027\u001b[0;31m         raise InvalidHeader(\"Value for header {%s: %s} must be of type str or \"\n\u001b[0m\u001b[1;32m   1028\u001b[0m                             \"bytes, not %s\" % (name, value, type(value)))\n\u001b[1;32m   1029\u001b[0m \u001b[0;34m\u001b[0m\u001b[0m\n",
      "\u001b[0;31mInvalidHeader\u001b[0m: Value for header {credentials: {'application': 'Europeana_IR_20190225', 'password': 'n2ux3PrvqQ5XpSad'}} must be of type str or bytes, not <class 'dict'>"
     ]
    }
   ],
   "source": [
    "langdetectrequest = {}\n",
    "headers = CaseInsensitiveDict()\n",
    "headers['credentials'] = {\"application\" : 'Europeana_IR_20190225',\"password\" : \"n2ux3PrvqQ5XpSad\"}\n",
    "headers['format'] = \"txt\"\n",
    "headers['verbose'] = \"true\"\n",
    "data = \"\"\"\n",
    "{\n",
    "  \"text\"\n",
    "}\"\"\"\n",
    "response = requests.post(eTranslationlangdetection,headers=headers,data=data)"
   ]
  },
  {
   "cell_type": "code",
   "execution_count": 23,
   "id": "deb6916b-22cb-46f2-98fc-ce2e84f5f369",
   "metadata": {},
   "outputs": [],
   "source": [
    "    \n",
    "    eTranslationRestUrl = \" https://language-tools.ec.europa.eu/NamedEntitiesWS/askLanguageDetection\"\n",
    "    applicationName = 'Europeana_IR_20190225'\n",
    "    password = \"n2ux3PrvqQ5XpSad\"\n",
    "\n",
    "    langdetectrequest = {}\n",
    "    langdetectrequest = {}\n",
    "    langdetectrequest['credentials'] = {\"application\" : 'Europeana_IR_20190225',\"password\" : \"n2ux3PrvqQ5XpSad\"}\n",
    "    langdetectrequest['format'] = \"txt\"\n",
    "    langdetectrequest['verbose'] = \"true\"\n",
    "    langdetectrequest['verbose']\n",
    "  \n",
    "\n",
    "    jsonTranslationRequest = json.dumps(langdetectrequest)\n",
    "\n",
    "    jsonHeader = {'Content-Type' : 'multipart/formdata'}\n",
    "    response = requests.post(eTranslationRestUrl, auth=HTTPDigestAuth(applicationName, password), headers = jsonHeader, data=langdetectrequest)\n",
    "    #Translation ID\n",
    "    # tr_ID=response.text\n",
    "    # #building the translation file that will be looked on the server\n",
    "    # #Upper case is needed because this is how the file is saved on Rnd2 server\n",
    "    # capital_source= f'{targetLanguage1}'.upper()\n",
    "    # file_ID= f'{tr_ID}_{capital_source}.txt'\n",
    "    # return file_ID"
   ]
  },
  {
   "cell_type": "code",
   "execution_count": 24,
   "id": "80403b75-d4bf-4414-a623-903b75cf88d1",
   "metadata": {},
   "outputs": [
    {
     "data": {
      "text/plain": [
       "<Response [400]>"
      ]
     },
     "execution_count": 24,
     "metadata": {},
     "output_type": "execute_result"
    }
   ],
   "source": [
    "response"
   ]
  },
  {
   "cell_type": "code",
   "execution_count": null,
   "id": "741f5f2e-1e63-48dd-8c7f-4dbd2a06a5ef",
   "metadata": {},
   "outputs": [],
   "source": []
  }
 ],
 "metadata": {
  "kernelspec": {
   "display_name": "Python 3 (ipykernel)",
   "language": "python",
   "name": "python3"
  },
  "language_info": {
   "codemirror_mode": {
    "name": "ipython",
    "version": 3
   },
   "file_extension": ".py",
   "mimetype": "text/x-python",
   "name": "python",
   "nbconvert_exporter": "python",
   "pygments_lexer": "ipython3",
   "version": "3.9.7"
  }
 },
 "nbformat": 4,
 "nbformat_minor": 5
}
