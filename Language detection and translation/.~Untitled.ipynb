{
 "cells": [
  {
   "cell_type": "markdown",
   "id": "ceaeca52-7efe-4473-a7f2-297acb27e2d4",
   "metadata": {},
   "source": [
    "# Language detection"
   ]
  },
  {
   "cell_type": "markdown",
   "id": "98214956-8366-4257-9801-aa8a981d0a01",
   "metadata": {},
   "source": [
    "Here we are trying out the language detection package from fasttext. This is the same package used by Pangeanic as for April 2022"
   ]
  },
  {
   "cell_type": "code",
   "execution_count": 33,
   "id": "8e79118c-36f8-43b5-a1c8-4cead55f44b3",
   "metadata": {},
   "outputs": [],
   "source": [
    "import pandas as pd\n",
    "#package to recognize language from text\n",
    "import fasttext\n",
    "#package to recognize country from iso code for example \"france\" from \"fr\"\n",
    "import pycountry"
   ]
  },
  {
   "cell_type": "code",
   "execution_count": 8,
   "id": "afe5e82e-5d87-4205-958f-351c20cc248e",
   "metadata": {},
   "outputs": [
    {
     "name": "stderr",
     "output_type": "stream",
     "text": [
      "Warning : `load_model` does not return WordVectorModel or SupervisedModel any more, but a `FastText` object which is very similar.\n"
     ]
    }
   ],
   "source": [
    "#Load the model\n",
    "fasttext_model = fasttext.load_model(\"../files/lid.176.bin\")"
   ]
  },
  {
   "cell_type": "code",
   "execution_count": 30,
   "id": "0743f2d3-505f-4b87-a431-ddeec985d85f",
   "metadata": {},
   "outputs": [],
   "source": [
    "#check test to be translated\n",
    "text =\"come stai\""
   ]
  },
  {
   "cell_type": "code",
   "execution_count": 31,
   "id": "89906bda-a974-4320-9562-10afe1053b20",
   "metadata": {},
   "outputs": [
    {
     "data": {
      "text/plain": [
       "'it'"
      ]
     },
     "execution_count": 31,
     "metadata": {},
     "output_type": "execute_result"
    }
   ],
   "source": [
    "#model prediction\n",
    "language_country=fasttext_model.predict(text)[0][0].split('__')[-1]\n",
    "language_country"
   ]
  },
  {
   "cell_type": "code",
   "execution_count": 32,
   "id": "87066b58-3591-400a-aa0e-35d9324ed724",
   "metadata": {},
   "outputs": [
    {
     "data": {
      "text/plain": [
       "Country(alpha_2='IT', alpha_3='ITA', flag='🇮🇹', name='Italy', numeric='380', official_name='Italian Republic')"
      ]
     },
     "execution_count": 32,
     "metadata": {},
     "output_type": "execute_result"
    }
   ],
   "source": [
    "#\n",
    "country = pycountry.countries.get(alpha_2=language_country)\n",
    "country"
   ]
  },
  {
   "cell_type": "markdown",
   "id": "0b0a75f6-55ca-4fba-9799-16d883641bd3",
   "metadata": {},
   "source": [
    "# References\n",
    "- https://fasttext.cc/docs/en/language-identification.html\n",
    "\n",
    "- https://amitness.com/2019/07/identify-text-language-python/"
   ]
  },
  {
   "cell_type": "code",
   "execution_count": null,
   "id": "ab2b101f-71ea-4a09-8e3f-c90412bc6864",
   "metadata": {},
   "outputs": [],
   "source": []
  }
 ],
 "metadata": {
  "kernelspec": {
   "display_name": "Python 3 (ipykernel)",
   "language": "python",
   "name": "python3"
  },
  "language_info": {
   "codemirror_mode": {
    "name": "ipython",
    "version": 3
   },
   "file_extension": ".py",
   "mimetype": "text/x-python",
   "name": "python",
   "nbconvert_exporter": "python",
   "pygments_lexer": "ipython3",
   "version": "3.9.7"
  }
 },
 "nbformat": 4,
 "nbformat_minor": 5
}
