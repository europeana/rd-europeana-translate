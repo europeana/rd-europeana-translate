{
 "cells": [
  {
   "cell_type": "markdown",
   "metadata": {
    "id": "2BQQwtVDCh8J"
   },
   "source": [
    "# Example of sourcing data combining Search and Record API\n",
    "\n",
    "This notebook leverages the API python wrapper to build a series of API calls with the Search and Record API.\n",
    "The idea to use both Search API and Record API is because  looking up results only with the Search API does not always allow to retrieve all results, some fields are not shown,while the Record API related to an object contains all fields.\n",
    "For example, not all multilingual fields are served in the Search API.\n",
    "If we wanted to retrieve data for multilingual fields that are not served by the Search API an option is to use the Search API in combination with the Record API to retrieve all fields for a specific item.\n"
   ]
  },
  {
   "cell_type": "markdown",
   "metadata": {},
   "source": [
    "This notebook leverages the SEARCH and RECORD API and the Python Wrapper developed by the RnD team\n",
    "\n",
    "You can find more details about the search and the record APIs in the following links:\n",
    "\n",
    "*   https://pro.europeana.eu/page/search\n",
    "*   https://pro.europeana.eu/page/record\n",
    "\n",
    "Those APIs serve data using the Europeana Data Model: https://pro.europeana.eu/page/intro#edm\n"
   ]
  },
  {
   "cell_type": "code",
   "execution_count": 143,
   "metadata": {
    "executionInfo": {
     "elapsed": 274,
     "status": "ok",
     "timestamp": 1638186795157,
     "user": {
      "displayName": "Paolo Scalia",
      "photoUrl": "https://lh3.googleusercontent.com/a/default-user=s64",
      "userId": "05912384729383196122"
     },
     "user_tz": -60
    },
    "id": "y-vzdrmo3otA"
   },
   "outputs": [],
   "source": [
    "#Importing libraries\n",
    "import pandas as pd\n",
    "import pyeuropeana.apis as apis\n",
    "import pyeuropeana.utils as utils\n",
    "import os\n",
    "pd.set_option(\"display.max_rows\", 400)\n",
    "pd.set_option(\"display.max_columns\", 400)\n",
    "pd.options.mode.chained_assignment = None"
   ]
  },
  {
   "cell_type": "markdown",
   "metadata": {},
   "source": [
    " # Combination Search and Record API to retrieve field values"
   ]
  },
  {
   "cell_type": "markdown",
   "metadata": {},
   "source": [
    "Here  example we look for the field value that for  proxy_dc_type.it\n",
    "proxy_dc_type is indexed in Solr but the results are not returned by the Search API. \n",
    "Therefore to retrive the value of it fields for a particolar record we combine the use of record and search API."
   ]
  },
  {
   "cell_type": "code",
   "execution_count": 14,
   "metadata": {},
   "outputs": [],
   "source": [
    "#setting enviroment variable\n",
    "os.environ['EUROPEANA_API_KEY'] = 'api2demo'"
   ]
  },
  {
   "cell_type": "code",
   "execution_count": 22,
   "metadata": {
    "executionInfo": {
     "elapsed": 8,
     "status": "ok",
     "timestamp": 1638186549994,
     "user": {
      "displayName": "Paolo Scalia",
      "photoUrl": "https://lh3.googleusercontent.com/a/default-user=s64",
      "userId": "05912384729383196122"
     },
     "user_tz": -60
    },
    "id": "LJw_YnrgUPbQ"
   },
   "outputs": [],
   "source": [
    "#Function to extract europeana_id numbers that correspond to a certain query\n",
    "def search_api(query):\n",
    "    response = apis.search(\n",
    "    query = query,\n",
    "    rows = 5, \n",
    "    profile='rich'\n",
    "    )\n",
    "    df_search=utils.search2df(response).europeana_id\n",
    "    return df_search"
   ]
  },
  {
   "cell_type": "code",
   "execution_count": 144,
   "metadata": {},
   "outputs": [],
   "source": [
    "#Function to extract data that correspond to the id numbers found in search_api function\n",
    "def record_api(items_id):\n",
    "    df_list=[]\n",
    "    for item in items_id:\n",
    "        data=apis.record(f'{item}')\n",
    "        df_0=pd.json_normalize(data,['object','proxies'])\n",
    "        df_proxy_provider=df_0.iloc[1] #selcting provider proxy - there are the info I am interested in\n",
    "        df_proxy_provider=pd.DataFrame(df_proxy_provider)\n",
    "        df_proxy_provider=df_proxy_provider.transpose()\n",
    "        df_list.append(df_proxy_provider)\n",
    "    df_proxy_tot = pd.concat(df_list, ignore_index=True, axis=0)\n",
    "    return df_proxy_tot"
   ]
  },
  {
   "cell_type": "code",
   "execution_count": 142,
   "metadata": {
    "tags": []
   },
   "outputs": [
    {
     "data": {
      "text/html": [
       "<div>\n",
       "<style scoped>\n",
       "    .dataframe tbody tr th:only-of-type {\n",
       "        vertical-align: middle;\n",
       "    }\n",
       "\n",
       "    .dataframe tbody tr th {\n",
       "        vertical-align: top;\n",
       "    }\n",
       "\n",
       "    .dataframe thead th {\n",
       "        text-align: right;\n",
       "    }\n",
       "</style>\n",
       "<table border=\"1\" class=\"dataframe\">\n",
       "  <thead>\n",
       "    <tr style=\"text-align: right;\">\n",
       "      <th></th>\n",
       "      <th>about</th>\n",
       "      <th>proxyIn</th>\n",
       "      <th>proxyFor</th>\n",
       "      <th>edmType</th>\n",
       "      <th>europeanaProxy</th>\n",
       "      <th>dcIdentifier.def</th>\n",
       "      <th>dcLanguage.def</th>\n",
       "      <th>dcSubject.def</th>\n",
       "      <th>dcType.def</th>\n",
       "      <th>dcContributor.def</th>\n",
       "      <th>dcCreator.def</th>\n",
       "      <th>dcDate.def</th>\n",
       "      <th>dcDescription.it</th>\n",
       "      <th>dcFormat.def</th>\n",
       "      <th>dcRights.def</th>\n",
       "      <th>dcTitle.it</th>\n",
       "      <th>dcType.en</th>\n",
       "      <th>dcType.it</th>\n",
       "      <th>dctermsAlternative.def</th>\n",
       "      <th>dctermsAlternative.it</th>\n",
       "      <th>dctermsIsPartOf.def</th>\n",
       "      <th>dctermsProvenance.def</th>\n",
       "      <th>dcFormat.it</th>\n",
       "      <th>dcRights.it</th>\n",
       "      <th>dctermsExtent.def</th>\n",
       "      <th>dctermsIsPartOf.en</th>\n",
       "      <th>dctermsIsReferencedBy.it</th>\n",
       "      <th>dctermsSpatial.def</th>\n",
       "      <th>edmCurrentLocation.it</th>\n",
       "      <th>dcDate.it</th>\n",
       "      <th>dcDescription.en</th>\n",
       "      <th>dcTitle.en</th>\n",
       "    </tr>\n",
       "  </thead>\n",
       "  <tbody>\n",
       "    <tr>\n",
       "      <th>0</th>\n",
       "      <td>/proxy/provider/40/CNMD0000249225</td>\n",
       "      <td>[/aggregation/provider/40/CNMD0000249225]</td>\n",
       "      <td>/item/40/CNMD0000249225</td>\n",
       "      <td>TEXT</td>\n",
       "      <td>False</td>\n",
       "      <td>NaN</td>\n",
       "      <td>[lat]</td>\n",
       "      <td>[Uccelli, Birds, Animali, Animals, Ornitologia...</td>\n",
       "      <td>NaN</td>\n",
       "      <td>[Cartari, Carlo, Della Rovere, Francesco Maria...</td>\n",
       "      <td>[Djunkovskoy, Stefano]</td>\n",
       "      <td>[1601-1631]</td>\n",
       "      <td>[1601-1631 data stimata; Catalogo anonimo e an...</td>\n",
       "      <td>[cartaceo ; cc. II + 302 + II]</td>\n",
       "      <td>[Biblioteca universitaria Alessandrina - Roma]</td>\n",
       "      <td>[Roma, Biblioteca universitaria Alessandrina, ...</td>\n",
       "      <td>[Manuscript, Monograph]</td>\n",
       "      <td>[Manoscritto, Monografia]</td>\n",
       "      <td>[Continet hic picturas diligentissimas avium, ...</td>\n",
       "      <td>[Ornitologico]</td>\n",
       "      <td>[Fondo Manoscritti della Biblioteca universita...</td>\n",
       "      <td>[Convento del Santissimo Crocifisso dei chieri...</td>\n",
       "      <td>NaN</td>\n",
       "      <td>NaN</td>\n",
       "      <td>NaN</td>\n",
       "      <td>NaN</td>\n",
       "      <td>NaN</td>\n",
       "      <td>NaN</td>\n",
       "      <td>NaN</td>\n",
       "      <td>NaN</td>\n",
       "      <td>NaN</td>\n",
       "      <td>NaN</td>\n",
       "    </tr>\n",
       "    <tr>\n",
       "      <th>1</th>\n",
       "      <td>/proxy/provider/288/work_70019</td>\n",
       "      <td>[/aggregation/provider/288/work_70019]</td>\n",
       "      <td>/item/288/work_70019</td>\n",
       "      <td>IMAGE</td>\n",
       "      <td>False</td>\n",
       "      <td>[work_70019]</td>\n",
       "      <td>[zxx]</td>\n",
       "      <td>[http://vocab.getty.edu/aat/300379558, http://...</td>\n",
       "      <td>[http://vocab.getty.edu/aat/300046001, http://...</td>\n",
       "      <td>NaN</td>\n",
       "      <td>NaN</td>\n",
       "      <td>NaN</td>\n",
       "      <td>NaN</td>\n",
       "      <td>NaN</td>\n",
       "      <td>NaN</td>\n",
       "      <td>[DISTANZIATORE DI COLLANA]</td>\n",
       "      <td>[necklace, DISTANZIATORE DI COLLANA]</td>\n",
       "      <td>[opere]</td>\n",
       "      <td>NaN</td>\n",
       "      <td>NaN</td>\n",
       "      <td>NaN</td>\n",
       "      <td>NaN</td>\n",
       "      <td>[BRONZO]</td>\n",
       "      <td>[MUSEO NAZIONALE PREISTORICO ETNOGRAFICO L. PI...</td>\n",
       "      <td>[altezza: cm 32, diametro: cm 0.7]</td>\n",
       "      <td>[Europeana Archaeology]</td>\n",
       "      <td>[Scheda ICCD RA: 12-00870752]</td>\n",
       "      <td>[http://sws.geonames.org/8015122]</td>\n",
       "      <td>[MUSEO NAZIONALE PREISTORICO ETNOGRAFICO L. PI...</td>\n",
       "      <td>NaN</td>\n",
       "      <td>NaN</td>\n",
       "      <td>NaN</td>\n",
       "    </tr>\n",
       "  </tbody>\n",
       "</table>\n",
       "</div>"
      ],
      "text/plain": [
       "                               about  \\\n",
       "0  /proxy/provider/40/CNMD0000249225   \n",
       "1     /proxy/provider/288/work_70019   \n",
       "\n",
       "                                     proxyIn                 proxyFor edmType  \\\n",
       "0  [/aggregation/provider/40/CNMD0000249225]  /item/40/CNMD0000249225    TEXT   \n",
       "1     [/aggregation/provider/288/work_70019]     /item/288/work_70019   IMAGE   \n",
       "\n",
       "  europeanaProxy dcIdentifier.def dcLanguage.def  \\\n",
       "0          False              NaN          [lat]   \n",
       "1          False     [work_70019]          [zxx]   \n",
       "\n",
       "                                       dcSubject.def  \\\n",
       "0  [Uccelli, Birds, Animali, Animals, Ornitologia...   \n",
       "1  [http://vocab.getty.edu/aat/300379558, http://...   \n",
       "\n",
       "                                          dcType.def  \\\n",
       "0                                                NaN   \n",
       "1  [http://vocab.getty.edu/aat/300046001, http://...   \n",
       "\n",
       "                                   dcContributor.def           dcCreator.def  \\\n",
       "0  [Cartari, Carlo, Della Rovere, Francesco Maria...  [Djunkovskoy, Stefano]   \n",
       "1                                                NaN                     NaN   \n",
       "\n",
       "    dcDate.def                                   dcDescription.it  \\\n",
       "0  [1601-1631]  [1601-1631 data stimata; Catalogo anonimo e an...   \n",
       "1          NaN                                                NaN   \n",
       "\n",
       "                     dcFormat.def  \\\n",
       "0  [cartaceo ; cc. II + 302 + II]   \n",
       "1                             NaN   \n",
       "\n",
       "                                     dcRights.def  \\\n",
       "0  [Biblioteca universitaria Alessandrina - Roma]   \n",
       "1                                             NaN   \n",
       "\n",
       "                                          dcTitle.it  \\\n",
       "0  [Roma, Biblioteca universitaria Alessandrina, ...   \n",
       "1                         [DISTANZIATORE DI COLLANA]   \n",
       "\n",
       "                              dcType.en                  dcType.it  \\\n",
       "0               [Manuscript, Monograph]  [Manoscritto, Monografia]   \n",
       "1  [necklace, DISTANZIATORE DI COLLANA]                    [opere]   \n",
       "\n",
       "                              dctermsAlternative.def dctermsAlternative.it  \\\n",
       "0  [Continet hic picturas diligentissimas avium, ...        [Ornitologico]   \n",
       "1                                                NaN                   NaN   \n",
       "\n",
       "                                 dctermsIsPartOf.def  \\\n",
       "0  [Fondo Manoscritti della Biblioteca universita...   \n",
       "1                                                NaN   \n",
       "\n",
       "                               dctermsProvenance.def dcFormat.it  \\\n",
       "0  [Convento del Santissimo Crocifisso dei chieri...         NaN   \n",
       "1                                                NaN    [BRONZO]   \n",
       "\n",
       "                                         dcRights.it  \\\n",
       "0                                                NaN   \n",
       "1  [MUSEO NAZIONALE PREISTORICO ETNOGRAFICO L. PI...   \n",
       "\n",
       "                    dctermsExtent.def       dctermsIsPartOf.en  \\\n",
       "0                                 NaN                      NaN   \n",
       "1  [altezza: cm 32, diametro: cm 0.7]  [Europeana Archaeology]   \n",
       "\n",
       "        dctermsIsReferencedBy.it                 dctermsSpatial.def  \\\n",
       "0                            NaN                                NaN   \n",
       "1  [Scheda ICCD RA: 12-00870752]  [http://sws.geonames.org/8015122]   \n",
       "\n",
       "                               edmCurrentLocation.it dcDate.it  \\\n",
       "0                                                NaN       NaN   \n",
       "1  [MUSEO NAZIONALE PREISTORICO ETNOGRAFICO L. PI...       NaN   \n",
       "\n",
       "  dcDescription.en dcTitle.en  \n",
       "0              NaN        NaN  \n",
       "1              NaN        NaN  "
      ]
     },
     "execution_count": 142,
     "metadata": {},
     "output_type": "execute_result"
    }
   ],
   "source": [
    "#Example of query--> id_numbers that correspond to it --> using record api to extract data on proxy_provider\n",
    "# and place them in dataframe format\n",
    "query= '(proxy_dc_type.en:* AND proxy_dc_type.it:*)' #dc_type not served in Search API results\n",
    "df_search=search_api(query)\n",
    "df_proxy_tot=record_api(df_search)\n",
    "df_proxy_tot.head(2)"
   ]
  },
  {
   "cell_type": "markdown",
   "metadata": {},
   "source": [
    "# Conclusions"
   ]
  },
  {
   "cell_type": "markdown",
   "metadata": {},
   "source": [
    "Here we saw how to combine Search APi and Record API to retrieve field values that are not served by the Saerch API alone. The general idea is that the record API serves all results while the Search API only a fraction of it to optmize perfomance. "
   ]
  }
 ],
 "metadata": {
  "colab": {
   "collapsed_sections": [],
   "name": "Copy of multilingual_python_interface.ipynb",
   "provenance": []
  },
  "kernelspec": {
   "display_name": "Python 3 (ipykernel)",
   "language": "python",
   "name": "python3"
  },
  "language_info": {
   "codemirror_mode": {
    "name": "ipython",
    "version": 3
   },
   "file_extension": ".py",
   "mimetype": "text/x-python",
   "name": "python",
   "nbconvert_exporter": "python",
   "pygments_lexer": "ipython3",
   "version": "3.9.7"
  }
 },
 "nbformat": 4,
 "nbformat_minor": 4
}
