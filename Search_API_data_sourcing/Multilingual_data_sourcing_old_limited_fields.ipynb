{
 "cells": [
  {
   "cell_type": "markdown",
   "metadata": {
    "id": "2BQQwtVDCh8J"
   },
   "source": [
    "# Multilingual data sourcing\n",
    "\n",
    "This notebook leverages the API python wrapper to build a series of API calls to build monolingual and bilingual datasets using data from Europeana\n",
    "- Bilingual means metadata fields in a specific that have an english translation\n",
    " \n",
    "- Monlingual means metadata fields in a spefic language that do not have an english translation"
   ]
  },
  {
   "cell_type": "markdown",
   "metadata": {},
   "source": [
    "You can find more details about the search and the record APIs in the following links:\n",
    "\n",
    "*   https://pro.europeana.eu/page/search\n",
    "*   https://pro.europeana.eu/page/record\n",
    "\n",
    "Those APIs serve data using the Europeana Data Model: https://pro.europeana.eu/page/intro#edm\n"
   ]
  },
  {
   "cell_type": "code",
   "execution_count": 1,
   "metadata": {},
   "outputs": [
    {
     "name": "stdout",
     "output_type": "stream",
     "text": [
      "/home/pscalia/git/rd-europeana-translate/Search_API_data_sourcing\n"
     ]
    }
   ],
   "source": [
    "! pwd"
   ]
  },
  {
   "cell_type": "code",
   "execution_count": 2,
   "metadata": {
    "executionInfo": {
     "elapsed": 274,
     "status": "ok",
     "timestamp": 1638186795157,
     "user": {
      "displayName": "Paolo Scalia",
      "photoUrl": "https://lh3.googleusercontent.com/a/default-user=s64",
      "userId": "05912384729383196122"
     },
     "user_tz": -60
    },
    "id": "y-vzdrmo3otA"
   },
   "outputs": [
    {
     "ename": "ImportError",
     "evalue": "cannot import name 'Search' from 'pyeuropeana.apis' (/home/pscalia/anaconda3/envs/python_wrap/lib/python3.9/site-packages/pyeuropeana/apis/__init__.py)",
     "output_type": "error",
     "traceback": [
      "\u001b[0;31m---------------------------------------------------------------------------\u001b[0m",
      "\u001b[0;31mImportError\u001b[0m                               Traceback (most recent call last)",
      "\u001b[0;32m/tmp/ipykernel_504/658140373.py\u001b[0m in \u001b[0;36m<module>\u001b[0;34m\u001b[0m\n\u001b[1;32m      8\u001b[0m \u001b[0mpd\u001b[0m\u001b[0;34m.\u001b[0m\u001b[0mset_option\u001b[0m\u001b[0;34m(\u001b[0m\u001b[0;34m\"display.max_rows\"\u001b[0m\u001b[0;34m,\u001b[0m \u001b[0;36m400\u001b[0m\u001b[0;34m)\u001b[0m\u001b[0;34m\u001b[0m\u001b[0;34m\u001b[0m\u001b[0m\n\u001b[1;32m      9\u001b[0m \u001b[0mpd\u001b[0m\u001b[0;34m.\u001b[0m\u001b[0mset_option\u001b[0m\u001b[0;34m(\u001b[0m\u001b[0;34m\"display.max_columns\"\u001b[0m\u001b[0;34m,\u001b[0m \u001b[0;36m400\u001b[0m\u001b[0;34m)\u001b[0m\u001b[0;34m\u001b[0m\u001b[0;34m\u001b[0m\u001b[0m\n\u001b[0;32m---> 10\u001b[0;31m \u001b[0;32mfrom\u001b[0m \u001b[0mpyeuropeana\u001b[0m\u001b[0;34m.\u001b[0m\u001b[0mapis\u001b[0m \u001b[0;32mimport\u001b[0m \u001b[0mSearch\u001b[0m\u001b[0;34m,\u001b[0m \u001b[0mRecord\u001b[0m\u001b[0;34m\u001b[0m\u001b[0;34m\u001b[0m\u001b[0m\n\u001b[0m\u001b[1;32m     11\u001b[0m \u001b[0;32mfrom\u001b[0m \u001b[0mpyeuropeana\u001b[0m\u001b[0;34m.\u001b[0m\u001b[0mutils\u001b[0m \u001b[0;32mimport\u001b[0m \u001b[0mdownload_images\u001b[0m\u001b[0;34m,\u001b[0m \u001b[0meuropeana_id2filename\u001b[0m\u001b[0;34m,\u001b[0m \u001b[0murl2img\u001b[0m\u001b[0;34m\u001b[0m\u001b[0;34m\u001b[0m\u001b[0m\n\u001b[1;32m     12\u001b[0m \u001b[0;32mimport\u001b[0m \u001b[0mmatplotlib\u001b[0m\u001b[0;34m.\u001b[0m\u001b[0mticker\u001b[0m \u001b[0;32mas\u001b[0m \u001b[0mticker\u001b[0m\u001b[0;34m\u001b[0m\u001b[0;34m\u001b[0m\u001b[0m\n",
      "\u001b[0;31mImportError\u001b[0m: cannot import name 'Search' from 'pyeuropeana.apis' (/home/pscalia/anaconda3/envs/python_wrap/lib/python3.9/site-packages/pyeuropeana/apis/__init__.py)"
     ]
    }
   ],
   "source": [
    "#Importing libraries\n",
    "import  pyter\n",
    "import pandas as pd\n",
    "import matplotlib.pyplot as plt\n",
    "pd.options.mode.chained_assignment = None\n",
    "import sys\n",
    "sys.path.append('/home/pscalia/git/rd-europeana-translate/pyeuropeana')\n",
    "pd.set_option(\"display.max_rows\", 400)\n",
    "pd.set_option(\"display.max_columns\", 400)\n",
    "from pyeuropeana.apis import Search, Record\n",
    "from pyeuropeana.utils import download_images, europeana_id2filename, url2img\n",
    "import matplotlib.ticker as ticker\n",
    "from matplotlib.axis import Axis\n",
    "from  datetime import date\n",
    "import math"
   ]
  },
  {
   "cell_type": "code",
   "execution_count": 3,
   "metadata": {},
   "outputs": [
    {
     "name": "stdout",
     "output_type": "stream",
     "text": [
      "['/home/pscalia/git/rd-europeana-translate/Search_API_data_sourcing', '/home/pscalia/git/rd-europeana-translate/Search_API_data_sourcing', '/opt/entity-api-import/entity_collection/munge/mongo_import', '/opt/entity-api-import/entity_collection/munge/mongo_import/entities', '/opt/entity-api-import/entity_collection/munge/mongo_import/entities/preview_builder', '/opt/entity-api-import/entity_collection/munge/mongo_import/entities/ranking_metrics', '/opt/entity-api-import/entity_collection/munge/mongo_import/tests', '/home/pscalia/anaconda3/envs/python_wrap/lib/python39.zip', '/home/pscalia/anaconda3/envs/python_wrap/lib/python3.9', '/home/pscalia/anaconda3/envs/python_wrap/lib/python3.9/lib-dynload', '', '/home/pscalia/anaconda3/envs/python_wrap/lib/python3.9/site-packages', '/home/pscalia/anaconda3/envs/python_wrap/lib/python3.9/site-packages/IPython/extensions', '/home/pscalia/.ipython', '/home/pscalia/git/rd-europeana-translate/pyeuropeana']\n"
     ]
    }
   ],
   "source": [
    "print(sys.path)"
   ]
  },
  {
   "cell_type": "markdown",
   "metadata": {},
   "source": [
    "# General settings"
   ]
  },
  {
   "cell_type": "code",
   "execution_count": 4,
   "metadata": {},
   "outputs": [
    {
     "ename": "NameError",
     "evalue": "name 'date' is not defined",
     "output_type": "error",
     "traceback": [
      "\u001b[0;31m---------------------------------------------------------------------------\u001b[0m",
      "\u001b[0;31mNameError\u001b[0m                                 Traceback (most recent call last)",
      "\u001b[0;32m/tmp/ipykernel_504/2301769134.py\u001b[0m in \u001b[0;36m<module>\u001b[0;34m\u001b[0m\n\u001b[1;32m     12\u001b[0m \u001b[0mdpi\u001b[0m\u001b[0;34m=\u001b[0m\u001b[0;36m400\u001b[0m\u001b[0;34m\u001b[0m\u001b[0;34m\u001b[0m\u001b[0m\n\u001b[1;32m     13\u001b[0m \u001b[0;34m\u001b[0m\u001b[0m\n\u001b[0;32m---> 14\u001b[0;31m \u001b[0mtoday\u001b[0m\u001b[0;34m=\u001b[0m\u001b[0mdate\u001b[0m\u001b[0;34m.\u001b[0m\u001b[0mtoday\u001b[0m\u001b[0;34m(\u001b[0m\u001b[0;34m)\u001b[0m\u001b[0;34m\u001b[0m\u001b[0;34m\u001b[0m\u001b[0m\n\u001b[0m",
      "\u001b[0;31mNameError\u001b[0m: name 'date' is not defined"
     ]
    }
   ],
   "source": [
    "#plottig styles\n",
    "\n",
    "plt.rc('xtick', labelsize=25) \n",
    "plt.rc('ytick', labelsize=25) \n",
    "plt.rc('legend', fontsize=15)\n",
    "fontsize_ylabel=20\n",
    "fontsize_xlabel=20\n",
    "fontsize_title=30\n",
    "plt.style.use('ggplot')\n",
    "#image details\n",
    "image_format = 'jpeg' # e.g .png, .svg, etc.\n",
    "dpi=400\n",
    "\n",
    "today=date.today()"
   ]
  },
  {
   "cell_type": "markdown",
   "metadata": {},
   "source": [
    " # Query  examples"
   ]
  },
  {
   "cell_type": "code",
   "execution_count": 21,
   "metadata": {
    "executionInfo": {
     "elapsed": 8,
     "status": "ok",
     "timestamp": 1638186549994,
     "user": {
      "displayName": "Paolo Scalia",
      "photoUrl": "https://lh3.googleusercontent.com/a/default-user=s64",
      "userId": "05912384729383196122"
     },
     "user_tz": -60
    },
    "id": "LJw_YnrgUPbQ"
   },
   "outputs": [],
   "source": [
    "# Example of use of query\n",
    "api_search = Search('api2demo')"
   ]
  },
  {
   "cell_type": "markdown",
   "metadata": {},
   "source": [
    "proxy_dc_description.{lang1}:* {bilingual} proxy_dc_description.{lang2}:*"
   ]
  },
  {
   "cell_type": "code",
   "execution_count": 4,
   "metadata": {
    "executionInfo": {
     "elapsed": 8,
     "status": "ok",
     "timestamp": 1638186549994,
     "user": {
      "displayName": "Paolo Scalia",
      "photoUrl": "https://lh3.googleusercontent.com/a/default-user=s64",
      "userId": "05912384729383196122"
     },
     "user_tz": -60
    },
    "id": "LJw_YnrgUPbQ"
   },
   "outputs": [],
   "source": [
    "#Example queryto extract Total results\n",
    "response = api_search(\n",
    "    query = '(proxy_dc_description.en:* NOT proxy_dc_description.it:*)', \n",
    "    rows = 5, \n",
    "    profile='standard'\n",
    "    )"
   ]
  },
  {
   "cell_type": "code",
   "execution_count": null,
   "metadata": {},
   "outputs": [],
   "source": [
    "response = api_search(\n",
    "    query = '*', \n",
    "    qf='(COUNTRY:\"United Kingdom\")',\n",
    "    rows = 4829481, \n",
    "    profile='standard'\n",
    "    )"
   ]
  },
  {
   "cell_type": "code",
   "execution_count": 75,
   "metadata": {},
   "outputs": [
    {
     "data": {
      "text/plain": [
       "4829481"
      ]
     },
     "execution_count": 75,
     "metadata": {},
     "output_type": "execute_result"
    }
   ],
   "source": [
    "response.response['totalResults']"
   ]
  },
  {
   "cell_type": "code",
   "execution_count": null,
   "metadata": {},
   "outputs": [],
   "source": [
    "#Check repeatibility number of items, tot_results, presence of duplicates\n",
    "df_=pd.DataFrame(columns=['n_rows','tot_results', 'n_items','n_dupls']) \n",
    "for n in range(10,1000,50):\n",
    "    data = api_search(query = '*:*',qf='(proxy_dc_description.no:* AND  proxy_dc_description.en:*)' ,rows =n)\n",
    "    tot_result=data.response['totalResults']\n",
    "    df_.loc[n,'tot_results']=tot_result\n",
    "    df_.loc[n,'n_rows']=n\n",
    "    df=pd.Series(pd.json_normalize(data.CHO_list).uri)\n",
    "    df_.loc[n,'n_items']=len(df)\n",
    "    df_clean=df.drop_duplicates(keep='first', inplace=False)\n",
    "    n_dupl=len(df)-len(df_clean)\n",
    "    df_.loc[n,'n_dupls']=n_dupl\n",
    "df_.reset_index(drop=True)"
   ]
  },
  {
   "cell_type": "markdown",
   "metadata": {},
   "source": [
    "# Functions definition"
   ]
  },
  {
   "cell_type": "code",
   "execution_count": 5,
   "metadata": {},
   "outputs": [],
   "source": [
    "\n",
    "def language_queries(lang1,bilingual,lang2='en'):\n",
    "    \"\"\" This function builds a set of queries to extract information  \n",
    "    on monolingual or bilingual fields, where one of the fields is english \n",
    "    by default \n",
    "    lang1: string first language, use ISO code (ex: fr for french)\n",
    "    bilingual: string possible values are \"AND\" or \"NOT\" to select monolingual or \n",
    "    bilingual queries respectively\n",
    "    \"\"\"\n",
    "    queries={\n",
    "        'dc_description': f'(proxy_dc_description.{lang1}:* {bilingual} proxy_dc_description.{lang2}:*)',\n",
    "        'dc_title': f'(proxy_dc_title.{lang1}:* {bilingual} proxy_dc_title.{lang2}:*)',\n",
    "        'dc_subject': f'(proxy_dc_subject.{lang1}:* {bilingual} proxy_dc_subject.{lang2}:*)',\n",
    "        'dc_coverage': f'(proxy_dc_coverage.{lang1}:* {bilingual} proxy_dc_coverage.{lang2}:*)',\n",
    "        'edm_current_location':f'(proxy_edm_currentLocation.{lang1}:* {bilingual} proxy_edm_currentLocation.{lang2}:*)',\n",
    "        'dcterms_medium': f'(proxy_dcterms_medium.{lang1}:* {bilingual} proxy_dcterms_medium.{lang2}:*)',\n",
    "        'dcterms_hasPart':f'(proxy_dcterms_hasPart.{lang1}:* {bilingual} proxy_dcterms_hasPart.{lang2}:*)',\n",
    "        'dcterms_spatial':f'(proxy_dcterms_spatial.{lang1}:* {bilingual} proxy_dcterms_spatial.{lang2}:*)',\n",
    "        'dc_format':f'(proxy_dc_format.{lang1}:* {bilingual} proxy_dc_format.{lang2}:*)',\n",
    "        'dc_source':f'(proxy_dc_source.{lang1}:* {bilingual} proxy_dc_source.{lang2}:*)',\n",
    "        'dc_rights':f'(proxy_dc_rights.{lang1}:* {bilingual} proxy_dc_rights.{lang2}:*)',\n",
    "        'dc_terms_alternative':f'(proxy_dcterms_alternative.{lang1}:* {bilingual} proxy_dcterms_alternative.{lang2}:*)'\n",
    "            }\n",
    "    return queries"
   ]
  },
  {
   "cell_type": "code",
   "execution_count": 6,
   "metadata": {},
   "outputs": [],
   "source": [
    "def multiple_language_queries(lang ,bilingual, lang2='en'):\n",
    "    \"\"\"This function builds a dictionary where each key is a \n",
    "    language and the values all the queries from function language_queries \n",
    "    lang: lists of languages, ISO fromat\n",
    "    bilingual: string possible values are \"AND\" or \"NOT\" to select monolingual or \n",
    "    bilingual queries\n",
    "    \"\"\"\n",
    "    queries={}\n",
    "    for l in lang:\n",
    "        queries_single_l=language_queries(l,bilingual,lang2='en')\n",
    "        queries[l]=queries_single_l\n",
    "    return queries"
   ]
  },
  {
   "cell_type": "code",
   "execution_count": 7,
   "metadata": {
    "id": "-qr0YPv94dvA"
   },
   "outputs": [],
   "source": [
    "def tot_results_queries(lang ,n_rows=1, save=False, biling=True):\n",
    "    \"\"\"This function returns a dataframe , \n",
    "    the first column indicates the metadata considered   \n",
    "    the second column the number of hits for that specific field\n",
    "    the index of the dataframe are the languages in the parameter lang\n",
    "    lang:  languages, ISO format\n",
    "    save: boolean, if TRUE the resulting dataframe is saved as csv file\n",
    "    n_rows: parameter for the number of returned items\n",
    "    \"\"\"\n",
    "    if biling:\n",
    "        queries_dict=multiple_language_queries(lang ,bilingual='AND', lang2='en')\n",
    "    else:\n",
    "        queries_dict=multiple_language_queries(lang ,bilingual='NOT', lang2='en')\n",
    "    df=pd.DataFrame(index=lang)\n",
    "    for l in lang:\n",
    "        for key, value in queries_dict[l].items():  \n",
    "            CHO_data = api_search(query = '*:*',qf=f'{value}' ,rows = n_rows)\n",
    "            tot_results=CHO_data.response['totalResults']\n",
    "            df.loc[l,key]=tot_results \n",
    "    df.loc[:,'Tot_results'] = df.iloc[:,:].sum(axis=1)\n",
    "    if 'en' in df.index:\n",
    "        df.drop('en', axis=0, inplace=True)\n",
    "    df_percentage=pd.DataFrame(columns= df.columns, index=df.index)\n",
    "    for col in df.columns:\n",
    "        df_percentage[col]=df[col]/df.Tot_results\n",
    "    df_percentage.drop('Tot_results',axis=1, inplace=True)\n",
    "    df_percentage.loc[:,'Tot_results'] = df_percentage.iloc[:,:].sum(axis=1)\n",
    "    if 'en' in df_percentage.index:\n",
    "        df_percentage.drop('en', axis=0, inplace=True)\n",
    "    tot_lang='_'.join(lang)\n",
    "    if save and biling:\n",
    "        df.to_csv(f'{today}_{tot_lang}_tot_results_bilingual.csv')\n",
    "    elif save and not biling:\n",
    "        df.to_csv(f'{today}_{tot_lang}_tot_results_monolingual.csv')\n",
    "    return df, df_percentage\n"
   ]
  },
  {
   "cell_type": "code",
   "execution_count": 8,
   "metadata": {},
   "outputs": [],
   "source": [
    "def queries_items_uri(lang, n_rows=1, save=False,biling=True):\n",
    "    \"\"\"This function build a dataframe where the first column indicates\n",
    "    the type of query executed and the second the item that satisfies that query\n",
    "    lang: string language in ISO format, takes one value of lang (not a list)\n",
    "    save: boolean, if TRUE the resulting dataframe is saved as excel file\n",
    "    n_rows: parameter for the number of returned items\n",
    "    biling: boolean, if TRUE bilingual version of the queries is used, if FALSE the \n",
    "    monolingual version\"\"\"\n",
    "    if biling:\n",
    "        queries_dict=multiple_language_queries([lang] ,bilingual='AND', lang2='en')\n",
    "    else:\n",
    "        queries_dict=multiple_language_queries([lang] ,bilingual='NOT', lang2='en')\n",
    "    # initalizing list of dataframes\n",
    "    df_list=[]\n",
    "    for _ ,value in queries_dict[lang].items():  \n",
    "        print(value)\n",
    "        df=pd.DataFrame(columns=['field','europeana_uri'])\n",
    "        CHO_data = api_search(query = '*:*',qf=f'{value}' ,rows = n_rows)\n",
    "        n_files=CHO_data.response['totalResults']\n",
    "        if n_files > 0:\n",
    "            CHO_data_all = api_search(query = '*:*',qf=f'{value}' ,rows = n_files)\n",
    "            print('ok')\n",
    "            df['europeana_uri']=pd.json_normalize(CHO_data_all.CHO_list).uri\n",
    "            print(len(df))\n",
    "            df['field']=value\n",
    "            df_list.append(df)     \n",
    "        else:\n",
    "            pass \n",
    "    df_tot = pd.concat(df_list, ignore_index=True) # concatenate all dataframes from all queries\n",
    "    df_tot_clear_dup=df_tot.drop_duplicates(subset=None, keep='first', inplace=False)\n",
    "    if save and biling:\n",
    "        df_tot_clear_dup.to_csv(f'{today}_{lang}_en_bilingual.csv')\n",
    "    elif save and not biling:\n",
    "        df_tot_clear_dup.to_csv(f'{today}_{lang}_monolingual.csv')\n",
    "    return df_tot_clear_dup"
   ]
  },
  {
   "cell_type": "code",
   "execution_count": 9,
   "metadata": {},
   "outputs": [],
   "source": [
    "def monoling_biling_to_stack(mono_nr, bili_nr, lang_list):\n",
    "    \"\"\" This function generates a dataframe whose columns are \n",
    "    - the number of bilingual tags,\n",
    "    - the number of monolingual tags\n",
    "    - the number of total tags\n",
    "    The index of the df are the languages contained in lang_list\n",
    "    Three version of the dataframe are generated\n",
    "    - df_sorted_biling: rows sorted per descendinng values of bilignual tags\n",
    "    - df_sorted_monloling: rows sorted per descendinng values of monoling tags\n",
    "    -df_sorted_tot_lang_tagged: rows sorted per descendinng values of total tags\n",
    "      monlolingual and bilingual\n",
    "      Parameters\n",
    "      mono_nr: number of monlingual hits per language- series\n",
    "      bilin_nr: number of monlingual hits per language- series\n",
    "      lang_list: list of languages considered\n",
    "    \"\"\"\n",
    "    df_tot=pd.DataFrame({'n_biling_tag':bili_nr.Tot_results,'n_monoling_tag':mono_nr.Tot_results}, index=lang_list)\n",
    "    df_tot.loc[:,'Tot_lang_tag']=df_tot.loc[:,'n_biling_tag']+df_tot.loc[:,'n_monoling_tag']\n",
    "    if 'en'in df_tot.index:\n",
    "        df_sorted=df_tot.drop('en',axis=0)  \n",
    "    else:\n",
    "        df_sorted=df_tot\n",
    "    df_sorted_biling=df_sorted.sort_values(by='n_biling_tag', ascending=False)\n",
    "    df_sorted_monoling=df_sorted.sort_values(by='n_monoling_tag', ascending=False)\n",
    "    df_sorted_tot_lang_tagged=df_sorted.sort_values(by='Tot_lang_tag', ascending=False)\n",
    "    return df_sorted_biling,df_sorted_monoling,df_sorted_tot_lang_tagged"
   ]
  },
  {
   "cell_type": "markdown",
   "metadata": {},
   "source": [
    "# Plotting functions"
   ]
  },
  {
   "cell_type": "code",
   "execution_count": 10,
   "metadata": {},
   "outputs": [],
   "source": [
    "def plot_tot_results(results_nr, results_pct, datatype='bilingual', save=True):\n",
    "    \"\"\"This function plots the monolingual or bilingual hits creating two subplts\n",
    "    - The first is a barplot for the total language hits (monolingual or bilingual)\n",
    "    - The second is a barplot with the results in percentages of the fields (monolingual or bilingual)\n",
    "    Parameters\n",
    "     results_nr: series- output of function tot_results_queries (absolute hits per fields)\n",
    "     results_nr: series- output of function tot_results_queries(percentage numbers calculated on total hits)\n",
    "     datatype: string used for labelling the plots- monlingual or bilingual\n",
    "     \"\"\"\n",
    "    fig, axes = plt.subplots(2,1,figsize=(15, 10), sharex=True)\n",
    "    axes[0].set_title(datatype,fontsize=fontsize_title)\n",
    "    axes[0].set_ylabel(f'# {datatype} tagged metafields', fontsize=fontsize_ylabel )\n",
    "    res_nr=results_nr['Tot_results'].sort_values(ascending=False)\n",
    "    res_nr.plot(kind='bar', mark_right=True,ax=axes[0])\n",
    "    axes[0].hlines(1e5, -1, 100,color='black',lw=3, label='100000 tagged fields')\n",
    "    axes[0].legend(loc='upper right',fontsize=20)\n",
    "    #####\n",
    "    axes[1].set_ylabel('field percentage',fontsize= fontsize_ylabel)\n",
    "    axes[1].set_ylim( ymax=1)\n",
    "    results_pct_idx=results_pct.reindex(res_nr.index)\n",
    "    results_pct_idx.iloc[:,:-1].plot(kind='bar', stacked=True, cmap=\"tab20c\",ax=axes[1])\n",
    "    box = axes[1].get_position()\n",
    "    axes[1].set_position([box.x0, box.y0, box.width * 0.9, box.height])\n",
    "    axes[1].legend(loc='center left', bbox_to_anchor=(1, 0.5))\n",
    "    axes[1].set_ylim( ymax=1.1)\n",
    "    fig.tight_layout()\n",
    "    languages=list(results_nr.index.values) \n",
    "    tot_lang='_'.join(languages)\n",
    "    if save:\n",
    "        image_name=f'plot_{today}_{tot_lang}_{datatype}.{image_format}'\n",
    "        fig.savefig(image_name, format=image_format, dpi=dpi)\n",
    "    return None"
   ]
  },
  {
   "cell_type": "code",
   "execution_count": 11,
   "metadata": {},
   "outputs": [],
   "source": [
    "def plot_stacked_bars_split(w,h,df,y_min_top,y_max_bottom, columns,save=True):\n",
    "    \"\"\"This function plots the monolingual and bilingual hits creating a stacked bar plot\n",
    "    The plot conatins also an interruption on the y axis to make the results more clear\n",
    "    Parameters\n",
    "    df: dataframe,  single df output of monoling_biling_to_stack fucntion\n",
    "    w: width of plot\n",
    "    h: height of plot\n",
    "    y_min_top:   value for the top part of the split\n",
    "    y_max_bottom:  value for the bottom part of the split\n",
    "    columns: which columns in df to consider- typically 'n_biling_tag','n_monoling_tag' \"\"\"\n",
    "    fig,(ax,ax1) = plt.subplots(2,1,figsize=(w, h))\n",
    "    fig.subplots_adjust(hspace=0.001)\n",
    "    df[columns].plot(kind='bar', ax=ax1,stacked=True,legend=False)\n",
    "    df[columns].plot(kind='bar', ax=ax,stacked=True)\n",
    "    ax1.hlines(1e5, -1, 100,color='black',lw=3, label='100000 tagged fields')\n",
    "    ax.hlines(1e5, -1, 100,color='black',lw=3, label='100000 tagged fields')\n",
    "    ax.legend(loc='upper right')\n",
    "    ax.set_xticks([]) \n",
    "    ax.set_title('number monolingual and bilingual (english-eu_language) metadata',fontsize=18)\n",
    "    ax.legend(loc='upper right')\n",
    "    ax.set_ylabel('# language tagged metadata fields',fontsize=16, loc='top')\n",
    "    formatter = ticker.EngFormatter(unit='')\n",
    "    Axis.set_major_formatter(ax.yaxis, formatter)\n",
    "    Axis.set_major_formatter(ax1.yaxis, formatter)\n",
    "    ax.set_ylim(ymin=y_min_top)\n",
    "    ax1.set_ylim(ymax=y_max_bottom)\n",
    "    ax.legend(loc='upper right')\n",
    "    #ax.set_yticks([x for x in range(0,int(y_min_top), int(2e5))])\n",
    "    ax1.set_yticks([x for x in range(0,int(y_max_bottom), int(2e5))])\n",
    "    ax.set_yticks([x for x in range(int(y_min_top),int(12e6), int(3e6))])\n",
    "    #plt.gca().yaxis.set_major_formatter(ticker.EngFormatter(unit=''))\n",
    "    fig.tight_layout()\n",
    "    languages=list(df[columns].index.values) \n",
    "    tot_lang='_'.join(languages)\n",
    "    if save:\n",
    "        image_name=f'plot_{today}_{tot_lang}_mono_bili_stack.{image_format}'\n",
    "        fig.savefig(image_name, format=image_format, dpi=dpi)\n",
    "    \n",
    "    return None"
   ]
  },
  {
   "cell_type": "markdown",
   "metadata": {},
   "source": [
    "Bulgarian Croatian Czech Danish Dutch English Estonian Finnish French German Greek Hungarian Irish Italian Latvian Lithuanian Maltese Polish Portuguese Romanian Slovak Slovene Spanish Swedish"
   ]
  },
  {
   "cell_type": "markdown",
   "metadata": {},
   "source": [
    "## Building ensemble of languages to be used"
   ]
  },
  {
   "cell_type": "code",
   "execution_count": 12,
   "metadata": {},
   "outputs": [],
   "source": [
    "#Official 24 languages\n",
    "lg_iso_24={\"bulgarian\":\"bg\", \"croatian\":\"hr\", \"czech\":\"cs\",\"danish\":\"da\", \"dutch\":\"nl\", \"english\":\"en\",\"estonian\":\"et\",\n",
    " \"finnish\":\"fi\",\"french\":\"fr\", \"german\":\"de\", \"greek\":\"el\",\"hungarian\":\"hu\", \"irish\":\"ga\",\"italian\":\"it\",\n",
    " \"latvian\":\"lv\",\"lithuanian\":\"lt\",\"maltese\":\"mt\",\"polish\":\"pl\", \"portoghese\":\"pt\",\"romanian\":\"ro\", \n",
    " \"slovak\":\"sk\",\"slovenian\":\"sl\", \"spanish\":\"es\", \"swedish\":\"sv\"}"
   ]
  },
  {
   "cell_type": "code",
   "execution_count": 13,
   "metadata": {},
   "outputs": [],
   "source": [
    "# More general group of languages\n",
    "lg_iso_eu={\"bulgarian\":\"bg\", \"croatian\":\"hr\", \"czech\":\"cs\",\"danish\":\"da\", \"dutch\":\"nl\", \"english\":\"en\",\"estonian\":\"et\",\n",
    " \"finnish\":\"fi\",\"french\":\"fr\", \"german\":\"de\", \"greek\":\"el\",\"hungarian\":\"hu\",\"italian\":\"it\",\n",
    " \"latvian\":\"lv\",\"lithuanian\":\"lt\",\"maltese\":\"mt\",\"polish\":\"pl\", \"portoghese\":\"pt\",\"romanian\":\"ro\", \n",
    " \"slovak\":\"sk\",\"slovenian\":\"sl\", \"spanish\":\"es\", \"swedish\":\"sv\", \"norvegian\":\"no\",\"turkish\":\"tr\", \"catalan\":\"ca\", \"russian\":\"ru\",\"bosniac\":\"bs\"}"
   ]
  },
  {
   "cell_type": "code",
   "execution_count": 14,
   "metadata": {},
   "outputs": [
    {
     "data": {
      "text/plain": [
       "24"
      ]
     },
     "execution_count": 14,
     "metadata": {},
     "output_type": "execute_result"
    }
   ],
   "source": [
    "len(lg_iso_24)"
   ]
  },
  {
   "cell_type": "code",
   "execution_count": 15,
   "metadata": {},
   "outputs": [],
   "source": [
    "lang_24=[]\n",
    "for key, value in lg_iso_24.items():\n",
    "    lang_24.append(value)"
   ]
  },
  {
   "cell_type": "code",
   "execution_count": 16,
   "metadata": {},
   "outputs": [],
   "source": [
    "#all languages found so far, more than the 24 european\n",
    "lang=['it', 'mul','fr','de','nl', 'en', 'hu'\n",
    "     , 'sv', 'es', 'cs', 'el', 'ro'\n",
    "     ,'ca','pl','pt', 'bg', 'da', 'no', 'hr',\n",
    "     'lt', 'fi', 'et', 'ru', 'sr', 'lv', 'sl',\n",
    "     'bs', 'sk', 'tr','hr','mt', 'rm','ga','ro', 'no']"
   ]
  },
  {
   "cell_type": "code",
   "execution_count": null,
   "metadata": {},
   "outputs": [],
   "source": [
    "#monolingual queries\n",
    "queries_dict_monoling=multiple_language_queries(['fr','nl'], bilingual= 'NOT',lang2='en')\n",
    "#bilingual queries\n",
    "queries_dict_biling=multiple_language_queries(['fr','nl'], bilingual= 'AND',lang2='en')"
   ]
  },
  {
   "cell_type": "code",
   "execution_count": null,
   "metadata": {},
   "outputs": [],
   "source": []
  },
  {
   "cell_type": "code",
   "execution_count": null,
   "metadata": {},
   "outputs": [],
   "source": [
    "#results for monolingual queries\n",
    "monoling_res, monoling_res_pct=tot_results_queries(lang_24 ,n_rows=1, save=True, biling=False)\n",
    "#results for bilingual queries\n",
    "biling_res , biling_res_pct=tot_results_queries(lang_24,n_rows=1, save=True, biling=True)"
   ]
  },
  {
   "cell_type": "code",
   "execution_count": null,
   "metadata": {},
   "outputs": [],
   "source": [
    "lang_23=lang_24.remove(\"sl\")"
   ]
  },
  {
   "cell_type": "code",
   "execution_count": null,
   "metadata": {},
   "outputs": [],
   "source": [
    "df=multiple_language_queries('nl',bilingual='NOT', lang2='en')"
   ]
  },
  {
   "cell_type": "code",
   "execution_count": null,
   "metadata": {},
   "outputs": [],
   "source": [
    "for language in lang_24:\n",
    "        queries_items_uri(language, n_rows=1, save=True,biling=False)\n",
    "        queries_items_uri(language, n_rows=1, save=True,biling=True) "
   ]
  },
  {
   "cell_type": "code",
   "execution_count": 17,
   "metadata": {},
   "outputs": [
    {
     "name": "stdout",
     "output_type": "stream",
     "text": [
      "(proxy_dc_description.pt:* NOT proxy_dc_description.en:*)\n",
      "ok\n",
      "28438\n",
      "(proxy_dc_title.pt:* NOT proxy_dc_title.en:*)\n",
      "ok\n",
      "142643\n",
      "(proxy_dc_subject.pt:* NOT proxy_dc_subject.en:*)\n",
      "ok\n",
      "92445\n",
      "(proxy_dc_coverage.pt:* NOT proxy_dc_coverage.en:*)\n",
      "(proxy_edm_currentLocation.pt:* NOT proxy_edm_currentLocation.en:*)\n",
      "(proxy_dcterms_medium.pt:* NOT proxy_dcterms_medium.en:*)\n",
      "ok\n",
      "5912\n",
      "(proxy_dcterms_hasPart.pt:* NOT proxy_dcterms_hasPart.en:*)\n",
      "(proxy_dcterms_spatial.pt:* NOT proxy_dcterms_spatial.en:*)\n",
      "ok\n",
      "1930\n",
      "(proxy_dc_format.pt:* NOT proxy_dc_format.en:*)\n",
      "ok\n",
      "56264\n",
      "(proxy_dc_source.pt:* NOT proxy_dc_source.en:*)\n",
      "ok\n",
      "288\n",
      "(proxy_dc_rights.pt:* NOT proxy_dc_rights.en:*)\n",
      "ok\n",
      "1354\n",
      "(proxy_dcterms_alternative.pt:* NOT proxy_dcterms_alternative.en:*)\n",
      "ok\n",
      "1373\n"
     ]
    },
    {
     "data": {
      "text/html": [
       "<div>\n",
       "<style scoped>\n",
       "    .dataframe tbody tr th:only-of-type {\n",
       "        vertical-align: middle;\n",
       "    }\n",
       "\n",
       "    .dataframe tbody tr th {\n",
       "        vertical-align: top;\n",
       "    }\n",
       "\n",
       "    .dataframe thead th {\n",
       "        text-align: right;\n",
       "    }\n",
       "</style>\n",
       "<table border=\"1\" class=\"dataframe\">\n",
       "  <thead>\n",
       "    <tr style=\"text-align: right;\">\n",
       "      <th></th>\n",
       "      <th>field</th>\n",
       "      <th>europeana_uri</th>\n",
       "    </tr>\n",
       "  </thead>\n",
       "  <tbody>\n",
       "    <tr>\n",
       "      <th>0</th>\n",
       "      <td>(proxy_dc_description.pt:* NOT proxy_dc_descri...</td>\n",
       "      <td>http://data.europeana.eu/item/9200102/Bibliogr...</td>\n",
       "    </tr>\n",
       "    <tr>\n",
       "      <th>1</th>\n",
       "      <td>(proxy_dc_description.pt:* NOT proxy_dc_descri...</td>\n",
       "      <td>http://data.europeana.eu/item/9200102/Bibliogr...</td>\n",
       "    </tr>\n",
       "    <tr>\n",
       "      <th>2</th>\n",
       "      <td>(proxy_dc_description.pt:* NOT proxy_dc_descri...</td>\n",
       "      <td>http://data.europeana.eu/item/9200102/Bibliogr...</td>\n",
       "    </tr>\n",
       "    <tr>\n",
       "      <th>3</th>\n",
       "      <td>(proxy_dc_description.pt:* NOT proxy_dc_descri...</td>\n",
       "      <td>http://data.europeana.eu/item/9200102/Bibliogr...</td>\n",
       "    </tr>\n",
       "    <tr>\n",
       "      <th>4</th>\n",
       "      <td>(proxy_dc_description.pt:* NOT proxy_dc_descri...</td>\n",
       "      <td>http://data.europeana.eu/item/9200102/Bibliogr...</td>\n",
       "    </tr>\n",
       "    <tr>\n",
       "      <th>...</th>\n",
       "      <td>...</td>\n",
       "      <td>...</td>\n",
       "    </tr>\n",
       "    <tr>\n",
       "      <th>330642</th>\n",
       "      <td>(proxy_dcterms_alternative.pt:* NOT proxy_dcte...</td>\n",
       "      <td>http://data.europeana.eu/item/08604/A5BDCCA949...</td>\n",
       "    </tr>\n",
       "    <tr>\n",
       "      <th>330643</th>\n",
       "      <td>(proxy_dcterms_alternative.pt:* NOT proxy_dcte...</td>\n",
       "      <td>http://data.europeana.eu/item/08604/79F452CC72...</td>\n",
       "    </tr>\n",
       "    <tr>\n",
       "      <th>330644</th>\n",
       "      <td>(proxy_dcterms_alternative.pt:* NOT proxy_dcte...</td>\n",
       "      <td>http://data.europeana.eu/item/08604/3ADB1F0F36...</td>\n",
       "    </tr>\n",
       "    <tr>\n",
       "      <th>330645</th>\n",
       "      <td>(proxy_dcterms_alternative.pt:* NOT proxy_dcte...</td>\n",
       "      <td>http://data.europeana.eu/item/08604/2F7DA87576...</td>\n",
       "    </tr>\n",
       "    <tr>\n",
       "      <th>330646</th>\n",
       "      <td>(proxy_dcterms_alternative.pt:* NOT proxy_dcte...</td>\n",
       "      <td>http://data.europeana.eu/item/08604/28D14F7DD6...</td>\n",
       "    </tr>\n",
       "  </tbody>\n",
       "</table>\n",
       "<p>330647 rows × 2 columns</p>\n",
       "</div>"
      ],
      "text/plain": [
       "                                                    field  \\\n",
       "0       (proxy_dc_description.pt:* NOT proxy_dc_descri...   \n",
       "1       (proxy_dc_description.pt:* NOT proxy_dc_descri...   \n",
       "2       (proxy_dc_description.pt:* NOT proxy_dc_descri...   \n",
       "3       (proxy_dc_description.pt:* NOT proxy_dc_descri...   \n",
       "4       (proxy_dc_description.pt:* NOT proxy_dc_descri...   \n",
       "...                                                   ...   \n",
       "330642  (proxy_dcterms_alternative.pt:* NOT proxy_dcte...   \n",
       "330643  (proxy_dcterms_alternative.pt:* NOT proxy_dcte...   \n",
       "330644  (proxy_dcterms_alternative.pt:* NOT proxy_dcte...   \n",
       "330645  (proxy_dcterms_alternative.pt:* NOT proxy_dcte...   \n",
       "330646  (proxy_dcterms_alternative.pt:* NOT proxy_dcte...   \n",
       "\n",
       "                                            europeana_uri  \n",
       "0       http://data.europeana.eu/item/9200102/Bibliogr...  \n",
       "1       http://data.europeana.eu/item/9200102/Bibliogr...  \n",
       "2       http://data.europeana.eu/item/9200102/Bibliogr...  \n",
       "3       http://data.europeana.eu/item/9200102/Bibliogr...  \n",
       "4       http://data.europeana.eu/item/9200102/Bibliogr...  \n",
       "...                                                   ...  \n",
       "330642  http://data.europeana.eu/item/08604/A5BDCCA949...  \n",
       "330643  http://data.europeana.eu/item/08604/79F452CC72...  \n",
       "330644  http://data.europeana.eu/item/08604/3ADB1F0F36...  \n",
       "330645  http://data.europeana.eu/item/08604/2F7DA87576...  \n",
       "330646  http://data.europeana.eu/item/08604/28D14F7DD6...  \n",
       "\n",
       "[330647 rows x 2 columns]"
      ]
     },
     "execution_count": 17,
     "metadata": {},
     "output_type": "execute_result"
    }
   ],
   "source": [
    "queries_items_uri('pt', n_rows=1, save=True,biling=False)"
   ]
  },
  {
   "cell_type": "code",
   "execution_count": null,
   "metadata": {},
   "outputs": [
    {
     "name": "stdout",
     "output_type": "stream",
     "text": [
      "(proxy_dc_description.nl:* AND proxy_dc_description.en:*)\n",
      "ok\n",
      "156447\n",
      "(proxy_dc_title.nl:* AND proxy_dc_title.en:*)\n",
      "ok\n",
      "219572\n",
      "(proxy_dc_subject.nl:* AND proxy_dc_subject.en:*)\n",
      "ok\n",
      "56661\n",
      "(proxy_dc_coverage.nl:* AND proxy_dc_coverage.en:*)\n",
      "ok\n",
      "124654\n",
      "(proxy_edm_currentLocation.nl:* AND proxy_edm_currentLocation.en:*)\n",
      "(proxy_dcterms_medium.nl:* AND proxy_dcterms_medium.en:*)\n"
     ]
    }
   ],
   "source": [
    "queries_items_uri('nl', n_rows=1, save=True, biling=True)"
   ]
  },
  {
   "cell_type": "code",
   "execution_count": null,
   "metadata": {},
   "outputs": [],
   "source": [
    "math.floor(5.6)"
   ]
  },
  {
   "cell_type": "code",
   "execution_count": null,
   "metadata": {},
   "outputs": [],
   "source": []
  },
  {
   "cell_type": "markdown",
   "metadata": {},
   "source": [
    "# Plotting the statistics on metadata fields"
   ]
  },
  {
   "cell_type": "code",
   "execution_count": null,
   "metadata": {},
   "outputs": [],
   "source": [
    "#total results bar chart plus bar chart stacked to show percentage of fields\n",
    "# in the results\n",
    "plot_tot_results(monoling_res, monoling_res_pct, datatype=\"monolingual\")"
   ]
  },
  {
   "cell_type": "code",
   "execution_count": null,
   "metadata": {},
   "outputs": [],
   "source": [
    "plot_tot_results(biling_res, biling_res_pct, datatype=\"bilingual\")"
   ]
  },
  {
   "cell_type": "code",
   "execution_count": null,
   "metadata": {},
   "outputs": [],
   "source": [
    "df_sorted_biling,_,_=monoling_biling_to_stack(monoling_res, biling_res, lang_list=lang_24)\n",
    "df_sorted_biling"
   ]
  },
  {
   "cell_type": "code",
   "execution_count": null,
   "metadata": {},
   "outputs": [],
   "source": [
    "#plot barplotts bilingual-monolinguual with y-axes split for better visualization\n",
    "plot_stacked_bars_split(14,5,df_sorted_biling, 1e6,0.7e6,['n_biling_tag','n_monoling_tag'])"
   ]
  },
  {
   "cell_type": "code",
   "execution_count": null,
   "metadata": {},
   "outputs": [],
   "source": []
  }
 ],
 "metadata": {
  "colab": {
   "collapsed_sections": [],
   "name": "Copy of multilingual_python_interface.ipynb",
   "provenance": []
  },
  "kernelspec": {
   "display_name": "Python 3 (ipykernel)",
   "language": "python",
   "name": "python3"
  },
  "language_info": {
   "codemirror_mode": {
    "name": "ipython",
    "version": 3
   },
   "file_extension": ".py",
   "mimetype": "text/x-python",
   "name": "python",
   "nbconvert_exporter": "python",
   "pygments_lexer": "ipython3",
   "version": "3.9.7"
  }
 },
 "nbformat": 4,
 "nbformat_minor": 4
}
