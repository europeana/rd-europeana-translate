{
 "cells": [
  {
   "cell_type": "markdown",
   "metadata": {
    "id": "2BQQwtVDCh8J"
   },
   "source": [
    "# Example of sourcing data combining Search and Record API\n",
    "\n",
    "This notebook leverages the API python wrapper to build a series of API calls with the Search and Record API.\n",
    "The idea to use both Search API and Record API is because  looking up results only with the Search API does not always allow to retrieve all results, some fields are not shown,while the Record API related to an object contains all fields.\n",
    "For example, not all multilingual fields are served in the Search API.\n",
    "If we wanted to retrieve data for multilingual fields that are not served by the Search API an option is to use the Search API in combination with the Record API to retrieve all fields for a specific item.\n"
   ]
  },
  {
   "cell_type": "markdown",
   "metadata": {},
   "source": [
    "This notebook leverages the SEARCH and RECORD API and the Python Wrapper developed by the RnD team\n",
    "\n",
    "You can find more details about the search and the record APIs in the following links:\n",
    "\n",
    "*   https://pro.europeana.eu/page/search\n",
    "*   https://pro.europeana.eu/page/record\n",
    "\n",
    "Those APIs serve data using the Europeana Data Model: https://pro.europeana.eu/page/intro#edm\n"
   ]
  },
  {
   "cell_type": "code",
   "execution_count": 1,
   "metadata": {
    "executionInfo": {
     "elapsed": 274,
     "status": "ok",
     "timestamp": 1638186795157,
     "user": {
      "displayName": "Paolo Scalia",
      "photoUrl": "https://lh3.googleusercontent.com/a/default-user=s64",
      "userId": "05912384729383196122"
     },
     "user_tz": -60
    },
    "id": "y-vzdrmo3otA"
   },
   "outputs": [],
   "source": [
    "#Importing libraries\n",
    "import pandas as pd\n",
    "import pyeuropeana.apis as apis\n",
    "import pyeuropeana.utils as utils\n",
    "import os\n",
    "pd.set_option(\"display.max_rows\", 600)\n",
    "pd.set_option(\"display.max_columns\", 600)\n",
    "pd.options.mode.chained_assignment = None"
   ]
  },
  {
   "cell_type": "markdown",
   "metadata": {},
   "source": [
    " # Combination Search and Record API to retrieve field values"
   ]
  },
  {
   "cell_type": "markdown",
   "metadata": {},
   "source": [
    "Here  example we look for the field value that for  proxy_dc_type.it\n",
    "proxy_dc_type is indexed in Solr but the results are not returned by the Search API. \n",
    "Therefore to retrive the value of it fields for a particolar record we combine the use of record and search API."
   ]
  },
  {
   "cell_type": "code",
   "execution_count": 2,
   "metadata": {},
   "outputs": [],
   "source": [
    "#setting enviroment variable\n",
    "os.environ['EUROPEANA_API_KEY'] = 'api2demo'"
   ]
  },
  {
   "cell_type": "markdown",
   "metadata": {},
   "source": [
    "# Functions"
   ]
  },
  {
   "cell_type": "code",
   "execution_count": 3,
   "metadata": {},
   "outputs": [],
   "source": [
    "\n",
    "def language_queries(lang1,bilingual,lang2='en'):\n",
    "    \"\"\" This function builds a set of queries to extract information  \n",
    "    on monolingual or bilingual fields, where one of the fields is english \n",
    "    by default \n",
    "    lang1: string first language, use ISO code (ex: fr for french)\n",
    "    bilingual: string possible values are \"AND\" or \"NOT\" to select monolingual or \n",
    "    bilingual queries respectively\n",
    "    \"\"\"\n",
    "    queries={\n",
    "        'dc_description': f'(proxy_dc_description.{lang1}:* {bilingual} proxy_dc_description.{lang2}:*)',\n",
    "        'dc_title': f'(proxy_dc_title.{lang1}:* {bilingual} proxy_dc_title.{lang2}:*)',\n",
    "        'dc_subject': f'(proxy_dc_subject.{lang1}:* {bilingual} proxy_dc_subject.{lang2}:*)',\n",
    "        'dc_coverage': f'(proxy_dc_coverage.{lang1}:* {bilingual} proxy_dc_coverage.{lang2}:*)',\n",
    "        'edm_current_location':f'(proxy_edm_currentLocation.{lang1}:* {bilingual} proxy_edm_currentLocation.{lang2}:*)',\n",
    "        'dcterms_medium': f'(proxy_dcterms_medium.{lang1}:* {bilingual} proxy_dcterms_medium.{lang2}:*)',\n",
    "        'dcterms_hasPart':f'(proxy_dcterms_hasPart.{lang1}:* {bilingual} proxy_dcterms_hasPart.{lang2}:*)',\n",
    "        'dcterms_spatial':f'(proxy_dcterms_spatial.{lang1}:* {bilingual} proxy_dcterms_spatial.{lang2}:*)',\n",
    "        'dc_format':f'(proxy_dc_format.{lang1}:* {bilingual} proxy_dc_format.{lang2}:*)',\n",
    "        'dc_source':f'(proxy_dc_source.{lang1}:* {bilingual} proxy_dc_source.{lang2}:*)',\n",
    "        'dc_rights':f'(proxy_dc_rights.{lang1}:* {bilingual} proxy_dc_rights.{lang2}:*)',\n",
    "        'dc_terms_alternative':f'(proxy_dcterms_alternative.{lang1}:* {bilingual} proxy_dcterms_alternative.{lang2}:*)',\n",
    "        'dc_type': f'(proxy_dc_type.{lang1}:* {bilingual} proxy_dc_type.{lang2}:*)',\n",
    "        'dcterms_isPartOf': f'(proxy_dcterms_isPartOf.{lang1}:* {bilingual} proxy_dcterms_isPartOf.{lang2}:*)',\n",
    "        'dcterms_provenance': f'(proxy_dcterms_provenance.{lang1}:* {bilingual} proxy_dcterms_provenance.{lang2}:*)',\n",
    "        'dcterms_temporal': f'(proxy_dcterms_temporal.{lang1}:* {bilingual} proxy_dcterms_temporal.{lang2}:*)',\n",
    "        'edm_isRelatedTo': f'(proxy_edm_isRelatedTo.{lang1}:* {bilingual} proxy_edm_isRelatedTo.{lang2}:*)',\n",
    "        'edm_dataProvider': f'(provider_aggregation_edm_dataProvider.{lang1}:* {bilingual} provider_aggregation_edm_dataProvider.{lang2}:*)',\n",
    "        'edm_intermediateProvider': f'(provider_aggregation_edm_intermediateProvider.{lang1}:* {bilingual} provider_aggregation_edm_intermediateProvider.{lang2}:*)',\n",
    "        'edm_provider': f'(provider_aggregation_edm_provider.{lang1}:* {bilingual} provider_aggregation_edm_provider.{lang2}:*)',\n",
    "        'dcterms_isReferencedBy': f'(wr_dcterms_isReferencedBy.{lang1}:* {bilingual} wr_dcterms_isReferencedBy.{lang2}:*)'\n",
    "            }\n",
    "    return queries"
   ]
  },
  {
   "cell_type": "code",
   "execution_count": 4,
   "metadata": {},
   "outputs": [],
   "source": [
    "def multiple_language_queries(lang ,bilingual, lang2='en'):\n",
    "    \"\"\"This function builds a dictionary where each key is a \n",
    "    language and the values are all the queries from function language_queries \n",
    "    lang: lists of languages, ISO format\n",
    "    bilingual: string possible values are \"AND\" or \"NOT\" to select monolingual or \n",
    "    bilingual queries\n",
    "    \"\"\"\n",
    "    queries={}\n",
    "    for l in lang:\n",
    "        queries_single_l=language_queries(l,bilingual,lang2='en')\n",
    "        queries[l]=queries_single_l\n",
    "    return queries"
   ]
  },
  {
   "cell_type": "code",
   "execution_count": 5,
   "metadata": {},
   "outputs": [],
   "source": [
    "def tot_results_queries(lang ,n_rows=1, save=False, biling=True):\n",
    "    \"\"\"This function returns a dataframe , \n",
    "    the first column indicates the metadata considered   \n",
    "    the second column the number of hits for that specific field\n",
    "    the index of the dataframe are the languages in the parameter lang\n",
    "    lang:  languages, ISO format\n",
    "    save: boolean, if TRUE the resulting dataframe is saved as csv file\n",
    "    n_rows: parameter for the number of returned items\n",
    "    \"\"\"\n",
    "    if biling:\n",
    "        queries_dict=multiple_language_queries(lang ,bilingual='AND', lang2='en')\n",
    "    else:\n",
    "        queries_dict=multiple_language_queries(lang ,bilingual='NOT', lang2='en')\n",
    "    df=pd.DataFrame(index=lang)\n",
    "    for l in lang:\n",
    "        for key, value in queries_dict[l].items():  \n",
    "            CHO_data = apis.search(query = '*:*',qf=f'{value}' ,rows = n_rows)\n",
    "            tot_results=CHO_data['totalResults']\n",
    "            df.loc[l,key]=tot_results \n",
    "    df.loc[:,'Tot_results'] = df.iloc[:,:].sum(axis=1)\n",
    "    if 'en' in df.index:\n",
    "        df.drop('en', axis=0, inplace=True)\n",
    "    df_percentage=pd.DataFrame(columns= df.columns, index=df.index)\n",
    "    for col in df.columns:\n",
    "        df_percentage[col]=df[col]/df.Tot_results\n",
    "    df_percentage.drop('Tot_results',axis=1, inplace=True)\n",
    "    df_percentage.loc[:,'Tot_results'] = df_percentage.iloc[:,:].sum(axis=1)\n",
    "    if 'en' in df_percentage.index:\n",
    "        df_percentage.drop('en', axis=0, inplace=True)\n",
    "    tot_lang='_'.join(lang)\n",
    "    if save and biling:\n",
    "        df.to_csv(f'{today}_{tot_lang}_tot_results_bilingual.csv')\n",
    "    elif save and not biling:\n",
    "        df.to_csv(f'{today}_{tot_lang}_tot_results_monolingual.csv')\n",
    "    return df, df_percentage\n"
   ]
  },
  {
   "cell_type": "code",
   "execution_count": 6,
   "metadata": {},
   "outputs": [],
   "source": [
    "def queries_items_uri(lang, n_rows=1, save=False,biling=True):\n",
    "    \"\"\"This function build a dataframe where the first column indicates\n",
    "    the type of query executed and the second the item that satisfies that query\n",
    "    lang: string language in ISO format, takes one value of lang (not a list)\n",
    "    save: boolean, if TRUE the resulting dataframe is saved as excel file\n",
    "    n_rows: parameter for the number of returned items\n",
    "    biling: boolean, if TRUE bilingual version of the queries is used, if FALSE the \n",
    "    monolingual version\"\"\"\n",
    "    if biling:\n",
    "        queries_dict=multiple_language_queries([lang] ,bilingual='AND', lang2='en')\n",
    "    else:\n",
    "        queries_dict=multiple_language_queries([lang] ,bilingual='NOT', lang2='en')\n",
    "    # initalizing list of dataframes\n",
    "    df_list=[]\n",
    "    for _ ,value in queries_dict[lang].items():  \n",
    "        print(value)\n",
    "        df=pd.DataFrame(columns=['field','europeana_uri'])\n",
    "        CHO_data = apis.search(query = '*:*',qf=f'{value}' ,rows = n_rows)\n",
    "        n_files=CHO_data['totalResults']\n",
    "        if n_files > 0:\n",
    "            CHO_data_all = apis.search(query = '*:*',qf=f'{value}' ,rows = n_files)\n",
    "            print('ok')\n",
    "            df['europeana_uri']=utils.search2df(CHO_data_all).uri\n",
    "            print(len(df))\n",
    "            df['field']=value\n",
    "            df_list.append(df)     \n",
    "        else:\n",
    "            pass \n",
    "    df_tot = pd.concat(df_list, ignore_index=True) # concatenate all dataframes from all queries\n",
    "    df_tot_clear_dup=df_tot.drop_duplicates(subset=None, keep='first', inplace=False)\n",
    "    if save and biling:\n",
    "        df_tot_clear_dup.to_csv(f'{today}_{lang}_en_bilingual.csv')\n",
    "    elif save and not biling:\n",
    "        df_tot_clear_dup.to_csv(f'{today}_{lang}_monolingual.csv')\n",
    "    return df_tot_clear_dup"
   ]
  },
  {
   "cell_type": "code",
   "execution_count": 7,
   "metadata": {},
   "outputs": [],
   "source": [
    "def monoling_biling_to_stack(mono_nr, bili_nr, lang_list,save=True):\n",
    "    \"\"\" This function generates a dataframe whose columns are \n",
    "    - the number of bilingual tags,\n",
    "    - the number of monolingual tags\n",
    "    - the number of total tags\n",
    "    The index of the df are the languages contained in lang_list\n",
    "    Three version of the dataframe are generated\n",
    "    - df_sorted_biling: rows sorted per descendinng values of bilignual tags\n",
    "    - df_sorted_monloling: rows sorted per descendinng values of monoling tags\n",
    "    -df_sorted_tot_lang_tagged: rows sorted per descendinng values of total tags\n",
    "      monlolingual and bilingual\n",
    "      Parameters\n",
    "      mono_nr: number of monlingual hits per language- series\n",
    "      bilin_nr: number of monlingual hits per language- series\n",
    "      lang_list: list of languages considered\n",
    "    \"\"\"\n",
    "    df_tot=pd.DataFrame({'n_biling_tag':bili_nr.Tot_results,'n_monoling_tag':mono_nr.Tot_results}, index=lang_list)\n",
    "    df_tot.loc[:,'Tot_lang_tag']=df_tot.loc[:,'n_biling_tag']+df_tot.loc[:,'n_monoling_tag']\n",
    "    if 'en'in df_tot.index:\n",
    "        df_sorted=df_tot.drop('en',axis=0)  \n",
    "    else:\n",
    "        df_sorted=df_tot\n",
    "    df_sorted_biling=df_sorted.sort_values(by='n_biling_tag', ascending=False)\n",
    "    df_sorted_monoling=df_sorted.sort_values(by='n_monoling_tag', ascending=False)\n",
    "    df_sorted_tot_lang_tagged=df_sorted.sort_values(by='Tot_lang_tag', ascending=False)\n",
    "    if save:\n",
    "        file_name=f'{today}_mono_bilingual_tot_results.csv'\n",
    "        df_sorted_biling.to_csv(file_name)\n",
    "    return df_sorted_biling,df_sorted_monoling,df_sorted_tot_lang_tagged"
   ]
  },
  {
   "cell_type": "code",
   "execution_count": 8,
   "metadata": {},
   "outputs": [],
   "source": [
    "from pathlib import Path"
   ]
  },
  {
   "cell_type": "code",
   "execution_count": 53,
   "metadata": {},
   "outputs": [
    {
     "data": {
      "text/plain": [
       "PosixPath('/content')"
      ]
     },
     "execution_count": 53,
     "metadata": {},
     "output_type": "execute_result"
    }
   ],
   "source": [
    "saving_path = Path('/content/')\n",
    "saving_path"
   ]
  },
  {
   "cell_type": "code",
   "execution_count": 9,
   "metadata": {},
   "outputs": [],
   "source": [
    "import os"
   ]
  },
  {
   "cell_type": "code",
   "execution_count": 28,
   "metadata": {
    "executionInfo": {
     "elapsed": 8,
     "status": "ok",
     "timestamp": 1638186549994,
     "user": {
      "displayName": "Paolo Scalia",
      "photoUrl": "https://lh3.googleusercontent.com/a/default-user=s64",
      "userId": "05912384729383196122"
     },
     "user_tz": -60
    },
    "id": "LJw_YnrgUPbQ"
   },
   "outputs": [],
   "source": [
    "#Function to extract europeana_id numbers that correspond to a certain query\n",
    "def search_api(query, n_objects,batch_size):\n",
    "    # response = apis.search(\n",
    "    # query = query,\n",
    "    # rows = n_rows, \n",
    "    # profile='rich'\n",
    "    # )\n",
    "    saving_path = Path('./') # path to save the files\n",
    "    n_objects = n_objects # total number of objects to query for\n",
    "    batch_size = batch_size \n",
    "    batch_size_list = [batch_size for i in range(n_objects // batch_size)]\n",
    "    rem = n_objects % batch_size\n",
    "    if rem > 0:\n",
    "        batch_size_list = batch_size_list + [rem]\n",
    "    cursor = '*'\n",
    "    for i,rows in enumerate(batch_size_list):\n",
    "      response = apis.search(\n",
    "          query = query,\n",
    "          rows = rows,\n",
    "          cursor = cursor)\n",
    "      if 'nextCursor' in response.keys():\n",
    "            cursor = response['nextCursor'] # we get the cursor from the last \n",
    "      df=utils.search2df(response).europeana_id\n",
    "      df= pd.DataFrame(df)\n",
    "      df.to_csv(saving_path.joinpath(f'df_{i}.csv'))\n",
    "      if i>=1:\n",
    "          df_1=pd.read_csv(f'df_{i-1}.csv',index_col=0)\n",
    "          os.remove(f'df_{i-1}.csv')\n",
    "          df_temp=pd.concat([df,df_1], axis=0)\n",
    "          df_temp.to_csv(saving_path.joinpath(f'df_{i}.csv'))\n",
    "    df_temp.reset_index(inplace=True,drop = True)\n",
    "    return df_temp"
   ]
  },
  {
   "cell_type": "code",
   "execution_count": 19,
   "metadata": {
    "jupyter": {
     "source_hidden": true
    },
    "tags": []
   },
   "outputs": [],
   "source": [
    "#Function to extract data that correspond to the id numbers found in search_api function\n",
    "def record_api(items_id):\n",
    "    df_list=[]\n",
    "    for item in items_id:\n",
    "        data=apis.record(f'{item}')\n",
    "        df_0=pd.json_normalize(data,['object','proxies'])\n",
    "        df_proxy_provider=df_0.iloc[1] #selcting provider proxy - there are the info I am interested in\n",
    "        df_proxy_provider=pd.DataFrame(df_proxy_provider)\n",
    "        df_proxy_provider=df_proxy_provider.transpose()\n",
    "        df_list.append(df_proxy_provider)\n",
    "    df_proxy_tot = pd.concat(df_list, ignore_index=True, axis=0)\n",
    "    return df_proxy_tot"
   ]
  },
  {
   "cell_type": "code",
   "execution_count": 29,
   "metadata": {},
   "outputs": [],
   "source": [
    "query= '(proxy_dc_type.en:* AND proxy_dc_type.de:*)'"
   ]
  },
  {
   "cell_type": "code",
   "execution_count": 64,
   "metadata": {},
   "outputs": [
    {
     "data": {
      "text/plain": [
       "75"
      ]
     },
     "execution_count": 64,
     "metadata": {},
     "output_type": "execute_result"
    }
   ],
   "source": [
    "15*5"
   ]
  },
  {
   "cell_type": "code",
   "execution_count": 30,
   "metadata": {},
   "outputs": [
    {
     "data": {
      "text/html": [
       "<div>\n",
       "<style scoped>\n",
       "    .dataframe tbody tr th:only-of-type {\n",
       "        vertical-align: middle;\n",
       "    }\n",
       "\n",
       "    .dataframe tbody tr th {\n",
       "        vertical-align: top;\n",
       "    }\n",
       "\n",
       "    .dataframe thead th {\n",
       "        text-align: right;\n",
       "    }\n",
       "</style>\n",
       "<table border=\"1\" class=\"dataframe\">\n",
       "  <thead>\n",
       "    <tr style=\"text-align: right;\">\n",
       "      <th></th>\n",
       "      <th>europeana_id</th>\n",
       "    </tr>\n",
       "  </thead>\n",
       "  <tbody>\n",
       "    <tr>\n",
       "      <th>0</th>\n",
       "      <td>/9200360/BibliographicResource_3000100168703</td>\n",
       "    </tr>\n",
       "    <tr>\n",
       "      <th>1</th>\n",
       "      <td>/9200360/BibliographicResource_3000100168709</td>\n",
       "    </tr>\n",
       "    <tr>\n",
       "      <th>2</th>\n",
       "      <td>/9200360/BibliographicResource_3000100168708</td>\n",
       "    </tr>\n",
       "    <tr>\n",
       "      <th>3</th>\n",
       "      <td>/9200360/BibliographicResource_3000100168707</td>\n",
       "    </tr>\n",
       "    <tr>\n",
       "      <th>4</th>\n",
       "      <td>/9200360/BibliographicResource_3000100168715</td>\n",
       "    </tr>\n",
       "    <tr>\n",
       "      <th>5</th>\n",
       "      <td>/9200360/BibliographicResource_3000100168714</td>\n",
       "    </tr>\n",
       "    <tr>\n",
       "      <th>6</th>\n",
       "      <td>/9200360/BibliographicResource_3000100168713</td>\n",
       "    </tr>\n",
       "    <tr>\n",
       "      <th>7</th>\n",
       "      <td>/9200360/BibliographicResource_3000100168721</td>\n",
       "    </tr>\n",
       "    <tr>\n",
       "      <th>8</th>\n",
       "      <td>/9200360/BibliographicResource_3000100168720</td>\n",
       "    </tr>\n",
       "    <tr>\n",
       "      <th>9</th>\n",
       "      <td>/9200360/BibliographicResource_3000100168719</td>\n",
       "    </tr>\n",
       "  </tbody>\n",
       "</table>\n",
       "</div>"
      ],
      "text/plain": [
       "                                   europeana_id\n",
       "0  /9200360/BibliographicResource_3000100168703\n",
       "1  /9200360/BibliographicResource_3000100168709\n",
       "2  /9200360/BibliographicResource_3000100168708\n",
       "3  /9200360/BibliographicResource_3000100168707\n",
       "4  /9200360/BibliographicResource_3000100168715\n",
       "5  /9200360/BibliographicResource_3000100168714\n",
       "6  /9200360/BibliographicResource_3000100168713\n",
       "7  /9200360/BibliographicResource_3000100168721\n",
       "8  /9200360/BibliographicResource_3000100168720\n",
       "9  /9200360/BibliographicResource_3000100168719"
      ]
     },
     "execution_count": 30,
     "metadata": {},
     "output_type": "execute_result"
    }
   ],
   "source": [
    "search_api(query, 10,3)"
   ]
  },
  {
   "cell_type": "code",
   "execution_count": 31,
   "metadata": {},
   "outputs": [],
   "source": [
    "def record_api(items_id):\n",
    "    df_list=[]\n",
    "    for item in items_id:\n",
    "        data=apis.record(f'{item}')\n",
    "        data_jnorm=pd.json_normalize(data)\n",
    "        df_list.append(data_jnorm)\n",
    "    df_jnorm_tot = pd.concat(df_list, ignore_index=True, axis=0)\n",
    "    return df_jnorm_tot"
   ]
  },
  {
   "cell_type": "code",
   "execution_count": null,
   "metadata": {},
   "outputs": [],
   "source": []
  },
  {
   "cell_type": "code",
   "execution_count": 32,
   "metadata": {},
   "outputs": [],
   "source": [
    "def retrieve_norm_data(query, n_rows,batch_size):\n",
    "    search_results_list=search_api(query, n_rows,batch_size)\n",
    "    record_data=record_api(search_results_list)\n",
    "    return record_data"
   ]
  },
  {
   "cell_type": "code",
   "execution_count": null,
   "metadata": {},
   "outputs": [],
   "source": [
    "from pathlib import Path\n",
    "\n",
    "# the idea is to divide search into batches to avoid the memory issue\n",
    "# the dataset will be saved in several files\n",
    "\n",
    "n_objects = 1907 # total number of objects to query for\n",
    "batch_size = 320 \n",
    "\n",
    "batch_size_list = [batch_size for i in range(n_objects // batch_size)]\n",
    "rem = n_objects % batch_size\n",
    "print(rem)\n",
    "if rem > 0:\n",
    "    batch_size_list = batch_size_list + [rem]\n",
    "    \n",
    "    \n",
    "\n",
    "#saving_path = Path('/content/') # path to save the files\n",
    "\n",
    "query = '(proxy_dc_description.en:* AND proxy_dc_description.fi:*)'\n",
    "\n",
    "#query = '*'\n",
    "\n",
    "cursor = '*'\n",
    "df = pd.DataFrame()\n",
    "for i,rows in enumerate(batch_size_list):\n",
    "  response = apis.search(\n",
    "      query = query,\n",
    "      rows = rows,\n",
    "      cursor = cursor\n",
    "  )\n",
    "  if 'nextCursor' in response.keys():\n",
    "    cursor = response['nextCursor'] # we get the cursor from the last response to use it in the next iteration of the loop\n",
    "  #df.to_csv(saving_path.joinpath(f'df_{i}.csv'),index = False)\n",
    "\n",
    "\n",
    "# checking that we get as many unique europeana ids as objects requested\n",
    "# df = pd.DataFrame()\n",
    "# for i in range(len(batch_size_list)):\n",
    "#   print(pd.read_csv(saving_path.joinpath(f'df_{i}.csv')).shape)\n",
    "#   df = df.append(pd.read_csv(saving_path.joinpath(f'df_{i}.csv')))\n",
    "\n",
    "# df.europeana_id.unique().shape"
   ]
  },
  {
   "cell_type": "code",
   "execution_count": 22,
   "metadata": {},
   "outputs": [],
   "source": [
    "query= '(proxy_dc_type.en:* AND proxy_dc_type.de:*)'"
   ]
  },
  {
   "cell_type": "code",
   "execution_count": 33,
   "metadata": {},
   "outputs": [
    {
     "ename": "KeyboardInterrupt",
     "evalue": "",
     "output_type": "error",
     "traceback": [
      "\u001b[0;31m---------------------------------------------------------------------------\u001b[0m",
      "\u001b[0;31mKeyboardInterrupt\u001b[0m                         Traceback (most recent call last)",
      "\u001b[0;32m/tmp/ipykernel_16584/2719809022.py\u001b[0m in \u001b[0;36m<module>\u001b[0;34m\u001b[0m\n\u001b[0;32m----> 1\u001b[0;31m \u001b[0mretrieve_norm_data\u001b[0m\u001b[0;34m(\u001b[0m\u001b[0mquery\u001b[0m\u001b[0;34m,\u001b[0m \u001b[0;36m200\u001b[0m\u001b[0;34m,\u001b[0m\u001b[0;36m4\u001b[0m\u001b[0;34m)\u001b[0m\u001b[0;34m\u001b[0m\u001b[0;34m\u001b[0m\u001b[0m\n\u001b[0m",
      "\u001b[0;32m/tmp/ipykernel_16584/2970291217.py\u001b[0m in \u001b[0;36mretrieve_norm_data\u001b[0;34m(query, n_rows, batch_size)\u001b[0m\n\u001b[1;32m      1\u001b[0m \u001b[0;32mdef\u001b[0m \u001b[0mretrieve_norm_data\u001b[0m\u001b[0;34m(\u001b[0m\u001b[0mquery\u001b[0m\u001b[0;34m,\u001b[0m \u001b[0mn_rows\u001b[0m\u001b[0;34m,\u001b[0m\u001b[0mbatch_size\u001b[0m\u001b[0;34m)\u001b[0m\u001b[0;34m:\u001b[0m\u001b[0;34m\u001b[0m\u001b[0;34m\u001b[0m\u001b[0m\n\u001b[0;32m----> 2\u001b[0;31m     \u001b[0msearch_results_list\u001b[0m\u001b[0;34m=\u001b[0m\u001b[0msearch_api\u001b[0m\u001b[0;34m(\u001b[0m\u001b[0mquery\u001b[0m\u001b[0;34m,\u001b[0m \u001b[0mn_rows\u001b[0m\u001b[0;34m,\u001b[0m\u001b[0mbatch_size\u001b[0m\u001b[0;34m)\u001b[0m\u001b[0;34m\u001b[0m\u001b[0;34m\u001b[0m\u001b[0m\n\u001b[0m\u001b[1;32m      3\u001b[0m     \u001b[0mrecord_data\u001b[0m\u001b[0;34m=\u001b[0m\u001b[0mrecord_api\u001b[0m\u001b[0;34m(\u001b[0m\u001b[0msearch_results_list\u001b[0m\u001b[0;34m)\u001b[0m\u001b[0;34m\u001b[0m\u001b[0;34m\u001b[0m\u001b[0m\n\u001b[1;32m      4\u001b[0m     \u001b[0;32mreturn\u001b[0m \u001b[0mrecord_data\u001b[0m\u001b[0;34m\u001b[0m\u001b[0;34m\u001b[0m\u001b[0m\n",
      "\u001b[0;32m/tmp/ipykernel_16584/2472838586.py\u001b[0m in \u001b[0;36msearch_api\u001b[0;34m(query, n_objects, batch_size)\u001b[0m\n\u001b[1;32m     26\u001b[0m       \u001b[0;32mif\u001b[0m \u001b[0mi\u001b[0m\u001b[0;34m>=\u001b[0m\u001b[0;36m1\u001b[0m\u001b[0;34m:\u001b[0m\u001b[0;34m\u001b[0m\u001b[0;34m\u001b[0m\u001b[0m\n\u001b[1;32m     27\u001b[0m           \u001b[0mdf_1\u001b[0m\u001b[0;34m=\u001b[0m\u001b[0mpd\u001b[0m\u001b[0;34m.\u001b[0m\u001b[0mread_csv\u001b[0m\u001b[0;34m(\u001b[0m\u001b[0;34mf'df_{i-1}.csv'\u001b[0m\u001b[0;34m,\u001b[0m\u001b[0mindex_col\u001b[0m\u001b[0;34m=\u001b[0m\u001b[0;36m0\u001b[0m\u001b[0;34m)\u001b[0m\u001b[0;34m\u001b[0m\u001b[0;34m\u001b[0m\u001b[0m\n\u001b[0;32m---> 28\u001b[0;31m           \u001b[0mos\u001b[0m\u001b[0;34m.\u001b[0m\u001b[0mremove\u001b[0m\u001b[0;34m(\u001b[0m\u001b[0;34mf'df_{i-1}.csv'\u001b[0m\u001b[0;34m)\u001b[0m\u001b[0;34m\u001b[0m\u001b[0;34m\u001b[0m\u001b[0m\n\u001b[0m\u001b[1;32m     29\u001b[0m           \u001b[0mdf_temp\u001b[0m\u001b[0;34m=\u001b[0m\u001b[0mpd\u001b[0m\u001b[0;34m.\u001b[0m\u001b[0mconcat\u001b[0m\u001b[0;34m(\u001b[0m\u001b[0;34m[\u001b[0m\u001b[0mdf\u001b[0m\u001b[0;34m,\u001b[0m\u001b[0mdf_1\u001b[0m\u001b[0;34m]\u001b[0m\u001b[0;34m,\u001b[0m \u001b[0maxis\u001b[0m\u001b[0;34m=\u001b[0m\u001b[0;36m0\u001b[0m\u001b[0;34m)\u001b[0m\u001b[0;34m\u001b[0m\u001b[0;34m\u001b[0m\u001b[0m\n\u001b[1;32m     30\u001b[0m           \u001b[0mdf_temp\u001b[0m\u001b[0;34m.\u001b[0m\u001b[0mto_csv\u001b[0m\u001b[0;34m(\u001b[0m\u001b[0msaving_path\u001b[0m\u001b[0;34m.\u001b[0m\u001b[0mjoinpath\u001b[0m\u001b[0;34m(\u001b[0m\u001b[0;34mf'df_{i}.csv'\u001b[0m\u001b[0;34m)\u001b[0m\u001b[0;34m)\u001b[0m\u001b[0;34m\u001b[0m\u001b[0;34m\u001b[0m\u001b[0m\n",
      "\u001b[0;31mKeyboardInterrupt\u001b[0m: "
     ]
    }
   ],
   "source": [
    "retrieve_norm_data(query, 200,4)"
   ]
  },
  {
   "cell_type": "code",
   "execution_count": 19,
   "metadata": {},
   "outputs": [
    {
     "ename": "NameError",
     "evalue": "name 'df_search' is not defined",
     "output_type": "error",
     "traceback": [
      "\u001b[0;31m---------------------------------------------------------------------------\u001b[0m",
      "\u001b[0;31mNameError\u001b[0m                                 Traceback (most recent call last)",
      "\u001b[0;32m/tmp/ipykernel_16584/566276344.py\u001b[0m in \u001b[0;36m<module>\u001b[0;34m\u001b[0m\n\u001b[0;32m----> 1\u001b[0;31m \u001b[0mdf_search\u001b[0m\u001b[0;34m\u001b[0m\u001b[0;34m\u001b[0m\u001b[0m\n\u001b[0m",
      "\u001b[0;31mNameError\u001b[0m: name 'df_search' is not defined"
     ]
    }
   ],
   "source": [
    "df_search"
   ]
  },
  {
   "cell_type": "code",
   "execution_count": 20,
   "metadata": {
    "tags": []
   },
   "outputs": [
    {
     "ename": "NameError",
     "evalue": "name 'df_search' is not defined",
     "output_type": "error",
     "traceback": [
      "\u001b[0;31m---------------------------------------------------------------------------\u001b[0m",
      "\u001b[0;31mNameError\u001b[0m                                 Traceback (most recent call last)",
      "\u001b[0;32m/tmp/ipykernel_16584/1352660138.py\u001b[0m in \u001b[0;36m<module>\u001b[0;34m\u001b[0m\n\u001b[0;32m----> 1\u001b[0;31m \u001b[0mdf_proxy_tot\u001b[0m\u001b[0;34m=\u001b[0m\u001b[0mrecord_api\u001b[0m\u001b[0;34m(\u001b[0m\u001b[0mdf_search\u001b[0m\u001b[0;34m)\u001b[0m\u001b[0;34m\u001b[0m\u001b[0;34m\u001b[0m\u001b[0m\n\u001b[0m\u001b[1;32m      2\u001b[0m \u001b[0mdf_proxy_tot\u001b[0m\u001b[0;34m.\u001b[0m\u001b[0mhead\u001b[0m\u001b[0;34m(\u001b[0m\u001b[0;34m)\u001b[0m\u001b[0;34m\u001b[0m\u001b[0;34m\u001b[0m\u001b[0m\n",
      "\u001b[0;31mNameError\u001b[0m: name 'df_search' is not defined"
     ]
    }
   ],
   "source": [
    "df_proxy_tot=record_api(df_search)\n",
    "df_proxy_tot.head()"
   ]
  },
  {
   "cell_type": "code",
   "execution_count": 48,
   "metadata": {},
   "outputs": [
    {
     "ename": "TypeError",
     "evalue": "search_api() missing 2 required positional arguments: 'n_objects' and 'batch_size'",
     "output_type": "error",
     "traceback": [
      "\u001b[0;31m---------------------------------------------------------------------------\u001b[0m",
      "\u001b[0;31mTypeError\u001b[0m                                 Traceback (most recent call last)",
      "\u001b[0;32m/tmp/ipykernel_16584/486724919.py\u001b[0m in \u001b[0;36m<module>\u001b[0;34m\u001b[0m\n\u001b[1;32m      1\u001b[0m \u001b[0mquery\u001b[0m\u001b[0;34m=\u001b[0m \u001b[0;34m'(proxy_dc_type.it:*)'\u001b[0m \u001b[0;31m#dc_type not served in Search API results\u001b[0m\u001b[0;34m\u001b[0m\u001b[0;34m\u001b[0m\u001b[0m\n\u001b[0;32m----> 2\u001b[0;31m \u001b[0mdf_search\u001b[0m\u001b[0;34m=\u001b[0m\u001b[0msearch_api\u001b[0m\u001b[0;34m(\u001b[0m\u001b[0mquery\u001b[0m\u001b[0;34m)\u001b[0m\u001b[0;34m\u001b[0m\u001b[0;34m\u001b[0m\u001b[0m\n\u001b[0m\u001b[1;32m      3\u001b[0m \u001b[0mdf_search\u001b[0m\u001b[0;34m\u001b[0m\u001b[0;34m\u001b[0m\u001b[0m\n",
      "\u001b[0;31mTypeError\u001b[0m: search_api() missing 2 required positional arguments: 'n_objects' and 'batch_size'"
     ]
    }
   ],
   "source": [
    "query= '(proxy_dc_type.it:*)' #dc_type not served in Search API results\n",
    "df_search=search_api(query)\n",
    "df_search"
   ]
  },
  {
   "cell_type": "markdown",
   "metadata": {},
   "source": [
    "\n",
    "provider_aggregation_edm_dataProvider\n",
    "provider_aggregation_edm_intermediateProvider\n",
    "provider_aggregation_edm_provider\n",
    "wr_dcterms_isReferencedBy"
   ]
  },
  {
   "cell_type": "code",
   "execution_count": null,
   "metadata": {},
   "outputs": [],
   "source": []
  },
  {
   "cell_type": "code",
   "execution_count": 87,
   "metadata": {},
   "outputs": [
    {
     "ename": "TypeError",
     "evalue": "search_api() missing 2 required positional arguments: 'n_objects' and 'batch_size'",
     "output_type": "error",
     "traceback": [
      "\u001b[0;31m---------------------------------------------------------------------------\u001b[0m",
      "\u001b[0;31mTypeError\u001b[0m                                 Traceback (most recent call last)",
      "\u001b[0;32m/tmp/ipykernel_16584/661868832.py\u001b[0m in \u001b[0;36m<module>\u001b[0;34m\u001b[0m\n\u001b[1;32m      2\u001b[0m \u001b[0mdf_list\u001b[0m\u001b[0;34m=\u001b[0m\u001b[0;34m[\u001b[0m\u001b[0;34m]\u001b[0m\u001b[0;34m\u001b[0m\u001b[0;34m\u001b[0m\u001b[0m\n\u001b[1;32m      3\u001b[0m \u001b[0;32mfor\u001b[0m \u001b[0mquery\u001b[0m \u001b[0;32min\u001b[0m \u001b[0mqueries\u001b[0m\u001b[0;34m:\u001b[0m\u001b[0;34m\u001b[0m\u001b[0;34m\u001b[0m\u001b[0m\n\u001b[0;32m----> 4\u001b[0;31m     \u001b[0mdf_search\u001b[0m\u001b[0;34m=\u001b[0m\u001b[0msearch_api\u001b[0m\u001b[0;34m(\u001b[0m\u001b[0mquery\u001b[0m\u001b[0;34m)\u001b[0m\u001b[0;34m\u001b[0m\u001b[0;34m\u001b[0m\u001b[0m\n\u001b[0m\u001b[1;32m      5\u001b[0m     \u001b[0mdf_proxy_tot\u001b[0m\u001b[0;34m=\u001b[0m\u001b[0mrecord_api\u001b[0m\u001b[0;34m(\u001b[0m\u001b[0mdf_search\u001b[0m\u001b[0;34m)\u001b[0m\u001b[0;34m\u001b[0m\u001b[0;34m\u001b[0m\u001b[0m\n\u001b[1;32m      6\u001b[0m     \u001b[0mdf_list\u001b[0m\u001b[0;34m.\u001b[0m\u001b[0mappend\u001b[0m\u001b[0;34m(\u001b[0m\u001b[0mdf_proxy_tot\u001b[0m\u001b[0;34m)\u001b[0m\u001b[0;34m\u001b[0m\u001b[0;34m\u001b[0m\u001b[0m\n",
      "\u001b[0;31mTypeError\u001b[0m: search_api() missing 2 required positional arguments: 'n_objects' and 'batch_size'"
     ]
    }
   ],
   "source": [
    "queries= ['(wr_dcterms_isReferencedBy:*)'] #dc_type not served in Search API results\n",
    "df_list=[]\n",
    "for query in queries:\n",
    "    df_search=search_api(query)\n",
    "    df_proxy_tot=record_api(df_search)\n",
    "    df_list.append(df_proxy_tot) \n",
    "df_tot = pd.concat(df_list, ignore_index=True, axis=0)\n"
   ]
  },
  {
   "cell_type": "code",
   "execution_count": 74,
   "metadata": {},
   "outputs": [],
   "source": [
    "query= '(provider_aggregation_edm_provider.fr:*)'\n",
    "#item=search_api(query,10,3)\n",
    "\n",
    "# data=apis.record(f'{item}')\n",
    "# data"
   ]
  },
  {
   "cell_type": "code",
   "execution_count": 46,
   "metadata": {},
   "outputs": [],
   "source": [
    "data=apis.record('/09903/FE4D667B5DE8E51E3D59577425C7CDD17523E23C')\n"
   ]
  },
  {
   "cell_type": "code",
   "execution_count": 47,
   "metadata": {
    "collapsed": true,
    "jupyter": {
     "outputs_hidden": true
    },
    "tags": []
   },
   "outputs": [
    {
     "data": {
      "text/plain": [
       "{'apikey': 'api2demo',\n",
       " 'success': True,\n",
       " 'statsDuration': 224,\n",
       " 'requestNumber': 999,\n",
       " 'object': {'about': '/09903/FE4D667B5DE8E51E3D59577425C7CDD17523E23C',\n",
       "  'aggregations': [{'about': '/aggregation/provider/09903/FE4D667B5DE8E51E3D59577425C7CDD17523E23C',\n",
       "    'edmDataProvider': {'def': ['http://data.europeana.eu/organization/1482250000004509131']},\n",
       "    'edmIsShownAt': 'http://xml.memovs.ch/s009CD019a.xml',\n",
       "    'edmProvider': {'def': ['http://data.europeana.eu/organization/1482250000004509131']},\n",
       "    'edmRights': {'def': ['http://rightsstatements.org/vocab/InC/1.0/']},\n",
       "    'edmUgc': 'false',\n",
       "    'aggregatedCHO': '/item/09903/FE4D667B5DE8E51E3D59577425C7CDD17523E23C',\n",
       "    'webResources': [{'about': 'http://xml.memovs.ch/s009CD019a.xml',\n",
       "      'textAttributionSnippet': 'Musique d’été 2 - https://www.europeana.eu/item/09903/FE4D667B5DE8E51E3D59577425C7CDD17523E23C. Mariétan, Pierre. Médiathèque Valais - Martigny - http://xml.memovs.ch/s009CD019a.xml. In Copyright - http://rightsstatements.org/vocab/InC/1.0/',\n",
       "      'htmlAttributionSnippet': \"<link rel='stylesheet' type='text/css' href='https://api.europeana.eu/attribution/style.css'/><dl class='europeana-attribution' lang='en'><dt>Title</dt><dd lang=''><a href='http://data.europeana.eu/item/09903/FE4D667B5DE8E51E3D59577425C7CDD17523E23C' target='_blank' rel='noopener'>Musique d’été 2</a></dd><dt>Creator</dt><dd lang=''>Mariétan, Pierre</dd><dt>Institution</dt><dd lang=''><a href='http://xml.memovs.ch/s009CD019a.xml' target='_blank' rel='noopener'>Médiathèque Valais - Martigny</a></dd><dt>Country</dt><dd lang=''>Switzerland</dd><dt>Rights</dt><dd><a href='http://rightsstatements.org/vocab/InC/1.0/' target='_blank' rel='noopener'><span class='icon-rs-yes'/>In Copyright</a></dd></dl>\",\n",
       "      'ebucoreHasMimeType': 'text/html',\n",
       "      'ebucoreFileByteSize': 13229,\n",
       "      'rdfType': 'http://www.europeana.eu/schemas/edm/FullTextResource'}]}],\n",
       "  'concepts': [{'about': 'http://data.europeana.eu/concept/base/62',\n",
       "    'prefLabel': {'de': ['Musik'],\n",
       "     'hi': ['संगीत'],\n",
       "     'no': ['Musikk'],\n",
       "     'ru': ['Музыка'],\n",
       "     'be': ['Музыка'],\n",
       "     'fi': ['Musiikki'],\n",
       "     'pt': ['Música'],\n",
       "     'bg': ['Музика'],\n",
       "     'lv': ['Mūzika'],\n",
       "     'hr': ['Glazba'],\n",
       "     'fr': ['Musique'],\n",
       "     'hu': ['Zene'],\n",
       "     'yi': ['מוזיק'],\n",
       "     'hy': ['Երաժշտություն'],\n",
       "     'bs': ['Muzika'],\n",
       "     'uk': ['Музика'],\n",
       "     'ka': ['მუსიკა'],\n",
       "     'sk': ['Hudba'],\n",
       "     'sl': ['Glasba'],\n",
       "     'ga': ['Ceol'],\n",
       "     'gd': ['Ceòl'],\n",
       "     'sq': ['Muzika'],\n",
       "     'mk': ['Музика'],\n",
       "     'ca': ['Música'],\n",
       "     'sr': ['Музика'],\n",
       "     'sv': ['Musik'],\n",
       "     'ko': ['음악'],\n",
       "     'gl': ['Música'],\n",
       "     'el': ['Μουσική'],\n",
       "     'en': ['Music'],\n",
       "     'is': ['Tónlist'],\n",
       "     'it': ['Musica'],\n",
       "     'es': ['Música'],\n",
       "     'zh': ['音乐'],\n",
       "     'et': ['Muusika'],\n",
       "     'cs': ['Hudba'],\n",
       "     'eu': ['Musika'],\n",
       "     'ar': ['موسيقى'],\n",
       "     'cy': ['Cerddoriaeth'],\n",
       "     'ja': ['音楽'],\n",
       "     'az': ['Musiqi'],\n",
       "     'pl': ['Muzyka'],\n",
       "     'he': ['מוזיקה'],\n",
       "     'da': ['Musik'],\n",
       "     'ro': ['Muzică'],\n",
       "     'nl': ['Muziek'],\n",
       "     'tr': ['Müzik']},\n",
       "    'note': {'de': ['Musik (μουσικὴ [τέχνη]: mousikē technē: „musische Kunst“) ist eine Kunstgattung, deren Werke aus organisierten Schallereignissen bestehen. Zu ihrer Erzeugung wird akustisches Material – Töne und Geräusche innerhalb des für den Menschen hörbaren Bereichs –, das einerseits physikalischen Eigengesetzlichkeiten, wie zum Beispiel der Obertonreihe oder Zahlenverhältnissen unterliegt, andererseits durch die Art seiner Erzeugung mit der menschlichen Stimme, mit Musikinstrumenten, elektrischen Tongeneratoren oder anderen Schallquellen gewisse Charakteristika aufweist, vom Menschen geordnet. Aus dem Vorrat eines Tonsystems werden Skalen gebildet. Deren Töne können in unterschiedlicher Lautstärke und Klangfarbe erscheinen und Melodien bilden. Aus der zeitlichen Folge der Töne und Geräusche verschieden langer Dauer entstehen Rhythmen. Aus dem Zusammenklang mehrerer Töne von jeweils anderer Tonhöhe erwächst Mehrstimmigkeit, aus den Beziehungen der Töne untereinander entsteht Harmonik. Die begriffliche Erfassung, systematische Darstellung der Zusammenhänge und deren Deutung leistet die Musiktheorie, mit dem Lehren und Lernen von Musik befasst sich die Musikpädagogik.'],\n",
       "     'hi': ['सुव्यवस्थित ध्वनि, जो रस की सृष्टि करे, संगीत कहलाती है। गायन, वादन व नृत्य ये तीनों ही संगीत हैं। संगीत नाम इन तीनों के एक साथ व्यवहार से पड़ा है। गाना, बजाना और नाचना प्रायः इतने पुराने है जितना पुराना आदमी है। बजाने और बाजे की कला आदमी ने कुछ बाद में खोजी-सीखी हो, पर गाने और नाचने का आरंभ तो न केवल हज़ारों बल्कि लाखों वर्ष पहले उसने कर लिया होगा, इसमें संदेह नहीं।गान मानव के लिए प्राय: उतना ही स्वाभाविक है जितना भाषण। कब से मनुष्य ने गाना प्रारंभ किया, यह बतलाना उतना ही कठिन है जितना कि कब से उसने बोलना प्रारंभ किया। परंतु बहुत काल बीत जाने के बाद उसके गान ने व्यवस्थित रूप धारण किया। जब स्वर और लय व्यवस्थित रूप धारण करते हैं तब एक कला का प्रादुर्भाव होता है और इस कला को संगीत, म्यूजिक या मौसीकी कहते हैं।'],\n",
       "     'no': ['Musikk (fra gresk μουσική τέχνη musike tekhne, det vil si «musisk kunst») er en kunstdisiplin som uttrykker seg gjennom lyd og stillhet disponert over tid. De viktigste elementene i musikk er veksling i pitch (tonehøyde), forholdet mellom tonene (harmonikk) og forbindelser av toner til en melodi, rytme og lydens tekstur og intonasjon. Disse elementene vektlegges ulikt i ulike tradisjoner. Se også musikkvitenskap og musikkteori.Tilblivelsen, fremføringen, definisjonen av og betydningen av musikk har store variasjoner i ulike kulturer og miljøer. Det finnes ingen entydig definisjon på hva som er musikk og hva som ikke er det. Fuglesang, tankeløs plystring eller stemming av et musikkinstrument er grenseeksempler. Komponisten John Cage erklærte at all lyd kan være musikk. En vanlig definisjon er likevel at musikk er organisert lyd. Innenfor denne definisjonen finner man både strengt organiserte komposisjoner og fremføringer, og improviserte og til og med tilfeldige former. Det er vanlig å regne musikk i ulike sjangre; musikk som tilhører samme musikalske sjanger har visse likhetstrekk, men skillelinjene er som oftest uklare.Musikk er svært tett knyttet opp mot fremføringen og således musikeren/musikerne som spiller musikken.Musikk kan fylle kunstneriske og estetiske behov og tjene som kommunikasjonsform eller underholdning, eller spille seremonielle og religiøseroller. Den kan også benyttes til terapeutiske eller helsefremmende formål.'],\n",
       "     'ru': ['Му́зыка (греч. μουσική, прилагательное от греч. μούσα — муза) — искусство, средством воплощения художественных образов для которого являются звук и тишина, особым образом организованные во времени.'],\n",
       "     'be': ['Музыка (ад грэч.: μουσική — літар. «мастацтва муз») — від мастацтва, у якім сродкам адлюстравання рэчаіснасці, увасаблення мастацкіх вобразаў і ўздзеяння на чалавека служаць пэўным чынам арганізаваныя музычныя гукі. Асноўныя элементы і выразныя сродкі музыкі — лад, рытм, метр, мелодыя, тэмп, гармонія і інш. Фіксуецца ў нотным запісе і рэалізуецца ў працэссе выканання. Падзяляецца на роды і віды — тэатральная (опера, балет і г.д.), сімфанічная, камерная і інш.; на жанры — песня, харал, танец, марш, сімфонія, сюіта, саната і інш.; выдзяляецца таксама свецкая і духоўная (пераважна культавая) музыка. Па выканаўчым сродкам падзяляецца на вакальную (спевы), інструментальную і вакальна-інструментальную. Музыка часта спалучаецца з харэаграфіяй, тэатральным мастацтвам, кіна-мастацтвам. Адрозніваюць музыку аднагалосную (манодзія) і шматгалосную (паліфанія).'],\n",
       "     'fi': [\"Musiikki (muinaiskreikaksi μουσική, mūsikē) eli säveltaide on ihmisen kulttuurille ominainen ääneen perustuva taiteen ja viestinnän muoto. Mūsikē tekhnē tarkoitti antiikin Kreikassa 'muusain taidetta' eli säveltaiteen ohella myös runoutta ja tanssia.Musiikissa on useita ulottuvuuksia, kuten ääni (sävel tai rytmimusiikissa myös hälyääni), rytmi, dynamiikka ja rakenne.Musiikille ei ole olemassa yksiselitteistä määritelmää. Mikä tahansa ääni voi olla musiikkia jos äänen tuottaja on sen sellaiseksi tarkoittanut tai kuulija sen sellaiseksi mieltää. Myös hiljaisuus voidaan tulkita tai tarkoittaa musiikiksi.Musiikkia sisältävä taidetos on nimeltään sävellys tai kappale. Mikäli kappale sisältää myös lyriikkaa, on kyseessä laulu. Laulu tai kappale voi tarkoittaa myös suuremman teoksen, kuten oopperan tai musikaalin osaa. Musiikkia käytetään monissa yhdistelmätaiteissa, kuten tanssi- ja teatteri- ja elokuvataiteessa.\"],\n",
       "     'pt': ['A música (do grego μουσική τέχνη - musiké téchne, a arte das musas) é uma forma de arte que se constitui basicamente em combinar sons e ritmo seguindo uma pré-organização ao longo do tempo.É considerada por diversos autores como uma prática cultural e humana. Atualmente não se conhece nenhuma civilização ou agrupamento que não possua manifestações musicais próprias. Embora nem sempre seja feita com esse objetivo, a música pode ser considerada como uma forma de arte, considerada por muitos como sua principal função.A criação, a performance, o significado e até mesmo a definição de música variam de acordo com a cultura e o contexto social. A música vai desde composições fortemente organizadas (e a sua recriação na performance), música improvisada até formas aleatórias. Pode ser dividida em gêneros e subgêneros, contudo as linhas divisórias e as relações entre géneros musicais são muitas vezes sutis, algumas vezes abertas à interpretação individual e ocasionalmente controversas. Dentro das \"artes\", a música pode ser classificada como uma arte de representação, uma arte sublime, uma arte de espetáculo.Para indivíduos de muitas culturas, a música está extremamente ligada à sua vida. A música expandiu-se ao longo dos anos, e atualmente se encontra em diversas utilidades não só como arte, mas também como a militar, educacional ou terapêutica (musicoterapia). Além disso, tem presença central em diversas atividades coletivas, como os rituais religiosos, festas e funerais.Há evidências de que a música é conhecida e praticada desde a pré-história. Provavelmente a observação dos sons da natureza tenha despertado no homem, através do sentido auditivo, a necessidade ou vontade de uma atividade que se baseasse na organização de sons. Embora nenhum critério científico permita estabelecer seu desenvolvimento de forma precisa, a história da música confunde-se, com a própria história do desenvolvimento da inteligência e da cultura humana.'],\n",
       "     'bg': ['Музика (от гръцки: μουσική, „изкуство на музите“) е вид изкуство, в който средството за изразяване е звукът. Основни елементи на музиката са тонът (който определя мелодията и хармонията), ритъмът (и свързаните с него темпо, размер и артикулация), динамиката, тембърът и текстурата.Създаването, изпълнението, значимостта и дори определението за музика варира в различните култури, както и в зависимост от социалния контекст. Музиката обхваща както строго организирани композиции (и тяхното представяне пред публика), така и импровизационната музика и дори различни алеаторни форми. Тя може да се раздели на жанрове и поджанрове, но често разграничението и връзките между различните жанрове са трудноопределими, а понякога и спорни.'],\n",
       "     'lt': ['Muzika (gr. μουσική (τέχνη) – musiké (téchne) – mūzų menas) – garsų menas, meniškas garsų komponavimas ir tokių akustinių kompozicijų atlikimas.Muzika – išraiškos forma laiko terpėje, naudojant garsų ir pauzių struktūrą. Tai sudėtingos formos kūriniai, išreiškiami per natūraliai išgaunamo dirgiklio, dažniausiai garso, kombinacijų ir modelių konstrukciją. Muzikos funkcijos: estetinė, meninė, komunikacinė, pramoginė, apeiginė. Nuo kultūros ir socialinio konteksto priklauso, kaip mes skirstome muziką.'],\n",
       "     'lv': ['Mūzika ir ar ausi uztvertas, īpaši izveidotu vai nejauši radušos priekšmetu vai parādību izraisītas gaisa svārstības, kas ar asociāciju, analoģiju un sinestēziju palīdzību iedarbojas uz cilvēka psiholoģisko stāvokli kā intelektuāli vai emocionāli stimulējošs, organizējošs, terapētisks vai sakrāls līdzeklis.Mūzika, esot integrāla cilvēka kā biosociālas būtnes daļa, nav universāla. Tās definējumi, īpašības un funkcijas ir atkarīgas no kultūras, kurā mūzika pastāv.Mūzika var būt arī viena no mākslas formām. Tās pamatelementi un izteiksmes līdzekļi ir skaņkārta, ritms, metrs, temps, dinamika, tembrs, melodija, harmonija, instrumentācija. Mūzika tiek fiksēta ar nošu raksta palīdzību. Tā var būt diferencēta pēc dažādiem principiem: pēc autorības (tautas un profesionālā mūzika), skaņdarba rakstura, atskaņojuma veida, atskaņotāju sastāva, sintēzes ar literatūru un citiem mākslas veidiem, lietojuma funkcijas, skaņkārtu sistēmas, stiliem un žanriem.Parasti mūzika sastāv no augstākām un zemākām skaņām.'],\n",
       "     'hr': ['Glazba je umjetnost čiji je medij zvuk kojeg organiziramo u vremenu i prostoru, uglavnom po nekom planu i namjerno, iako ima i drugih načina. Glazba je umjetnost tona koja oplemenjuje ćud čovjeka, budi osjećaj za red i ljepotu, te time idealizira i karakterizira različite narode. Stvaranje, izođenje, važnost, a nekad i definicija glazbe veoma ovise o kulturi i socijalnim aspektima. Glazbu dijelimo u žanrove i podžanrove, ali njihove granice i veze ponekad ovise o osobnoj interpretaciji. Zaokružen i cjelovit ostvaraj glazbene umjetnosti zove se skladba, glazbeno djelo ili kompozicija. Međutim, glazba je reproduktivna umjetnost, slično kao i drama ili ples, što znači da se ona ne svodi samo na skladanje, nego da je skladano djelo potrebno i izvesti (reproducirati, interpretirati) da bi ga se moglo predati publici kao gotov proizvod umjetnosti. Glazbu izvode interpretatori, a može ju se reproducirati na dva načina: živom izvedbom na samome mjestu, odnosno konkretnim izvođenjem djela pred publikom na koncertu ili nekoj prigodnoj svečanosti; emitiranjem prije snimljenog sadržaja s nosača zvuka (CD-a, DVD-a i sl.) preko suvremene elektroničke opreme, kao što su Hi-Fi, odnosno kroz auditivni ili audiovizualni elektronski medij (npr. radio, internet), i sl.'],\n",
       "     'fr': [\"La musique est l'art consistant à arranger et à ordonner ou désordonner sons et silences au cours du temps : le rythme est le support de cette combinaison dans le temps, la hauteur, celle de la combinaison dans les fréquences…Elle est donc à la fois une création (une œuvre d'art), une représentation et aussi un mode de communication. Elle utilise certaines règles ou systèmes de composition, des plus simples aux plus complexes (souvent les notes de musique, les gammes et autres). Elle peut utiliser des objets divers, le corps, la voix, mais aussi des instruments de musique spécialement conçus, et de plus en plus tous les sons (concrets, de synthèses, abstraits, etc.).La musique est évanescente, elle n'existe que dans l'instant de sa perception qui doit en reconstituer son unité dans la durée. Elle a existé dans toutes les sociétés humaines, depuis la Préhistoire. Elle est à la fois forme d'expression individuelle (notamment l'expression des sentiments), source de rassemblement collectif et de plaisir (fête, chant, danse) et symbole d'une communauté ou d'une nation (hymne national, style musical officiel, musique religieuse, musique militaire).\"],\n",
       "     'hu': ['A zene a hangok és a csend érzelmeket kiváltó elrendezése, létezésének lényege az idő. A pontos meghatározás nem könnyű, de abban általában egyetértés mutatkozik, hogy a zene a hangok tudatosan elrendezett folyamata. A zene egy művészi kifejezési forma, a hangok és „nem-hangok” (csendek) időbeli váltakozásának többnyire tudatosan előállított sorrendje, mely nem utasít konkrét cselekvésre, viszont érzelmeket, indulatokat kelt és gondolatokat ébreszt.Az olyan hangkombinációkat, amelyek ugyan tudatosan jönnek létre, de konkrét üzenetük van (vagyis valamilyen cselekvésre ösztönöznek), általában nem nevezzük zenének. Kizárólagos céljuk a figyelem felkeltése (autóduda, dallamkürtök, szirénák, telefon, ébresztőóra, tömegközlekedés felhívó hangjelzései, rádióadók szignáljai, áruhoz kapcsolt dallamok, templomi harang, egykoron a vadászok vagy a katonák kürtjelei stb.).Kizárólag a megfigyelő nézőpontján múlik, hogy mit tekint zajnak vagy zenének. A két fogalom nem zárja ki egymást: bizonyos körülmények között a zene is lehet zaj (például rockzenei koncert átszűrődő hangjai, amikor aludni szeretnénk), máskor a hétköznapi értelemben vett zajt is zeneként értelmezhetjük (vonat ritmikusan zakatoló hangjai, patadobogás). Mindkét csoportba tartozhatnak a természet hangjai, de bizonyosan az emberi beszéd is.A zenének többféle alkalmazási területe van, ahol nem veszít jellemzőiből, hanem más hasonló célú kifejezési formához társul (mozgásművészetek, színház, film, képzőművészet, irodalom), vagy pedig egy más terület veszi segítségül igénybe úgy, hogy valamelyik jellemzőjét kiemeli (sport, zeneterápia vagy diszkó, politika), de nem szünteti meg.'],\n",
       "     'yi': ['מוזיק, איז א ארגאנעזירטער צוזאמשטעל פון קולות און שטילקייט, און דעם ווערט אריינגעמישט מענטשליכע קולות אינסטרומענטאלע קולות און נאך,מוזיק ווערט געניצט ארויסצוגעבן געפיהלען, געדאנקען, מיטטיילן מיט אנדערע, אדער מאנילופירן געפילן, די אפטייטש פון מוזיק ווערט געטוישט לויטן קולטור.'],\n",
       "     'hy': ['Երաժշտություն (հուն.՝ μουσική [նկատի է առնվում τέχνη կամ ἐπιστήμη], ենթակա հուն.՝ μούσα - մուզա բառից), արվեստի տեսակ, որի գեղարվեստական մատերիալը համակարգված ձայնն է։ Երաժշտությունն առաջացել է Պալեոլիթում։'],\n",
       "     'bs': ['Muzika je pojam, koji označava vrstu umjetnosti koja kao medij koristi zvuk organizovan u vremenu po određenom planu ili bez njega. Osnovni elementi muzike su ton (koji određuje melodiju i harmoniju), ritam (i njemu pridruženi koncepti: tempo, metrika i artikulacija), dinamika i karakteristike zvuka kao što su boja i punoća. Pojam muzike kroz historiju su pokušali definirati brojni teoretičari, filozofi, leksikografi, kompozitori i sami muzičari, nastojeći pronaći univerzalan i odgovarajući opis pojma muzike. Sama riječ muzika potiče od grčke riječi mousikê, koja je izvedena od riječi mousa (muza), a svijetom se raširila kroz latinski oblik musica, i najčešće služi da opiše ugodne eufonijske zvukove.'],\n",
       "     'uk': ['Му́зика (від грец. μουσική — мистецтво муз) — мистецтво організації музичних звуків, передовсім у часовій (ритм), звуковисотній і тембровій шкалі. Музичним може бути практично будь-який звук з певними акустичними характеристиками, які відповідають естетиці тої чи іншої епохи, та може бути відтвореним при виконанні музики. Джерелами такого звуку можуть бути: людський голос, музичні інструменти, електричні генератори тощо.'],\n",
       "     'ka': ['მუსიკა (ბერძნ. μουσική musike) — ხელოვნების სახე, რომელიც სინამდვილეს ასახავს მუსიკალური მხატვრული ფორმებით და აქტიურად ზემოქმედებს ადამიანის ფსიქიკაზე. მუსიკას შეუძლია კონკრეტულად და დამაჯერებლად გადმოსცეს ადამიანთა ემოციური მდგომარეობა. იგი გამოხატავს გრძნობებთან დაკავშირებულ განზოგადოებულ იდეებს. მუსიკალური სახეების ხორცშესხმის საშუალებაა განსაზღვრული წესით ორგანიზებული მუსიკალური ბგერები. მუსიკის ძირითადი ელემენტები და გამოხატვის საშუალებებია: რიტმი, მეტრი, ტემპი, დინამიკა, ტემბრი, მელოდია, ჰარმონია, პოლიფონია. მუსიკა ფიქსირდება სანოტო ჩაწერით და ხორციელდება შესრულების პროცესში. შესრულების საშუალებების შესაბამისად მუსიკას ყოფენ: ვოკალურ, ინსტრუმენტულ და ვოკალურ–ინსტრუმენტულ სახეებად. მუსიკა ხშირად თანმხლებია ხელოვნების სხვა დარგებისა: ქორეოგრაფია, თეატრალური ხელოვნება, კინო. განასხვავებენ ერთხმიან (მონოდია) და მრავალხმიან (ჰომოფონია, პოლიფონია, ჰეტეროფონია) მუსიკას.ანტიკური და თანამედროვე ცივილიზაციის ხალხებმა საკუთარის მუსიკალური სისტემები განავითარეს. თითოეული კულტურის, ხალხის ხასიათის თავისებურებები ვლინდება მის მუსიკაში. ხალხური შემოქმედების საფუძველზე საზოგადოების განვითარების კანონზომიერებების შესაბამისად ვითარდება პროფესიული მუსიკა, ჩნდება სხვადასხვა სტილები, სკოლები, მიმდინარეობები. მუსიკისათვის დამახასიათებელია მდგრადი ტიპიური სტრუქტურები, რომლებიც გამოხატავენ კონკრეტული ეპოქის მუსიკალური აზროვნების თავისებურებებს.'],\n",
       "     'sk': ['Hudba sa vo všeobecnosti definuje ako špecifická ľudská aktivita, ktorá sa pomocou v priestore a čase charakteristicky zoskupených tónov a zvukov a na základe spoločenských skúseností usiluje o (hlavne estetickú) komunikáciu. Hudba je konkrétnejšie druh umenia, ktorého výrazovými prostriedkami sú tóny a základnými komponentmi harmónia, melódia, rytmus a farba. Podľa Cassiodora je hudba matematická veda.'],\n",
       "     'sl': ['Glásba ali múzika (grško μουσική τέχνη (mousike techne) - umetnost muz) je pojem, ki ga lahko razlagamo na več načinov. Pogosto je označen kot umetnost, oblika zabave ali nasprotje govora oziroma hrupa.V grobem poznamo tri skupine definicij glasbe: prva označuje glasbo kot od okolja neodvisno, na primer »urejeno in oblikovano zaporedje tonov, zvenov in šumov«, druga kot pojem, odvisen od družbenega dojemanja nje same, tretja pa kot platonični ideal, ki ne izvira iz specifičnih dejavnikov, ampak iz višje resnice.Glasbo ustvarjajo skladatelji, poustvarjajo pa glasbeniki. Ti jo izvabljajo iz glasbil, ustvarjajo z lastnim glasom ali pa glasbo elektronska glasbila proizvajajo glede na postavljena pravila. Glasba lahko nastane tudi kot mešanje obstoječih glasbenih del, kot to počnejo DJ-ji in elektronski umetniki z raznimi vzorčevalniki (samplerji).Zvok nastane ob tresenju(nihanju)prožnega telesa.Če so tresljaji enakomerni,nastanejo zvoki z določljivo višino;imenujemo jih toni. Če so pa tresljaji neenakomerni,nastanejo zvoki z nedoločljivo tonsko višino.;imenujemo jih šumi!Glasba se po nekaterih definicijah od nekega naključnega zaporedja not loči po svoji premišljenosti: note so ritmično razporejene in urejene v melodijo, ki je podprta s harmonijami. Praviloma je všečna človeškemu ušesu.Zaradi širokih možnosti dojemanja glasbe jo lahko preučujemo na veliko načinov: s študijem akustike, glasbene teorije, učenjem instrumenta oz. solopetja, muzikologije, etnomuzikologije ali glasbene zgodovine.'],\n",
       "     'ga': ['Leagan amach deaslabhartha na fuaime agus an tosta is ea an ceol. Tá fíorbhrí an fhocail ceol an-chonspóideach, agus féadann na fuaimeanna a nglactar leo mar cheol athrú de réir ré na staire agus an chultúir, ach glactar leis de ghnáth gur ceart na fuaimeanna a bheith eagraithe go comhfhiosach ag duine nó grúpa daoine. Tá mórán ceoil comhdhéanta de thoin (a chomharthaítear le nótaí ceolmhara) le hairdí cinnte. Déanann toin dhifriúla a sheinntear mar thon i ndiaidh toin séis, agus déanann toin seinnte go comhuaineach cordaí agus armóin. Tá fuaimeanna gan airde déanta le cnagadh go minic. Is í an rithim eagrú tomhaiste na gcodanna sin.'],\n",
       "     'sq': ['Muzika është formë e artit, mediumi i së cilës është zëri i organizuar në kohë. Elementet kryesore të muzikës janë toni (ku përfshihen melodia dhe harmonia), ritmi (bashkë me konceptet e afërta që janë tempo, metri dhe artikulimi), dinamika, si dhe kualiteti zënor.'],\n",
       "     'mk': ['Музиката е уметност која се состои од звуци и тишина искажани преку временска единица. Елементи на звукот кои се користат во музиката се интензитетот ( вбројува мелодија и хармонија), ритам (вбројува такт и темпо), и вокални квалитети, како што се артикулација, динамика и текстура. Употребата на музиката, во нејзиното создавање, изведба, значение па и во нејзината дефиниција, варира во зависност од социјалниот и културниот контекст. Таа варира од строго организирани композиции и перформанси до импровизација. За потребите на класификацијата таа е поделена во категории односно родови. Музиката се користи за многу цели како на пример: Комуникација, религија, академско проучување, естетски форми, забава итн.'],\n",
       "     'ca': [\"La música és l'art que es manifesta en l'organització dels sons i els silencis en el temps. És l'art de la generació, manipulació i combinació —en simultaneïtat o en successió— dels sons, produïts per veus humanes o per instruments, a la recerca de la bellesa formal i/o de l'expressió d'emocions, o de complir certes funcions, i produint missatges dotats d'unitat, continuïtat i coherència. Les seves manifestacions s'acostumen a sotmetre a dictats que tenen validesa dins d'un context cultural concret, tot i que des del segle XVIII s'ha dit sovint que la música és un llenguatge universal, idea que ja es troba en el poeta Samuel Rogers, en Christopher North i en Carl Maria von Weber (aquests darrers ja en ple Romanticisme). Habitualment aquestes normes són les de la melodia i les del ritme (i del timbre); i a les societats occidentals, també les de l'harmonia. En algunes manifestacions musicals no s'aprecia una voluntat veritablement artística —entesa com a vinculació a uns principis estètics, voluntat de sotmetre l'espectador / oient a una experiència estètica—; per tant, existeixen manifestacions musicals que són més aviat formes de comunicació i manifestacions culturals no necessàriament (ni prioritàriament) artístiques. La primera voluntat de la música no sempre és l'artística.Com a art sonora, requereix de dos moments o processos creatius per viatjar del creador al receptor o oient: la composició i la interpretació. Malgrat que en alguns casos —com la improvisació— ambdós poden estar indissolublement units, no per això deixen de ser dues fases diferents però del tot necessàries, àdhuc en els repertoris tradicionals.La música ha acompanyat les societats humanes des dels seus orígens, amb formes, funcions, manifestacions i productes molt diversos, segons cada context i moment. L'expressió musical és una constant de l'espècie humana malgrat que el camp semàntic del mot no sigui plenament coincident a tot arreu i en totes les llengües com en el cas de l'àrea islàmica de llengua àrab en què no inclou el cant a la mesquitaAlguns corrents filosòfics han posat l'èmfasi en el seu caràcter efímer i en el fet que només existeix veritablement en el moment en què sona. Per això adquireix tanta importància l'estudi dels elements que permeten fixar-la; tradicionalment ha estat la notació i més modernament l'enregistrament; per a altres, la societat en què es donen els processos que la integren.Ha estat sobretot l'etnomusicologia la que ha posat l'accent en el fet que la música no és sols —o potser no és tant— un producte —de la composició i la interpretació— sinó que més aviat —i sobretot— és un procés, un conjunt de processos, d'accions humanes que es donen en la societat. Paral·lelament, ha destacat el paper que té la música com a creadora de consciència de grup i d'identitats col·lectives, com en els himnes nacionals, religiosos o esportius.A part de constituir l'essència de fenòmens ben vius a la nostra cultura com el concert i els enregistraments, la música continua servint a una considerable varietat de funcions vinculades als rituals, a la coordinació del moviment corporal, la comunicació, la socialització, etc., a més de l'entreteniment o l'oci.\"],\n",
       "     'sr': ['Музика (грчки: μουσική - уметност муза) је уметност стварања уређених односа између тонова. Музика има три основна елемента: мелодију, ритам и хармонију.'],\n",
       "     'sv': ['Musikartiklar finns samlade i Musikportalen.Musik är en form av konstnärligt, emotionellt och kulturellt uttryck, framförallt i följder av ljud och toner med hjälp av särskilda instrument eller den mänskliga rösten. Det är också en av de största konst- och underhållningsformerna, ett yrkes- utbildnings- och vetenskapsfält, fritidsintresse och verktyg för kommunikation, med mera.'],\n",
       "     'ko': ['음악(音樂)은 한자어에서 짐작할 수 있듯이 소리로서 혹은 소리를 들음으로써 사람이 느끼는 즐거움을 뜻한다. 이와 같은 음악이 가지는 원시적인 뜻은 사람이 소리를 듣고 즐거움을 느낄 수 있는 감성을 갖고 있다는 심리적 측면과 함께 또한 즐거움을 불러일으키는 소리를 만들어 이를 들으며 즐길 수 있는 능력을 갖고 있다는 것을 예시한다. 인류의 문화 발전사에서 음악은 동서양을 막론하고 매우 일찍 인간 생활의 중요한 요소로 자리를 잡았다. 소리에 관한 기술로서 음악은 인류 문명의 발전과 발을 맞추어 여러가지 형식과 이론 그리고 악기의 발전을 가져왔다. 오늘날 음악의 분야는 음악을 연주, 작곡 하는 분야, 음악의 이론을 분석 및 연구하는 분야, 그리고 악기 제작 및 음악과 관련된 단체 및 여러 활동을 조직하는 일종의 서비스 분야 따위로 세분되어 있으며, 음악의 종류에 따라 전통 음악, 고전 음악, 대중음악으로 나뉜다. 또한 음악의 발생 및 전통 그리고 여러 기술적 측면에서 동양 음악과 서양 음악은 필연적으로 달리 이해되고 있다.'],\n",
       "     'gl': ['A música (do grego: μουσική [τέχνη] - mousikē [téchnē], \"a arte das musas\") é, segundo a definición tradicional do termo, a forma de arte consistente en combinar lóxica e sensibelmente os sons e silencios coa finalidade de crear unha determinada sensación ou emoción no oínte. De todos xeitos, desde hai varias décadas a definición do concepto de \"música\" volveuse máis complexa, debido a que destacados compositores realizaron experiencias que, se ben son musicais, traspasan os límites da definición desta arte.A creación, a execución, a importancia e incluso a definición da música varían de acordo coa cultura e o contexto social. A música abarca desde composicións estritamente organizadas, ata a música baseada na improvisación. A música pode dividirse en xéneros e subxéneros, a pesar de que as liñas divisorias e as relacións entre os xéneros son a miúdo moi sutís, ás veces abertas á interpretación individual, e en ocasións polémicas.A música, como toda manifestación artística, é un produto cultural. Porén, pode utilizarse con intención artística ou mesmo estética, para fins comunicativas, para entretemento, ou con propósitos cerimoniais ou relixiosos, ademais de ser utilizada por moitos compositores exclusivamente como instrumento para o estudo académico.'],\n",
       "     'el': ['Ως μουσική ορίζεται η τέχνη που βασίζεται στην οργάνωση ήχων με σκοπό τη σύνθεση, εκτέλεση και ακρόαση/λήψη ενός μουσικού έργου. Με τον όρο εννοείται επίσης και το σύνολο ήχων από το οποίο απαρτίζεται ένα μουσικό κομμάτι.Γνωστή και ως Απολλώνια Τέχνη, η μουσική παίρνει το όνομά της από τις εννέα Μούσες της αρχαίας ελληνικής μυθολογίας. Καθ\\' αυτή την έννοια, η μουσική διέφερε σημασιολογικά της σημερινής χρήσης του όρου, και περιελάμβανε το σύνολο των τεχνών που βρίσκονταν υπό την προστασία των Μουσών. Στην Αρχαία Ελλάδα, ο όρος εννοούσε την Ποίηση, το Μέλος και τον Χορό ως μια αδιάσπαστη ενότητα τεχνών η οποία καλλιεργήθηκε ιδιαίτερα στο Θέατρο, ενώ τη θεωρία της Μουσικής εξέφραζε ο κλάδος της Αρμονικής. Ο διαχωρισμός αυτός υιοθετήθηκε και αναπτύχθηκε από τον δυτικοευρωπαϊκό πολιτισμό. Έτσι σήμερα μπορούμε να πούμε ότι η μουσική ως τέχνη, έρχεται να καλύψει την ανάγκη του ανθρώπου να εκφράσει με τους ήχους, τις σκέψεις, τα συναισθήματα και τις ψυχικές του καταστάσεις. Τόσο ο ορισμός της μουσικής, όσο και σχετικά με τη μουσική θέματα όπως η εκτέλεση, η σύνθεση και η σπουδαιότητά της, διαφέρουν από πολιτισμό σε πολιτισμό και ανάλογα με το κοινωνικό πλαίσιο. Η ερώτηση \\'τί είναι μουσική;\\' έχει γίνει θέμα συζητήσεων - μεταξύ λογίων και μη -, έχει δεχτεί πληθώρα απαντήσεων, όμως καμία δεν ερμηνεύει το φαινόμενο της εν λόγω τέχνης σε καθολικό, διαπολιτιστικό επίπεδο. Μεταξύ άλλων, λεξικοί ορισμοί ορίζουν τη μουσική ως \\'τέχνη και επιστήμη των ήχων\\' ενώ το Βρετανικό Λεξικό της Οξφόρδης εξηγεί πως πρόκειται για \"μια από τις καλές τέχνες που ασχολείται με το συνδυασμό ήχων με σκοπό την ομορφιά ως προς τη φόρμα και την έκφραση των σκέψεων και συναισθημάτων.\" Ένας συχνόχρηστος ορισμός προέρχεται από τον μουσικοσυνθέτη Έντγκαρ Βαρές (Edgar Varese), ο οποίος χαρακτηρίζει τη μουσική ως \\'οργανωμένο ήχο\\'. Ωστόσο, ο αμερικανός εθνομουσικολόγος Μπρούνο Νετλ αναφέρει πως \"πολύ λίγοι λαοί έχουν έννοιες (κι επομένως λέξεις) αντίστοιχες με αυτή της Ευρωπαϊκής \\'μουσικής\\'.\"'],\n",
       "     'en': ['Music is an art form whose medium is sound and silence. Its common elements are pitch (which governs melody and harmony), rhythm (and its associated concepts tempo, meter, and articulation), dynamics, and the sonic qualities of timbre and texture. The word derives from Greek μουσική (mousike; \"art of the Muses\").The creation, performance, significance, and even the definition of music vary according to culture and social context. Music ranges from strictly organized compositions (and their recreation in performance), through improvisational music to aleatoric forms. Music can be divided into genres and subgenres, although the dividing lines and relationships between music genres are often subtle, sometimes open to personal interpretation, and occasionally controversial. Within the arts, music may be classified as a performing art, a fine art, and auditory art. It may also be divided among art music and folk music. There is also a strong connection between music and mathematics. Music may be played and heard live, may be part of a dramatic work or film, or may be recorded.To many people in many cultures, music is an important part of their way of life. Ancient Greek and Indian philosophers defined music as tones ordered horizontally as melodies and vertically as harmonies. Common sayings such as \"the harmony of the spheres\" and \"it is music to my ears\" point to the notion that music is often ordered and pleasant to listen to. However, 20th-century composer John Cage thought that any sound can be music, saying, for example, \"There is no noise, only sound.\" Musicologist Jean-Jacques Nattiez summarizes the relativist, post-modern viewpoint: \"The border between music and noise is always culturally defined—which implies that, even within a single society, this border does not always pass through the same place; in short, there is rarely a consensus ... By all accounts there is no single and intercultural universal concept defining what music might be.\"'],\n",
       "     'is': ['Tónlist er listgrein þar sem tjáningarmiðillinn er hljóð og þögn. Helstu þættir tónlistar eru tónhæð (sem stjórnar lagi og samhljómi), taktur, hljóðstyrkur, og hljóðbylgjueiginleikar tóna og áferð tónlistarinnar.'],\n",
       "     'it': ['La musica (dal sostantivo greco μουσική) è l\\'arte dell\\'organizzazione dei suoni nel corso del tempo e nello spazio. Si tratta di arte in quanto complesso di norme pratiche adatte a conseguire determinati effetti sonori, che riescono ad esprimere l\\'interiorità dell\\'individuo che produce la musica e dell\\'ascoltatore; si tratta di scienza in quanto studio della nascita, dell\\'evoluzione e dell\\'analisi dell\\'intima struttura della musica. Il generare suoni avviene mediante il canto o mediante strumenti musicali che, attraverso i principi dell\\'acustica, provocano la percezione uditiva e l\\'esperienza emotiva voluta dall\\'artista.Il significato del termine musica non è comunque univoco ed è molto dibattuto tra gli studiosi per via delle diverse accezioni utilizzate nei vari periodi storici. Etimologicamente il termine musica deriva dall\\'aggettivo greco μουσικός/mousikos, relativo alle Muse, figure della mitologia greca e romana, riferito in modo sottinteso a tecnica, anch\\'esso derivante dal greco τέχνη/techne. In origine il termine non indicava una particolare arte, bensì tutte le arti delle Muse, e si riferiva a qualcosa di \"perfetto\".'],\n",
       "     'es': ['La música (del griego: μουσική [τέχνη] - mousikē [téchnē], \"el arte de las musas\") es, según la definición tradicional del término, el arte de organizar sensible y lógicamente una combinación coherente de sonidos y silencios utilizando los principios fundamentales de la melodía, la armonía y el ritmo, mediante la intervención de complejos procesos psico-anímicos. El concepto de música ha ido evolucionando desde su origen en la antigua Grecia, en que se reunía sin distinción a la poesía, la música y la danza como arte unitario. Desde hace varias décadas se ha vuelto más compleja la definición de qué es y qué no es la música, ya que destacados compositores, en el marco de diversas experiencias artísticas fronterizas, han realizado obras que, si bien podrían considerarse musicales, expanden los límites de la definición de este arte.La música, como toda manifestación artística, es un producto cultural. El fin de este arte es suscitar una experiencia estética en el oyente, y expresar sentimientos, circunstancias, pensamientos o ideas. La música es un estímulo que afecta el campo perceptivo del individuo; así, el flujo sonoro puede cumplir con variadas funciones (entretenimiento, comunicación, ambientación, etc.).'],\n",
       "     'zh': ['音樂，廣義而言，是指任何以聲音組成的藝術。英文Music一詞源於古希臘語的μουσική（mousike），意即缪斯（muse）女神的藝術。而中文的音樂二字，許慎《說文解字》解釋為「音，聲也。生於心，有節於外，謂之音。」認為音樂和聲音的區別，在於音樂需要透過人心去想像和創造。音樂可分為創作、演奏、聆聽三個過程，在不同文化和社會，對於音樂的過程及其重要性都有不同的理解。例如在西非鼓樂里，每個人皆是參與者，人們不會區分作曲者、演奏者和聆聽者的身份。至於何謂聲音、噪音和音樂的區別，沒有公認的標準。因為音樂和數學、物理相關，歐洲自古希臘時代開始，有人論述樂理。在西方樂理中，音樂的主要元素有音高（或聲音的頻率）、節奏和音色。不同的音高重疊形成和聲，音高依據節奏進行成為旋律，常用的音高形成音階和調性，規律性的強拍和弱拍形成節拍，拍子的快慢構成速度。但近代有不少音樂家不認同傳統的理解，例如二十世紀美國作曲家約翰·凱吉認為任何聲音和靜默皆是音樂。音樂可以分為不同種類，但每種種類的區別常常是含糊和具爭議的。音樂可以用樂譜描述，依據樂譜演奏，但也有不少音樂類型如民歌或爵士樂是由演奏者即興創作的。樂譜作為一種符號的語言，只能描述聲音的屬性或指示演奏所需的技巧，卻無法記錄聲音本身。因此在錄音技術出現之前，欣賞音樂必需現場聆聽，或自己親身參與演奏。傳統上欣賞音樂有特定的場所，從古時的宮庭、教堂、廟宇到今天的音樂廳、酒吧等等。十九世紀末，留聲機的發明令聲音可以紀錄和複製，改變了欣賞音樂的模式，一般認為錄音技術和大眾媒體是流行音樂形成的主要因素。現在人們可以在家中聆聽唱片和音樂錄像，透過無線電以收音機和電視接收聲音的訊號，也可以携帶隨身聽在任何一個地方聆聽音樂。演奏音樂需要透過歌唱或樂器。廣義的樂器包括一切可以發出聲音的工具，在石器時代人們已經開始製作原始的樂器。今天電腦和不少電子音樂產品可以透過MIDI製作音樂。音樂是一种需要學習的技能，而在不少國家的基礎教育中包括有音樂課，而一些音樂學院則提供專業的音樂教育。音乐学是一個歷史的科学的研究音乐的广阔领域，其中包括音乐理论和音乐史。另外自十九世紀末開始有民族音樂學，研究各地不同的音樂文化。'],\n",
       "     'et': ['Muusika ehk helikunst (vanakreeka sõnast μουσική (τέχνη) \\'muusade kunst\\' ladina sõna (ars) musica kaudu) on üks kaunitest kunstidest, mille materjaliks võivad olla muusikalised helid, mürad ja konkreetse loodus- või inimkeskkonna helid.Muusika ülesmärkimiseks kasutatakse noodikirja.Vanakreekakeelne nimisõna mousikē (μουσική), mis on tuletis sõnast Mousa, Μοῦσα, muusa, esineb teadaolevalt esimest korda 476. aastal enne Kristust Pindarose \"Olümpia oodis\". Seda võib pidada ka naissooliseks vormiks sõnadest mousikos (μουσικός), ladina keeles musicus, muusik ning musicalis‚ musikaalne. Harvem kasutati ka mõistet mousikē technē (μουσικὴ τέχνη‚ muusade kunst. Vahel esinev viide egiptuse sõnale moys, vesi, näib siiski meelevaldsena.Kreekakeelne μουσική ja ladinakeelne musica esinevad algselt muusikateoreetilistes tekstides. Erineval kujul on see lisaks peaaegu kõigile euroopa keeltele võetud üle ka araabia keelde. Erinevusi on väga üksikutes euroopa keeltes, näiteks tšehhi ja slovaki keeles hudba.'],\n",
       "     'cs': ['Hudba (od slova housti, hráti) je termín, který označoval hru na strunný nástroj (odtud hudebník). Později se termín začal používat ve stejném kontextu jako muzika (odtud muzikant).'],\n",
       "     'eu': ['Musika, bitartekotzat soinua darabilen arte bat da. Musika sortzen duen pertsonari musikagile deitzen zaio; musika jotzen edo abesten duenari, musikari; eta musika aztertzen duenari, musikologo.'],\n",
       "     'ar': ['الموسيقىويقال الموسيقا. من μουσική بالإغريقية وتلفظ [moːsikɛː́]. هي فن مؤلف من الأصوات والسكوت عبر فترة زمنية. خصائص الصوت التي تصف الموسيقى هي طبقة الصوت (pitch-تشمل اللحن والتجانس الهارموني)، الإيقاع (بما فيه الميزان)، الجودة الصوتية لكل من جرس النغمة (timbre)، الزخرفة (articulation)، الحيوية (dynamics)، والعذوبة (texture).يعتقد علماء تاريخ الحياة الموسيقية بأن كلمة الموسيقى يونانية الأصل. وقد كانت تعني سابقا الفنون عموما غير أن أصبحت فيما بعد تطلق على لغة الألحان فقط. وقد عرفت لفظة موسيقى بأنها فن الألحان وهي صناعة يبحث فيها عن تنظيم الأنغام والعلاقات فيما بينها وعن الإيقاعات وأوزانها. والموسيقى فن يبحث عن طبيعة الأنغام من حيث الاتفاق والتنافر.تأليف الموسيقى وطريقة أدائها وحتى تعريفها بالأصل تختلف تبعًا للسياق الحضاري والاجتماعي. وهي تعزف بواسطة مختلف الآلات: العضوية (صوت الإنسان، التصفيق) وآلات النفخ (الناي، البوق) والوترية (مثل: العود والقيثارة والكمان)، والإلكترونية (الأورغ). تتفاوت الأداءات الموسيقية بين موسيقى منظمة بشدة في أحيان، إلى موسيقى حرة غير مقيدة بأنظمة في أحيان أخرى.والموسيقى لا تتضمن العزف فقط بل أيضا القرع في الطبول وموسيقى الهرمونيكا. يعتبر الباليه أيضا من الموسيقى نظرا للحركات الهادئة التي توحي بأنها موسيقى صامتة. الموسيقى جزء من حضارة البشر، لكنها لغة ليست منطوقة فقط وإنما منغمة أيضاً.. قد يظن البعض أنها أكثر من لغة لوجود الموسيقى الشرقية والغربية، وإنما هي لغة واحدة ويأتى الاختلاف فقط من اختلاف الشعوب واختلاف الآلات أيضاً.'],\n",
       "     'cy': [\"Cerddoriaeth yw celfyddyd a fynegir drwy gyfrwng sŵn wedi'i drefnu mewn amser. Elfennau cyffredinol cerddoriaeth yw traw sy'n rheoli alaw a harmoni, rhythm (a'i gysyniadau perthynol tempo a medr), deinameg, soniaredd a gwead.Mae'r cread, perfformiad, arwyddocâd a hyd yn oed diffiniad cerddoriaeth yn amrywio yn ôl diwylliant a chyd-destun cymdeithasol. Mae cerddoriaeth yn amrywio o gyfansoddiadau trefniedig llym (a'u hail-gread yn ystod perfformiad) i ffurfiau cerddorol byrfyfyriol. Fe ellir rhannu cerddoriaeth i mewn i genres gwahanol. I bobl yn nifer o ddiwylliannau, mae cerddoriaeth yn rhan hanfodol o'u ffordd o fyw. Diffiniodd athronwyr Groeg ac India hynafol gerddoriaeth fel tonau wedi'u trefnu'n llorweddol fel melodïau ac yn fertigol fel harmonïau. Yn gyffredinol nid oes un cysyniad rhyng-ddiwylliannol sy'n diffinio beth yw cerddoriaeth heblaw ei bod yn 'sŵn drwy amser'.\"],\n",
       "     'ja': ['音楽（おんがく、英: music）は、人間が組織づけた音。音のもつ様々な性質を利用して感情や思想を表現したもの。'],\n",
       "     'az': ['Musiqi - incəsənətin növlərindən biri. Musiqini, musiqi tarixini və nəzəriyyəsini, musiqi estetikasını, musiqi tənqidi və folklorşünaslıq – etnomusiqişünaslıq sahələrini özundə cəmləşdirən elmə musiqişünaslıq deyilir .Qədim yunanlar musiqini Allahların tövhəsi kimi qiymətləndirir,bona insanların qəlbini fəth edən ecazkar qüvvə kimi yanaşırdılar.bYunan rəvayətlərinin birində Orfeyin oxuduğu gözəl nəğmələrlə Allahları və adamları heyran edir, təbiətin kor qüvvələrini ram edirdi. Beləliklə, ən qədim zamanlardan bu günə kimi musiqinin bir möcüzə olduğu onun əhvali-ruhiyyəsinə böyük təsir göstərdiyini hamı etiraf etmişdir.Ümumi musiqi terminologiyası italyan dilindən götürülmüşdür.'],\n",
       "     'pl': ['Muzyka (gr. mousike, cz. hudba, staropol. gędźba) – sztuka organizacji struktur dźwiękowych w czasie. Jedna z dziedzin sztuk pięknych, która wpływa na psychikę człowieka przez dźwięki.Struktury dźwiękowe składają się z zestawów fal akustycznych o celowo dobranych częstotliwościach i amplitudach oraz ciszy pomiędzy nimi. Celem muzyki jest oddziaływanie na świadomość słuchacza. Jest zjawiskiem odbieranym subiektywnie, zależnym od indywidualnych skłonności, wcześniejszych doświadczeń, społecznych kryteriów wartości, aktualnego nastroju i wielu innych czynników w tym tzw. słuchu muzycznego. Od mowy ludzkiej różni się znacznie większą abstrakcyjnością przekazywanych treści oraz wykorzystaniem oprócz głosu ludzkiego również instrumentów muzycznych.Muzyka jest jednym z przejawów ludzkiej kultury. Można przyjąć, że muzyka od zawsze towarzyszyła człowiekowi w pracy, zabawie, odpoczynku oraz w obrzędach, najpewniej również od początku łączona była z tańcem i słowem. Z początku muzyka służyła celom praktycznym – pomagała w pracy zespołowej, była formą komunikacji, później stała się także elementem tożsamości zbiorowej. Z czasem wykształciła się jako jedna z gałęzi sztuki.'],\n",
       "     'he': ['מוזיקה (לעתים מוסיקה) היא אמנות סידור הצליל והשקט בזמן.מרכיביה העיקריים הם גובה צליל (האחראי על מלודיה והרמוניה), קצב (מפעם, משקל וארטיקולציה), דינמיקה, גוון ומרקם. המילה \"מוזיקה\" נובעת מהמילה היוונית μουσική (\"מוזיק\"), \"(האמנות) של המוזות\".היצירה, הסגנון, החשיבות, ואף הגדרת המוזיקה עצמה משתנים בהתאם לתרבות ולהקשרים חברתיים. המוזיקה כוללת יצירות מסוגים שונים, מיצירות מאורגנות בקפידה, דרך אלתור מוזיקלי ועד צורות אלאטוריות (אקראיות לחלוטין). ניתן לחלק את המוזיקה לסוגות (סגנונות, ז\\'אנרים) ותתי-סוגות, אף על פי שהגבולות והיחסים בין סגנונות המוזיקה השונים הם לעתים עדינים ביותר, פתוחים לאינטרפרטציה אישית, או אף שנויים במחלוקת. מבין האמנויות, ניתן לסווג את המוזיקה כאחת מאמנויות הבמה, האמנויות היפות, וכאמנות שמיעתית/קולית.בתרבויות רבות, המוזיקה שזורה בקשר בל-ייפרם בחייהם של בני האדם. הפילוסופים היוונים וההודים העתיקים הגדירו את המוזיקה כצלילים המסודרים ב\"מאוזן\" כמלודיות או ב\"מאונך\" כהרמוניות. ביטויים נפוצים כגון \"ההרמוניה של גרמי השמים\" או \"זו מוזיקה לאוזניי\" מצביעים על כך שמוזיקה היא לעתים קרובות מסודרת היטב ונעימה לשמיעה. עם זאת, המלחין בן המאה ה-20 ג\\'ון קייג\\' חשב כי כל צליל עשוי להוות מוזיקה, ואמר לדוגמה כי \"אין רעש, רק צלילים\".לפי המוזיקולוג ז\\'אן ז\\'אק נטייה, \"הגבול בין מוזיקה ורעש מוגדר תמיד בהקשר תרבותי - ולכן אפילו בתוך חברה מסוימת, הגבול לא תמיד עובר באותו המקום; לעתים רחוקות בלבד יש הסכמה כללית. [...] לכל הדעות, אין רעיון כלל-עולמי יחיד - המגשר בין תרבויות - אשר מגדיר מה מוזיקה יכולה להיות, פרט לכך שהיא כוללת צלילים המשתנים בזמן\".'],\n",
       "     'da': ['Musik opfattes traditionelt som en sammensætning af toner, der synges eller spilles på et instrument. En tænketank i USA definerede musik som \"mønstre af lyde, der varierer i højde og varighed og som frembringes af følelsesmæssige, sociale, kulturelle og intellektuelle grunde\". Den bredeste definition er at musik er organiserede lydbegivenheder der opfattes æstetisk.'],\n",
       "     'ro': ['Muzica (din gr. mousikē) este arta combinării notelor în succesiune și simultan într-o formă plăcută estetic, organizarea ritmică a acestor note și integrarea lor într-o lucrare completă.'],\n",
       "     'nl': [\"Muziek is een kunstvorm die gebruikmaakt van klanken, geschikt in een bepaalde tijdsduur. Om muziek te maken wordt gebruikgemaakt van de elementen toonhoogte, ritme, geluidssterkte (muzikale dynamiek), klankkleur en textuur (monofonie, polyfonie e.d.), maar ook stilte. Het woord is afgeleid van het Griekse μουσική (mousikè), 'kunst van de Muzen'.Voor zover bekend hebben alle culturen in alle tijden muziek gekend, maar omdat deze kunst op verschillende plaatsen en in verschillende tijden steeds weer anders beoefend (en ervaren) werd en wordt, is er geen eensgezindheid omtrent de definitie van muziek: wanneer is iets muziek en wanneer niet? Het uiteindelijke antwoord op deze kernvraag verschilt bij de diverse muziektheoretici en filosofen. Dit verklaart wel de grote verscheidenheid aan muziekstijlen door de tijden heen, in diverse (sub)culturen.Het is echter wel een onomstreden feit dat het bij muziek altijd om het hoorbare (of het ontbreken daarvan) gaat, in tegenstelling tot het zichtbare in de beeldende kunsten. Muziek is een tijdskunst, met hoorbare (geluiden, klanken, tonen) of onhoorbare (stiltes, pauzes) elementen in opeenvolging of tegelijkertijd. Daarnaast worden geluiden alleen tot muziek gerekend als iemand de bedoeling heeft muziek te maken. Muziek kan dus niet 'per ongeluk' worden gemaakt. Daarmee is muziek nauw verwant aan poëzie, waarbij de beide elementen van zichtbaar en hoorbaar verenigd worden, hetgeen bij geschreven muziek eveneens het geval is. Een ander woord voor muziek (als creatie) is toonkunst.\"],\n",
       "     'tr': ['Müzik en genel tanımı ile sesin biçim ve anlamlı titreşimler kazanmış hâlidir. Başka bir deyiş ile de müzik, sesin ve sessizliğin belirli bir zaman aralığında ifade edildiği sanatsal bir formdur. Biçim ve titreşim içeren bir ses oluşumunda melodi olarak kabul görmesi için dinleyende duygulara yönelik etkileşim yapması da beklenmektedir. Tarihsel dönem, bölge, kültür ve kişisel beğenilere bağımlı olarak ele aldığında müzik teriminin tanımı önemli farklılık gösterebilmektedir. Özellikle 20. yüzyıl çağdaş Batı müziğinde ortaya çıkan çok farklı müzik akımları, ortak bir tanımı büyük ölçüde zorlaştırmaktadır. Bunun ötesinde, gittikçe daha fazla insanın erişme olanağı bulduğu farklı kültürlere ait yerel müzikler de bu tanımlama zorluğunu arttırmaktadır.Tüm bu sebeplerden dolayı, müziğin tek bir tanımla açıklanması yerine farklı açılardan (sosyolojik, psikolojik, akustik, politik vb.) yapılan birden fazla tanımla açıklanması yaygınlık kazanmıştır. Bir sosyoloğun müziğe olan yaklaşımıyla, bir akustik fizikçinin yaklaşımı arasında gerek tanım, gerek metodolojik olarak büyük farklılık vardır. Tüm bu yaklaşımlar müzikologlar ve müzik teorisyenleri tarafından araştırılır ve değerlendirilir.']},\n",
       "    'related': ['http://dbpedia.org/resource/Category:Entertainment',\n",
       "     'http://dbpedia.org/resource/Category:Performing_arts',\n",
       "     'http://dbpedia.org/resource/Category:Music'],\n",
       "    'exactMatch': ['http://wikidata.dbpedia.org/resource/Q638',\n",
       "     'http://tg.dbpedia.org/resource/Мусиқӣ',\n",
       "     'http://yo.dbpedia.org/resource/Orin',\n",
       "     'http://el.dbpedia.org/resource/Μουσική',\n",
       "     'http://mr.dbpedia.org/resource/संगीत',\n",
       "     'http://pnb.dbpedia.org/resource/موسیقی',\n",
       "     'http://hr.dbpedia.org/resource/Glazba',\n",
       "     'http://zh.dbpedia.org/resource/音乐',\n",
       "     'http://arz.dbpedia.org/resource/مزيكا',\n",
       "     'http://it.dbpedia.org/resource/Musica',\n",
       "     'http://pa.dbpedia.org/resource/ਸੰਗੀਤ',\n",
       "     'http://oc.dbpedia.org/resource/Musica',\n",
       "     'http://sr.dbpedia.org/resource/Музика',\n",
       "     'http://war.dbpedia.org/resource/Musika',\n",
       "     'http://kn.dbpedia.org/resource/ಸಂಗೀತ',\n",
       "     'http://no.dbpedia.org/resource/Musikk',\n",
       "     'http://ur.dbpedia.org/resource/موسیقی',\n",
       "     'http://mn.dbpedia.org/resource/Хөгжим',\n",
       "     'http://tt.dbpedia.org/resource/Музыка',\n",
       "     'http://la.dbpedia.org/resource/Musica',\n",
       "     'http://lmo.dbpedia.org/resource/Müsega',\n",
       "     'http://an.dbpedia.org/resource/Musica',\n",
       "     'http://ta.dbpedia.org/resource/இசை',\n",
       "     'http://nds.dbpedia.org/resource/Musik',\n",
       "     'http://sl.dbpedia.org/resource/Glasba',\n",
       "     'http://be.dbpedia.org/resource/Музыка',\n",
       "     'http://ka.dbpedia.org/resource/მუსიკა',\n",
       "     'http://new.dbpedia.org/resource/संगीत',\n",
       "     'http://scn.dbpedia.org/resource/Mùsica',\n",
       "     'http://jv.dbpedia.org/resource/Musik',\n",
       "     'http://gu.dbpedia.org/resource/સંગીત',\n",
       "     'http://da.dbpedia.org/resource/Musik',\n",
       "     'http://sa.dbpedia.org/resource/सङ्गीतम्',\n",
       "     'http://ku.dbpedia.org/resource/Muzîk',\n",
       "     'http://eo.dbpedia.org/resource/Muziko',\n",
       "     'http://sk.dbpedia.org/resource/Hudba',\n",
       "     'http://eu.dbpedia.org/resource/Musika',\n",
       "     'http://he.dbpedia.org/resource/מוזיקה',\n",
       "     'http://ceb.dbpedia.org/resource/Musika',\n",
       "     'http://hi.dbpedia.org/resource/संगीत',\n",
       "     'http://ko.dbpedia.org/resource/음악',\n",
       "     'http://br.dbpedia.org/resource/Sonerezh',\n",
       "     'http://www.wikidata.org/entity/Q638',\n",
       "     'http://fr.dbpedia.org/resource/Musique',\n",
       "     'http://ky.dbpedia.org/resource/Музыка',\n",
       "     'http://uz.dbpedia.org/resource/Musiqa',\n",
       "     'http://te.dbpedia.org/resource/భారతీయ_సంగీతము',\n",
       "     'http://pl.dbpedia.org/resource/Muzyka',\n",
       "     'http://bs.dbpedia.org/resource/Muzika',\n",
       "     'http://lt.dbpedia.org/resource/Muzika',\n",
       "     'http://gd.dbpedia.org/resource/Ceòl',\n",
       "     'http://yi.dbpedia.org/resource/מוזיק',\n",
       "     'http://th.dbpedia.org/resource/ดนตรี',\n",
       "     'http://am.dbpedia.org/resource/ሙዚቃ',\n",
       "     'http://hy.dbpedia.org/resource/Երաժշտություն',\n",
       "     'http://ml.dbpedia.org/resource/സംഗീതം',\n",
       "     'http://vec.dbpedia.org/resource/Mùxega',\n",
       "     'http://az.dbpedia.org/resource/Musiqi',\n",
       "     'http://cs.dbpedia.org/resource/Hudba',\n",
       "     'http://fi.dbpedia.org/resource/Musiikki',\n",
       "     'http://et.dbpedia.org/resource/Muusika',\n",
       "     'http://my.dbpedia.org/resource/ဂီတ',\n",
       "     'http://ast.dbpedia.org/resource/Música',\n",
       "     'http://ro.dbpedia.org/resource/Muzică',\n",
       "     'http://vi.dbpedia.org/resource/Âm_nhạc',\n",
       "     'http://wa.dbpedia.org/resource/Muzike',\n",
       "     'http://pt.dbpedia.org/resource/Música',\n",
       "     'http://ms.dbpedia.org/resource/Muzik',\n",
       "     'http://mk.dbpedia.org/resource/Музика',\n",
       "     'http://uk.dbpedia.org/resource/Музика',\n",
       "     'http://lb.dbpedia.org/resource/Musek',\n",
       "     'http://nn.dbpedia.org/resource/Musikk',\n",
       "     'http://io.dbpedia.org/resource/Muziko',\n",
       "     'http://tl.dbpedia.org/resource/Tugtugin',\n",
       "     'http://kk.dbpedia.org/resource/Музыка',\n",
       "     'http://sco.dbpedia.org/resource/Muisic',\n",
       "     'http://cy.dbpedia.org/resource/Cerddoriaeth',\n",
       "     'http://ne.dbpedia.org/resource/संगीत',\n",
       "     'http://sah.dbpedia.org/resource/Музыка',\n",
       "     'http://lv.dbpedia.org/resource/Mūzika',\n",
       "     'http://bg.dbpedia.org/resource/Музика',\n",
       "     'http://af.dbpedia.org/resource/Musiek',\n",
       "     'http://als.dbpedia.org/resource/Musik',\n",
       "     'http://ar.dbpedia.org/resource/موسيقى',\n",
       "     'http://sv.dbpedia.org/resource/Musik',\n",
       "     'http://es.dbpedia.org/resource/Música',\n",
       "     'http://fa.dbpedia.org/resource/موسیقی',\n",
       "     'http://ba.dbpedia.org/resource/Музыка',\n",
       "     'http://mg.dbpedia.org/resource/Mozika',\n",
       "     'http://rdf.freebase.com/ns/m.04rlf',\n",
       "     'http://fy.dbpedia.org/resource/Muzyk',\n",
       "     'http://de.dbpedia.org/resource/Musik',\n",
       "     'http://tr.dbpedia.org/resource/Müzik',\n",
       "     'http://ht.dbpedia.org/resource/Mizik',\n",
       "     'http://ja.dbpedia.org/resource/音楽',\n",
       "     'http://ru.dbpedia.org/resource/Музыка',\n",
       "     'http://nl.dbpedia.org/resource/Muziek',\n",
       "     'http://mzn.dbpedia.org/resource/ساز',\n",
       "     'http://id.dbpedia.org/resource/Musik',\n",
       "     'http://hu.dbpedia.org/resource/Zene',\n",
       "     'http://sw.dbpedia.org/resource/Muziki',\n",
       "     'http://sh.dbpedia.org/resource/Muzika',\n",
       "     'http://sq.dbpedia.org/resource/Muzika',\n",
       "     'http://ca.dbpedia.org/resource/Música',\n",
       "     'http://qu.dbpedia.org/resource/Taki_kapchiy',\n",
       "     'http://ga.dbpedia.org/resource/Ceol',\n",
       "     'http://bn.dbpedia.org/resource/সঙ্গীত',\n",
       "     'http://cv.dbpedia.org/resource/Кĕвĕ',\n",
       "     'http://simple.dbpedia.org/resource/Music',\n",
       "     'http://ia.dbpedia.org/resource/Musica',\n",
       "     'http://ckb.dbpedia.org/resource/مۆسیقا',\n",
       "     'http://is.dbpedia.org/resource/Tónlist',\n",
       "     'http://gl.dbpedia.org/resource/Música',\n",
       "     'http://nap.dbpedia.org/resource/Múseca',\n",
       "     'http://dbpedia.org/resource/Music']}],\n",
       "  'edmDatasetName': ['09903_CH_MediathequeValais_s'],\n",
       "  'europeanaAggregation': {'about': '/aggregation/europeana/09903/FE4D667B5DE8E51E3D59577425C7CDD17523E23C',\n",
       "   'aggregatedCHO': '/item/09903/FE4D667B5DE8E51E3D59577425C7CDD17523E23C',\n",
       "   'edmCountry': {'def': ['Switzerland']},\n",
       "   'edmLanguage': {'def': ['mul']},\n",
       "   'edmLandingPage': 'https://www.europeana.eu/item/09903/FE4D667B5DE8E51E3D59577425C7CDD17523E23C',\n",
       "   'dqvHasQualityAnnotation': ['/item/09903/FE4D667B5DE8E51E3D59577425C7CDD17523E23C#contentTier',\n",
       "    '/item/09903/FE4D667B5DE8E51E3D59577425C7CDD17523E23C#metadataTier']},\n",
       "  'europeanaCollectionName': ['09903_CH_MediathequeValais_s'],\n",
       "  'europeanaCompleteness': 0,\n",
       "  'organizations': [{'about': 'http://data.europeana.eu/organization/1482250000004509131',\n",
       "    'prefLabel': {'fr': ['Médiathèque Valais - Martigny']}}],\n",
       "  'providedCHOs': [{'about': '/item/09903/FE4D667B5DE8E51E3D59577425C7CDD17523E23C'}],\n",
       "  'proxies': [{'about': '/proxy/europeana/09903/FE4D667B5DE8E51E3D59577425C7CDD17523E23C',\n",
       "    'dcSubject': {'def': ['http://data.europeana.eu/concept/base/62']},\n",
       "    'proxyIn': ['/aggregation/europeana/09903/FE4D667B5DE8E51E3D59577425C7CDD17523E23C'],\n",
       "    'proxyFor': '/item/09903/FE4D667B5DE8E51E3D59577425C7CDD17523E23C',\n",
       "    'edmType': 'SOUND',\n",
       "    'europeanaProxy': True},\n",
       "   {'about': '/proxy/provider/09903/FE4D667B5DE8E51E3D59577425C7CDD17523E23C',\n",
       "    'dcContributor': {'def': ['Médiathèque Valais - Martigny']},\n",
       "    'dcCreator': {'def': ['Mariétan, Pierre']},\n",
       "    'dcDate': {'def': ['31 août 1983']},\n",
       "    'dcFormat': {'def': ['audio/mpeg']},\n",
       "    'dcIdentifier': {'def': ['http://xml.memovs.ch/s009CD019a.xml',\n",
       "      's009CD019aavn',\n",
       "      'R005738280']},\n",
       "    'dcLanguage': {'def': ['fr']},\n",
       "    'dcPublisher': {'def': ['Médiathèque Valais - Martigny']},\n",
       "    'dcRights': {'def': ['Pierre Mariétan, Médiathèque Valais - Martigny']},\n",
       "    'dcSource': {'def': ['s009CD019a']},\n",
       "    'dcSubject': {'def': ['Musique']},\n",
       "    'dcTitle': {'def': ['Musique d’été 2']},\n",
       "    'dcType': {'def': ['Sound']},\n",
       "    'dctermsAlternative': {'def': ['hornsound']},\n",
       "    'dctermsExtent': {'def': ['00:31:08']},\n",
       "    'dctermsHasPart': {'def': ['http://son.memovs.ch/s009/s009CD019/s009CD019.pdf']},\n",
       "    'dctermsIsPartOf': {'def': ['Mariétan Pierre']},\n",
       "    'dctermsMedium': {'def': ['1 bande magnétique (31 min.)']},\n",
       "    'dctermsTOC': {'def': [\"Musique d'été 2\"]},\n",
       "    'proxyIn': ['/aggregation/provider/09903/FE4D667B5DE8E51E3D59577425C7CDD17523E23C'],\n",
       "    'proxyFor': '/item/09903/FE4D667B5DE8E51E3D59577425C7CDD17523E23C',\n",
       "    'edmType': 'SOUND',\n",
       "    'europeanaProxy': False}],\n",
       "  'qualityAnnotations': [{'about': '/item/09903/FE4D667B5DE8E51E3D59577425C7CDD17523E23C#contentTier',\n",
       "    'created': '2019-07-17T09:47:28.388Z',\n",
       "    'target': ['/aggregation/provider/09903/FE4D667B5DE8E51E3D59577425C7CDD17523E23C'],\n",
       "    'body': 'http://www.europeana.eu/schemas/epf/contentTier1'},\n",
       "   {'about': '/item/09903/FE4D667B5DE8E51E3D59577425C7CDD17523E23C#metadataTier',\n",
       "    'created': '2019-07-17T09:47:28.389Z',\n",
       "    'target': ['/aggregation/provider/09903/FE4D667B5DE8E51E3D59577425C7CDD17523E23C'],\n",
       "    'body': 'http://www.europeana.eu/schemas/epf/metadataTier0'}],\n",
       "  'timestamp_created': '1970-01-01T00:00:00.000Z',\n",
       "  'timestamp_created_epoch': 0,\n",
       "  'timestamp_update': '1970-01-01T00:00:00.000Z',\n",
       "  'timestamp_update_epoch': 0,\n",
       "  'type': 'SOUND'}}"
      ]
     },
     "execution_count": 47,
     "metadata": {},
     "output_type": "execute_result"
    }
   ],
   "source": [
    "data"
   ]
  },
  {
   "cell_type": "code",
   "execution_count": 230,
   "metadata": {
    "collapsed": true,
    "jupyter": {
     "outputs_hidden": true
    },
    "tags": []
   },
   "outputs": [
    {
     "data": {
      "text/plain": [
       "{'europeana_id': '/449/libria_317731',\n",
       " 'image_url': 'https://www.byterfly.eu/iiif-server/iiif/2/http%3A%2F%2F150.145.48.48%3A8080%2Ffedora%2Fobjects%2Flibria:317746%2Fdatastreams%2FJP2%2Fcontent/full/full/0/default.jpg',\n",
       " 'uri': 'http://data.europeana.eu/item/449/libria_317731',\n",
       " 'dataset_name': '449_CulturaItalia_Byterfly_Leconomista',\n",
       " 'country': 'Italy',\n",
       " 'language': 'it',\n",
       " 'type': 'TEXT',\n",
       " 'title': \"Avviso al popolo sul bisogno suo primario o sia Trattato sulla totale e perfetta libertà nel commercio de' grani\",\n",
       " 'title_lang': {'def': \"Avviso al popolo sul bisogno suo primario o sia Trattato sulla totale e perfetta libertà nel commercio de' grani\"},\n",
       " 'rights': 'http://rightsstatements.org/vocab/NoC-OKLR/1.0/',\n",
       " 'provider': 'http://data.europeana.eu/organization/1482250000000338951',\n",
       " 'provider_lang': {'def': 'http://data.europeana.eu/organization/1482250000000338951'}}"
      ]
     },
     "execution_count": 230,
     "metadata": {},
     "output_type": "execute_result"
    }
   ],
   "source": [
    "utils.process_CHO_record(data)"
   ]
  },
  {
   "cell_type": "code",
   "execution_count": 80,
   "metadata": {},
   "outputs": [],
   "source": [
    "response = apis.search(\n",
    "    query = query,\n",
    "    rows = 1, \n",
    "    profile='rich'\n",
    "    )"
   ]
  },
  {
   "cell_type": "code",
   "execution_count": null,
   "metadata": {},
   "outputs": [],
   "source": [
    "data"
   ]
  },
  {
   "cell_type": "code",
   "execution_count": 76,
   "metadata": {},
   "outputs": [
    {
     "data": {
      "text/html": [
       "<div>\n",
       "<style scoped>\n",
       "    .dataframe tbody tr th:only-of-type {\n",
       "        vertical-align: middle;\n",
       "    }\n",
       "\n",
       "    .dataframe tbody tr th {\n",
       "        vertical-align: top;\n",
       "    }\n",
       "\n",
       "    .dataframe thead th {\n",
       "        text-align: right;\n",
       "    }\n",
       "</style>\n",
       "<table border=\"1\" class=\"dataframe\">\n",
       "  <thead>\n",
       "    <tr style=\"text-align: right;\">\n",
       "      <th></th>\n",
       "      <th>apikey</th>\n",
       "      <th>success</th>\n",
       "      <th>requestNumber</th>\n",
       "      <th>itemsCount</th>\n",
       "      <th>totalResults</th>\n",
       "      <th>nextCursor</th>\n",
       "      <th>items</th>\n",
       "      <th>url</th>\n",
       "      <th>params.wskey</th>\n",
       "      <th>params.query</th>\n",
       "      <th>params.qf</th>\n",
       "      <th>params.reusability</th>\n",
       "      <th>params.media</th>\n",
       "      <th>params.thumbnail</th>\n",
       "      <th>params.landingpage</th>\n",
       "      <th>params.colourpalette</th>\n",
       "      <th>params.theme</th>\n",
       "      <th>params.sort</th>\n",
       "      <th>params.profile</th>\n",
       "      <th>params.rows</th>\n",
       "      <th>params.cursor</th>\n",
       "      <th>params.callback</th>\n",
       "      <th>params.facet</th>\n",
       "    </tr>\n",
       "  </thead>\n",
       "  <tbody>\n",
       "    <tr>\n",
       "      <th>0</th>\n",
       "      <td>api2demo</td>\n",
       "      <td>True</td>\n",
       "      <td>999</td>\n",
       "      <td>1</td>\n",
       "      <td>13022</td>\n",
       "      <td>AoE/EC8wOTkwMy9GRkUxMUJGREZGRDQyMTIxQkVGNTM3Nj...</td>\n",
       "      <td>[{'completeness': 0, 'country': ['Switzerland'...</td>\n",
       "      <td>https://api.europeana.eu/record/v2/search.json...</td>\n",
       "      <td>api2demo</td>\n",
       "      <td>(provider_aggregation_edm_provider.fr:*)</td>\n",
       "      <td>None</td>\n",
       "      <td>None</td>\n",
       "      <td>None</td>\n",
       "      <td>None</td>\n",
       "      <td>None</td>\n",
       "      <td>None</td>\n",
       "      <td>None</td>\n",
       "      <td>europeana_id</td>\n",
       "      <td>rich</td>\n",
       "      <td>1</td>\n",
       "      <td>*</td>\n",
       "      <td>None</td>\n",
       "      <td>None</td>\n",
       "    </tr>\n",
       "  </tbody>\n",
       "</table>\n",
       "</div>"
      ],
      "text/plain": [
       "     apikey  success  requestNumber  itemsCount  totalResults  \\\n",
       "0  api2demo     True            999           1         13022   \n",
       "\n",
       "                                          nextCursor  \\\n",
       "0  AoE/EC8wOTkwMy9GRkUxMUJGREZGRDQyMTIxQkVGNTM3Nj...   \n",
       "\n",
       "                                               items  \\\n",
       "0  [{'completeness': 0, 'country': ['Switzerland'...   \n",
       "\n",
       "                                                 url params.wskey  \\\n",
       "0  https://api.europeana.eu/record/v2/search.json...     api2demo   \n",
       "\n",
       "                               params.query params.qf params.reusability  \\\n",
       "0  (provider_aggregation_edm_provider.fr:*)      None               None   \n",
       "\n",
       "  params.media params.thumbnail params.landingpage params.colourpalette  \\\n",
       "0         None             None               None                 None   \n",
       "\n",
       "  params.theme   params.sort params.profile  params.rows params.cursor  \\\n",
       "0         None  europeana_id           rich            1             *   \n",
       "\n",
       "  params.callback params.facet  \n",
       "0            None         None  "
      ]
     },
     "execution_count": 76,
     "metadata": {},
     "output_type": "execute_result"
    }
   ],
   "source": [
    "flat=pd.json_normalize(response)\n",
    "flat"
   ]
  },
  {
   "cell_type": "code",
   "execution_count": null,
   "metadata": {},
   "outputs": [],
   "source": []
  },
  {
   "cell_type": "code",
   "execution_count": 82,
   "metadata": {},
   "outputs": [],
   "source": [
    "df=pd.json_normalize(data=response,record_path=['items'])"
   ]
  },
  {
   "cell_type": "code",
   "execution_count": 86,
   "metadata": {},
   "outputs": [
    {
     "data": {
      "text/plain": [
       "['completeness',\n",
       " 'country',\n",
       " 'dataProvider',\n",
       " 'dcContributor',\n",
       " 'dcCreator',\n",
       " 'dcDescription',\n",
       " 'dcLanguage',\n",
       " 'dctermsSpatial',\n",
       " 'edmDatasetName',\n",
       " 'edmIsShownAt',\n",
       " 'edmPlace',\n",
       " 'edmPlaceAltLabel',\n",
       " 'edmPlaceLabel',\n",
       " 'edmPlaceLatitude',\n",
       " 'edmPlaceLongitude',\n",
       " 'europeanaCollectionName',\n",
       " 'europeanaCompleteness',\n",
       " 'guid',\n",
       " 'id',\n",
       " 'index',\n",
       " 'language',\n",
       " 'link',\n",
       " 'organizations',\n",
       " 'previewNoDistribute',\n",
       " 'provider',\n",
       " 'rights',\n",
       " 'score',\n",
       " 'timestamp',\n",
       " 'timestamp_created',\n",
       " 'timestamp_created_epoch',\n",
       " 'timestamp_update',\n",
       " 'timestamp_update_epoch',\n",
       " 'title',\n",
       " 'type',\n",
       " 'ugc',\n",
       " 'dcContributorLangAware.def',\n",
       " 'dcCreatorLangAware.def',\n",
       " 'dcDescriptionLangAware.def',\n",
       " 'dcLanguageLangAware.def',\n",
       " 'dcSubjectLangAware.def',\n",
       " 'dcTitleLangAware.def',\n",
       " 'dcTypeLangAware.def',\n",
       " 'edmPlaceAltLabelLangAware.def',\n",
       " 'edmPlaceLabelLangAware.hi',\n",
       " 'edmPlaceLabelLangAware.ps',\n",
       " 'edmPlaceLabelLangAware.pt',\n",
       " 'edmPlaceLabelLangAware.def',\n",
       " 'edmPlaceLabelLangAware.hr',\n",
       " 'edmPlaceLabelLangAware.hu',\n",
       " 'edmPlaceLabelLangAware.yi',\n",
       " 'edmPlaceLabelLangAware.hy',\n",
       " 'edmPlaceLabelLangAware.yo',\n",
       " 'edmPlaceLabelLangAware.ia',\n",
       " 'edmPlaceLabelLangAware.id',\n",
       " 'edmPlaceLabelLangAware.ig',\n",
       " 'edmPlaceLabelLangAware.ii',\n",
       " 'edmPlaceLabelLangAware.aa',\n",
       " 'edmPlaceLabelLangAware.qu',\n",
       " 'edmPlaceLabelLangAware.af',\n",
       " 'edmPlaceLabelLangAware.io',\n",
       " 'edmPlaceLabelLangAware.za',\n",
       " 'edmPlaceLabelLangAware.ak',\n",
       " 'edmPlaceLabelLangAware.is',\n",
       " 'edmPlaceLabelLangAware.it',\n",
       " 'edmPlaceLabelLangAware.am',\n",
       " 'edmPlaceLabelLangAware.zh',\n",
       " 'edmPlaceLabelLangAware.ar',\n",
       " 'edmPlaceLabelLangAware.as',\n",
       " 'edmPlaceLabelLangAware.ja',\n",
       " 'edmPlaceLabelLangAware.az',\n",
       " 'edmPlaceLabelLangAware.zu',\n",
       " 'edmPlaceLabelLangAware.rm',\n",
       " 'edmPlaceLabelLangAware.rn',\n",
       " 'edmPlaceLabelLangAware.ro',\n",
       " 'edmPlaceLabelLangAware.be',\n",
       " 'edmPlaceLabelLangAware.ru',\n",
       " 'edmPlaceLabelLangAware.bg',\n",
       " 'edmPlaceLabelLangAware.bm',\n",
       " 'edmPlaceLabelLangAware.bn',\n",
       " 'edmPlaceLabelLangAware.bo',\n",
       " 'edmPlaceLabelLangAware.br',\n",
       " 'edmPlaceLabelLangAware.bs',\n",
       " 'edmPlaceLabelLangAware.se',\n",
       " 'edmPlaceLabelLangAware.sg',\n",
       " 'edmPlaceLabelLangAware.ka',\n",
       " 'edmPlaceLabelLangAware.si',\n",
       " 'edmPlaceLabelLangAware.sk',\n",
       " 'edmPlaceLabelLangAware.sl',\n",
       " 'edmPlaceLabelLangAware.sn',\n",
       " 'edmPlaceLabelLangAware.kg',\n",
       " 'edmPlaceLabelLangAware.so',\n",
       " 'edmPlaceLabelLangAware.ca',\n",
       " 'edmPlaceLabelLangAware.sq',\n",
       " 'edmPlaceLabelLangAware.ki',\n",
       " 'edmPlaceLabelLangAware.sr',\n",
       " 'edmPlaceLabelLangAware.kk',\n",
       " 'edmPlaceLabelLangAware.kl',\n",
       " 'edmPlaceLabelLangAware.km',\n",
       " 'edmPlaceLabelLangAware.kn',\n",
       " 'edmPlaceLabelLangAware.sv',\n",
       " 'edmPlaceLabelLangAware.ko',\n",
       " 'edmPlaceLabelLangAware.sw',\n",
       " 'edmPlaceLabelLangAware.ku',\n",
       " 'edmPlaceLabelLangAware.kw',\n",
       " 'edmPlaceLabelLangAware.ta',\n",
       " 'edmPlaceLabelLangAware.cs',\n",
       " 'edmPlaceLabelLangAware.te',\n",
       " 'edmPlaceLabelLangAware.cv',\n",
       " 'edmPlaceLabelLangAware.th',\n",
       " 'edmPlaceLabelLangAware.ti',\n",
       " 'edmPlaceLabelLangAware.la',\n",
       " 'edmPlaceLabelLangAware.lb',\n",
       " 'edmPlaceLabelLangAware.cy',\n",
       " 'edmPlaceLabelLangAware.tk',\n",
       " 'edmPlaceLabelLangAware.tl',\n",
       " 'edmPlaceLabelLangAware.to',\n",
       " 'edmPlaceLabelLangAware.lg',\n",
       " 'edmPlaceLabelLangAware.da',\n",
       " 'edmPlaceLabelLangAware.tr',\n",
       " 'edmPlaceLabelLangAware.de',\n",
       " 'edmPlaceLabelLangAware.ln',\n",
       " 'edmPlaceLabelLangAware.lo',\n",
       " 'edmPlaceLabelLangAware.lt',\n",
       " 'edmPlaceLabelLangAware.lu',\n",
       " 'edmPlaceLabelLangAware.lv',\n",
       " 'edmPlaceLabelLangAware.ug',\n",
       " 'edmPlaceLabelLangAware.dz',\n",
       " 'edmPlaceLabelLangAware.uk',\n",
       " 'edmPlaceLabelLangAware.mg',\n",
       " 'edmPlaceLabelLangAware.mi',\n",
       " 'edmPlaceLabelLangAware.ur',\n",
       " 'edmPlaceLabelLangAware.mk',\n",
       " 'edmPlaceLabelLangAware.ml',\n",
       " 'edmPlaceLabelLangAware.ee',\n",
       " 'edmPlaceLabelLangAware.mn',\n",
       " 'edmPlaceLabelLangAware.mr',\n",
       " 'edmPlaceLabelLangAware.uz',\n",
       " 'edmPlaceLabelLangAware.ms',\n",
       " 'edmPlaceLabelLangAware.el',\n",
       " 'edmPlaceLabelLangAware.mt',\n",
       " 'edmPlaceLabelLangAware.en',\n",
       " 'edmPlaceLabelLangAware.eo',\n",
       " 'edmPlaceLabelLangAware.my',\n",
       " 'edmPlaceLabelLangAware.es',\n",
       " 'edmPlaceLabelLangAware.et',\n",
       " 'edmPlaceLabelLangAware.eu',\n",
       " 'edmPlaceLabelLangAware.vi',\n",
       " 'edmPlaceLabelLangAware.nb',\n",
       " 'edmPlaceLabelLangAware.nd',\n",
       " 'edmPlaceLabelLangAware.ne',\n",
       " 'edmPlaceLabelLangAware.fa',\n",
       " 'edmPlaceLabelLangAware.nl',\n",
       " 'edmPlaceLabelLangAware.ff',\n",
       " 'edmPlaceLabelLangAware.nn',\n",
       " 'edmPlaceLabelLangAware.no',\n",
       " 'edmPlaceLabelLangAware.fi',\n",
       " 'edmPlaceLabelLangAware.fo',\n",
       " 'edmPlaceLabelLangAware.fr',\n",
       " 'edmPlaceLabelLangAware.fy',\n",
       " 'edmPlaceLabelLangAware.oc',\n",
       " 'edmPlaceLabelLangAware.ga',\n",
       " 'edmPlaceLabelLangAware.om',\n",
       " 'edmPlaceLabelLangAware.or',\n",
       " 'edmPlaceLabelLangAware.os',\n",
       " 'edmPlaceLabelLangAware.gl',\n",
       " 'edmPlaceLabelLangAware.gu',\n",
       " 'edmPlaceLabelLangAware.ha',\n",
       " 'edmPlaceLabelLangAware.pl',\n",
       " 'edmPlaceLabelLangAware.he']"
      ]
     },
     "execution_count": 86,
     "metadata": {},
     "output_type": "execute_result"
    }
   ],
   "source": [
    "list(df.columns)"
   ]
  },
  {
   "cell_type": "code",
   "execution_count": 57,
   "metadata": {
    "collapsed": true,
    "jupyter": {
     "outputs_hidden": true
    },
    "tags": []
   },
   "outputs": [
    {
     "ename": "NotImplementedError",
     "evalue": "",
     "output_type": "error",
     "traceback": [
      "\u001b[0;31m---------------------------------------------------------------------------\u001b[0m",
      "\u001b[0;31mNotImplementedError\u001b[0m                       Traceback (most recent call last)",
      "\u001b[0;32m/tmp/ipykernel_16584/2443036513.py\u001b[0m in \u001b[0;36m<module>\u001b[0;34m\u001b[0m\n\u001b[0;32m----> 1\u001b[0;31m \u001b[0mpd\u001b[0m\u001b[0;34m.\u001b[0m\u001b[0mjson_normalize\u001b[0m\u001b[0;34m(\u001b[0m\u001b[0mresponse\u001b[0m\u001b[0;34m.\u001b[0m\u001b[0mitems\u001b[0m\u001b[0;34m)\u001b[0m\u001b[0;34m\u001b[0m\u001b[0;34m\u001b[0m\u001b[0m\n\u001b[0m",
      "\u001b[0;32m~/anaconda3/envs/python_wrap/lib/python3.9/site-packages/pandas/io/json/_normalize.py\u001b[0m in \u001b[0;36m_json_normalize\u001b[0;34m(data, record_path, meta, meta_prefix, record_prefix, errors, sep, max_level)\u001b[0m\n\u001b[1;32m    421\u001b[0m         \u001b[0mdata\u001b[0m \u001b[0;34m=\u001b[0m \u001b[0mlist\u001b[0m\u001b[0;34m(\u001b[0m\u001b[0mdata\u001b[0m\u001b[0;34m)\u001b[0m\u001b[0;34m\u001b[0m\u001b[0;34m\u001b[0m\u001b[0m\n\u001b[1;32m    422\u001b[0m     \u001b[0;32melse\u001b[0m\u001b[0;34m:\u001b[0m\u001b[0;34m\u001b[0m\u001b[0;34m\u001b[0m\u001b[0m\n\u001b[0;32m--> 423\u001b[0;31m         \u001b[0;32mraise\u001b[0m \u001b[0mNotImplementedError\u001b[0m\u001b[0;34m\u001b[0m\u001b[0;34m\u001b[0m\u001b[0m\n\u001b[0m\u001b[1;32m    424\u001b[0m \u001b[0;34m\u001b[0m\u001b[0m\n\u001b[1;32m    425\u001b[0m     \u001b[0;31m# check to see if a simple recursive function is possible to\u001b[0m\u001b[0;34m\u001b[0m\u001b[0;34m\u001b[0m\u001b[0m\n",
      "\u001b[0;31mNotImplementedError\u001b[0m: "
     ]
    }
   ],
   "source": [
    "pd.json_normalize(response.items)"
   ]
  },
  {
   "cell_type": "code",
   "execution_count": 201,
   "metadata": {},
   "outputs": [
    {
     "data": {
      "text/plain": [
       "True"
      ]
     },
     "execution_count": 201,
     "metadata": {},
     "output_type": "execute_result"
    }
   ],
   "source": [
    "'object.aggregations' in flat.columns"
   ]
  },
  {
   "cell_type": "code",
   "execution_count": 69,
   "metadata": {},
   "outputs": [],
   "source": [
    "if 'object.aggregations'in flat.columns:\n",
    "    flat_1=pd.json_normalize(data, record_path=['object','aggregations']) \n",
    "else:\n",
    "    flat_1=pd.DataFrame()\n",
    "if 'object.organizations'in flat.columns:    \n",
    "    flat_2=pd.json_normalize(data, record_path=['object','organizations'])\n",
    "else:\n",
    "    flat_2=pd.DataFrame()\n",
    "# if 'object.aggregations'in flat.columns:        \n",
    "#     flat_3=pd.json_normalize(data, record_path=['object','aggregations','webResources'])\n",
    "# else:\n",
    "    #flat_3=pd.DataFrame()\n",
    "if 'object.places'in flat.columns:  \n",
    "    flat_3=pd.json_normalize(data, record_path=['object','places'])\n",
    "else:\n",
    "    flat_3=pd.DataFrame()\n",
    "if 'object.providedCHOs'in flat.columns:\n",
    "    flat_4=pd.json_normalize(data, record_path=['object','providedCHOs'])\n",
    "else:\n",
    "    flat_4=pd.DataFrame()\n",
    "if 'object.proxies'in flat.columns:\n",
    "    #Here I select the proider proxy\n",
    "    flat_5=pd.json_normalize(data, record_path=['object','proxies'])\n",
    "    flat_5_filt=flat_6.loc[[1]].reset_index(drop=True)\n",
    "else:\n",
    "    flat_5_filt=pd.DataFrame()\n",
    "# if 'object.qualityAnnotations'in flat.columns:\n",
    "#     flat_7=pd.json_normalize(data, record_path=['object','qualityAnnotations'])\n",
    "# else:\n",
    "#     flat_7=pd.DataFrame()"
   ]
  },
  {
   "cell_type": "code",
   "execution_count": 34,
   "metadata": {
    "tags": []
   },
   "outputs": [],
   "source": [
    "# #here I select edmDataProvider,edmProvider,edmRights\n",
    "# flat_1_filter=flat_1.drop(['about','edmIsShownAt','edmUgc','aggregatedCHO','webResources'], axis=1)\n",
    "# #here I select textAttributionSnippet from webresources\n",
    "# flat_3_web_res_filt=flat_3.drop(['about','htmlAttributionSnippet','ebucoreHasMimeType','ebucoreFileByteSize','rdfType'], axis=1)\n",
    "# #Here I select the concepts\n",
    "# flat_4_filt=flat_4.drop(['about','latitude','longitude','owlSameAs'], axis=1)\n",
    "# #Here I select the proider proxy\n",
    "# flat_6_filt=flat_6.iloc[[1]].drop(['about', 'proxyIn', 'proxyFor' ],axis=1).reset_index(drop=True)\n",
    "# flat_6_filt"
   ]
  },
  {
   "cell_type": "code",
   "execution_count": 66,
   "metadata": {},
   "outputs": [
    {
     "data": {
      "text/html": [
       "<div>\n",
       "<style scoped>\n",
       "    .dataframe tbody tr th:only-of-type {\n",
       "        vertical-align: middle;\n",
       "    }\n",
       "\n",
       "    .dataframe tbody tr th {\n",
       "        vertical-align: top;\n",
       "    }\n",
       "\n",
       "    .dataframe thead th {\n",
       "        text-align: right;\n",
       "    }\n",
       "</style>\n",
       "<table border=\"1\" class=\"dataframe\">\n",
       "  <thead>\n",
       "    <tr style=\"text-align: right;\">\n",
       "      <th></th>\n",
       "    </tr>\n",
       "  </thead>\n",
       "  <tbody>\n",
       "  </tbody>\n",
       "</table>\n",
       "</div>"
      ],
      "text/plain": [
       "Empty DataFrame\n",
       "Columns: []\n",
       "Index: []"
      ]
     },
     "execution_count": 66,
     "metadata": {},
     "output_type": "execute_result"
    }
   ],
   "source": [
    "flat_2"
   ]
  },
  {
   "cell_type": "code",
   "execution_count": 70,
   "metadata": {},
   "outputs": [
    {
     "data": {
      "text/html": [
       "<div>\n",
       "<style scoped>\n",
       "    .dataframe tbody tr th:only-of-type {\n",
       "        vertical-align: middle;\n",
       "    }\n",
       "\n",
       "    .dataframe tbody tr th {\n",
       "        vertical-align: top;\n",
       "    }\n",
       "\n",
       "    .dataframe thead th {\n",
       "        text-align: right;\n",
       "    }\n",
       "</style>\n",
       "<table border=\"1\" class=\"dataframe\">\n",
       "  <thead>\n",
       "    <tr style=\"text-align: right;\">\n",
       "      <th></th>\n",
       "    </tr>\n",
       "  </thead>\n",
       "  <tbody>\n",
       "  </tbody>\n",
       "</table>\n",
       "</div>"
      ],
      "text/plain": [
       "Empty DataFrame\n",
       "Columns: []\n",
       "Index: []"
      ]
     },
     "execution_count": 70,
     "metadata": {},
     "output_type": "execute_result"
    }
   ],
   "source": [
    "df=pd.concat([flat_1 ,flat_2,flat_3,flat_4,flat_5_filt],axis=1)\n",
    "df"
   ]
  },
  {
   "cell_type": "code",
   "execution_count": 25,
   "metadata": {},
   "outputs": [
    {
     "data": {
      "text/html": [
       "<div>\n",
       "<style scoped>\n",
       "    .dataframe tbody tr th:only-of-type {\n",
       "        vertical-align: middle;\n",
       "    }\n",
       "\n",
       "    .dataframe tbody tr th {\n",
       "        vertical-align: top;\n",
       "    }\n",
       "\n",
       "    .dataframe thead th {\n",
       "        text-align: right;\n",
       "    }\n",
       "</style>\n",
       "<table border=\"1\" class=\"dataframe\">\n",
       "  <thead>\n",
       "    <tr style=\"text-align: right;\">\n",
       "      <th></th>\n",
       "      <th>about</th>\n",
       "      <th>textAttributionSnippet</th>\n",
       "      <th>htmlAttributionSnippet</th>\n",
       "      <th>ebucoreHasMimeType</th>\n",
       "      <th>ebucoreFileByteSize</th>\n",
       "      <th>ebucoreWidth</th>\n",
       "      <th>ebucoreHeight</th>\n",
       "      <th>edmHasColorSpace</th>\n",
       "      <th>edmComponentColor</th>\n",
       "      <th>ebucoreOrientation</th>\n",
       "      <th>rdfType</th>\n",
       "      <th>edmSpatialResolution</th>\n",
       "      <th>webResourceDcRights.def</th>\n",
       "      <th>webResourceEdmRights.def</th>\n",
       "      <th>dcFormat.def</th>\n",
       "      <th>dcSource.def</th>\n",
       "      <th>dcCreator.def</th>\n",
       "    </tr>\n",
       "  </thead>\n",
       "  <tbody>\n",
       "    <tr>\n",
       "      <th>0</th>\n",
       "      <td>https://deriv.nls.uk/dcn30/1043/5077/104350772...</td>\n",
       "      <td>Ladies' Edinburgh Debating Society publication...</td>\n",
       "      <td>&lt;link rel='stylesheet' type='text/css' href='h...</td>\n",
       "      <td>image/jpeg</td>\n",
       "      <td>117819</td>\n",
       "      <td>1000.0</td>\n",
       "      <td>1691.0</td>\n",
       "      <td>sRGB</td>\n",
       "      <td>[#DCDCDC, #FFE4C4, #F5DEB3, #EEE8AA, #D3D3D3, ...</td>\n",
       "      <td>portrait</td>\n",
       "      <td>NaN</td>\n",
       "      <td>NaN</td>\n",
       "      <td>NaN</td>\n",
       "      <td>NaN</td>\n",
       "      <td>NaN</td>\n",
       "      <td>NaN</td>\n",
       "      <td>NaN</td>\n",
       "    </tr>\n",
       "    <tr>\n",
       "      <th>1</th>\n",
       "      <td>https://deriv.nls.uk/dcn23/1039/0013/103900138...</td>\n",
       "      <td>Ladies' Edinburgh Debating Society publication...</td>\n",
       "      <td>&lt;link rel='stylesheet' type='text/css' href='h...</td>\n",
       "      <td>application/pdf</td>\n",
       "      <td>13791933</td>\n",
       "      <td>NaN</td>\n",
       "      <td>NaN</td>\n",
       "      <td>NaN</td>\n",
       "      <td>NaN</td>\n",
       "      <td>NaN</td>\n",
       "      <td>http://www.europeana.eu/schemas/edm/FullTextRe...</td>\n",
       "      <td>0.0</td>\n",
       "      <td>[The work is likely to be in the public domain...</td>\n",
       "      <td>[http://rightsstatements.org/vocab/CNE/1.0/]</td>\n",
       "      <td>[pdf]</td>\n",
       "      <td>[#Resource:103655663]</td>\n",
       "      <td>[National Library of Scotland]</td>\n",
       "    </tr>\n",
       "    <tr>\n",
       "      <th>2</th>\n",
       "      <td>https://digital.nls.uk/103655663</td>\n",
       "      <td>Ladies' Edinburgh Debating Society publication...</td>\n",
       "      <td>&lt;link rel='stylesheet' type='text/css' href='h...</td>\n",
       "      <td>text/html</td>\n",
       "      <td>58668</td>\n",
       "      <td>NaN</td>\n",
       "      <td>NaN</td>\n",
       "      <td>NaN</td>\n",
       "      <td>NaN</td>\n",
       "      <td>NaN</td>\n",
       "      <td>http://www.europeana.eu/schemas/edm/FullTextRe...</td>\n",
       "      <td>NaN</td>\n",
       "      <td>NaN</td>\n",
       "      <td>NaN</td>\n",
       "      <td>NaN</td>\n",
       "      <td>NaN</td>\n",
       "      <td>NaN</td>\n",
       "    </tr>\n",
       "  </tbody>\n",
       "</table>\n",
       "</div>"
      ],
      "text/plain": [
       "                                               about  \\\n",
       "0  https://deriv.nls.uk/dcn30/1043/5077/104350772...   \n",
       "1  https://deriv.nls.uk/dcn23/1039/0013/103900138...   \n",
       "2                   https://digital.nls.uk/103655663   \n",
       "\n",
       "                              textAttributionSnippet  \\\n",
       "0  Ladies' Edinburgh Debating Society publication...   \n",
       "1  Ladies' Edinburgh Debating Society publication...   \n",
       "2  Ladies' Edinburgh Debating Society publication...   \n",
       "\n",
       "                              htmlAttributionSnippet ebucoreHasMimeType  \\\n",
       "0  <link rel='stylesheet' type='text/css' href='h...         image/jpeg   \n",
       "1  <link rel='stylesheet' type='text/css' href='h...    application/pdf   \n",
       "2  <link rel='stylesheet' type='text/css' href='h...          text/html   \n",
       "\n",
       "   ebucoreFileByteSize  ebucoreWidth  ebucoreHeight edmHasColorSpace  \\\n",
       "0               117819        1000.0         1691.0             sRGB   \n",
       "1             13791933           NaN            NaN              NaN   \n",
       "2                58668           NaN            NaN              NaN   \n",
       "\n",
       "                                   edmComponentColor ebucoreOrientation  \\\n",
       "0  [#DCDCDC, #FFE4C4, #F5DEB3, #EEE8AA, #D3D3D3, ...           portrait   \n",
       "1                                                NaN                NaN   \n",
       "2                                                NaN                NaN   \n",
       "\n",
       "                                             rdfType  edmSpatialResolution  \\\n",
       "0                                                NaN                   NaN   \n",
       "1  http://www.europeana.eu/schemas/edm/FullTextRe...                   0.0   \n",
       "2  http://www.europeana.eu/schemas/edm/FullTextRe...                   NaN   \n",
       "\n",
       "                             webResourceDcRights.def  \\\n",
       "0                                                NaN   \n",
       "1  [The work is likely to be in the public domain...   \n",
       "2                                                NaN   \n",
       "\n",
       "                       webResourceEdmRights.def dcFormat.def  \\\n",
       "0                                           NaN          NaN   \n",
       "1  [http://rightsstatements.org/vocab/CNE/1.0/]        [pdf]   \n",
       "2                                           NaN          NaN   \n",
       "\n",
       "            dcSource.def                   dcCreator.def  \n",
       "0                    NaN                             NaN  \n",
       "1  [#Resource:103655663]  [National Library of Scotland]  \n",
       "2                    NaN                             NaN  "
      ]
     },
     "execution_count": 25,
     "metadata": {},
     "output_type": "execute_result"
    }
   ],
   "source": [
    "flat_3"
   ]
  },
  {
   "cell_type": "code",
   "execution_count": null,
   "metadata": {},
   "outputs": [],
   "source": []
  },
  {
   "cell_type": "code",
   "execution_count": 27,
   "metadata": {},
   "outputs": [
    {
     "ename": "TypeError",
     "evalue": "search_api() missing 2 required positional arguments: 'n_objects' and 'batch_size'",
     "output_type": "error",
     "traceback": [
      "\u001b[0;31m---------------------------------------------------------------------------\u001b[0m",
      "\u001b[0;31mTypeError\u001b[0m                                 Traceback (most recent call last)",
      "\u001b[0;32m/tmp/ipykernel_16584/853455525.py\u001b[0m in \u001b[0;36m<module>\u001b[0;34m\u001b[0m\n\u001b[1;32m      1\u001b[0m \u001b[0mquery\u001b[0m\u001b[0;34m=\u001b[0m \u001b[0;34m'(wr_dcterms_isReferencedBy:en*)'\u001b[0m\u001b[0;34m\u001b[0m\u001b[0;34m\u001b[0m\u001b[0m\n\u001b[0;32m----> 2\u001b[0;31m \u001b[0mdf_search\u001b[0m\u001b[0;34m=\u001b[0m\u001b[0msearch_api\u001b[0m\u001b[0;34m(\u001b[0m\u001b[0mquery\u001b[0m\u001b[0;34m)\u001b[0m\u001b[0;34m[\u001b[0m\u001b[0;36m0\u001b[0m\u001b[0;34m]\u001b[0m\u001b[0;34m\u001b[0m\u001b[0;34m\u001b[0m\u001b[0m\n\u001b[0m\u001b[1;32m      3\u001b[0m \u001b[0mdata\u001b[0m\u001b[0;34m=\u001b[0m\u001b[0mapis\u001b[0m\u001b[0;34m.\u001b[0m\u001b[0mrecord\u001b[0m\u001b[0;34m(\u001b[0m\u001b[0;34mf'{df_search}'\u001b[0m\u001b[0;34m)\u001b[0m\u001b[0;34m\u001b[0m\u001b[0;34m\u001b[0m\u001b[0m\n\u001b[1;32m      4\u001b[0m \u001b[0mdf_0\u001b[0m\u001b[0;34m=\u001b[0m\u001b[0mpd\u001b[0m\u001b[0;34m.\u001b[0m\u001b[0mjson_normalize\u001b[0m\u001b[0;34m(\u001b[0m\u001b[0mdata\u001b[0m\u001b[0;34m,\u001b[0m\u001b[0;34m[\u001b[0m\u001b[0;34m'object'\u001b[0m\u001b[0;34m,\u001b[0m\u001b[0;34m'aggregations'\u001b[0m\u001b[0;34m]\u001b[0m\u001b[0;34m)\u001b[0m\u001b[0;34m\u001b[0m\u001b[0;34m\u001b[0m\u001b[0m\n\u001b[1;32m      5\u001b[0m \u001b[0;31m# df_1=pd.json_normalize(df_0,[)\u001b[0m\u001b[0;34m\u001b[0m\u001b[0;34m\u001b[0m\u001b[0m\n",
      "\u001b[0;31mTypeError\u001b[0m: search_api() missing 2 required positional arguments: 'n_objects' and 'batch_size'"
     ]
    }
   ],
   "source": [
    "query= '(wr_dcterms_isReferencedBy:en*)'\n",
    "df_search=search_api(query)[0]\n",
    "data=apis.record(f'{df_search}')\n",
    "df_0=pd.json_normalize(data,['object','aggregations'])\n",
    "# df_1=pd.json_normalize(df_0,[)"
   ]
  },
  {
   "cell_type": "code",
   "execution_count": null,
   "metadata": {},
   "outputs": [],
   "source": [
    "data=apis.record('/09903/FFF7C96578DEEAA154DC865CFF18ADE808258C8F')\n",
    "data"
   ]
  },
  {
   "cell_type": "code",
   "execution_count": 319,
   "metadata": {},
   "outputs": [],
   "source": [
    "response = apis.search(\n",
    "    query = 'proxy_dc_description.nl:*',\n",
    "    rows = 5, \n",
    "    profile='standard'\n",
    "    )"
   ]
  },
  {
   "cell_type": "code",
   "execution_count": 310,
   "metadata": {},
   "outputs": [
    {
     "data": {
      "text/html": [
       "<div>\n",
       "<style scoped>\n",
       "    .dataframe tbody tr th:only-of-type {\n",
       "        vertical-align: middle;\n",
       "    }\n",
       "\n",
       "    .dataframe tbody tr th {\n",
       "        vertical-align: top;\n",
       "    }\n",
       "\n",
       "    .dataframe thead th {\n",
       "        text-align: right;\n",
       "    }\n",
       "</style>\n",
       "<table border=\"1\" class=\"dataframe\">\n",
       "  <thead>\n",
       "    <tr style=\"text-align: right;\">\n",
       "      <th></th>\n",
       "      <th>apikey</th>\n",
       "      <th>success</th>\n",
       "      <th>requestNumber</th>\n",
       "      <th>itemsCount</th>\n",
       "      <th>totalResults</th>\n",
       "      <th>nextCursor</th>\n",
       "      <th>items</th>\n",
       "      <th>url</th>\n",
       "      <th>params.wskey</th>\n",
       "      <th>params.query</th>\n",
       "      <th>params.qf</th>\n",
       "      <th>params.reusability</th>\n",
       "      <th>params.media</th>\n",
       "      <th>params.thumbnail</th>\n",
       "      <th>params.landingpage</th>\n",
       "      <th>params.colourpalette</th>\n",
       "      <th>params.theme</th>\n",
       "      <th>params.sort</th>\n",
       "      <th>params.profile</th>\n",
       "      <th>params.rows</th>\n",
       "      <th>params.cursor</th>\n",
       "      <th>params.callback</th>\n",
       "      <th>params.facet</th>\n",
       "    </tr>\n",
       "  </thead>\n",
       "  <tbody>\n",
       "    <tr>\n",
       "      <th>0</th>\n",
       "      <td>api2demo</td>\n",
       "      <td>True</td>\n",
       "      <td>999</td>\n",
       "      <td>5</td>\n",
       "      <td>1866111</td>\n",
       "      <td>AoEuLzkwNDAyL1NLX0NfODg=</td>\n",
       "      <td>[{'completeness': 10, 'country': ['Netherlands...</td>\n",
       "      <td>https://api.europeana.eu/record/v2/search.json...</td>\n",
       "      <td>api2demo</td>\n",
       "      <td>proxy_dc_description.nl:*</td>\n",
       "      <td>None</td>\n",
       "      <td>None</td>\n",
       "      <td>None</td>\n",
       "      <td>None</td>\n",
       "      <td>None</td>\n",
       "      <td>None</td>\n",
       "      <td>None</td>\n",
       "      <td>europeana_id</td>\n",
       "      <td>standard</td>\n",
       "      <td>5</td>\n",
       "      <td>*</td>\n",
       "      <td>None</td>\n",
       "      <td>None</td>\n",
       "    </tr>\n",
       "  </tbody>\n",
       "</table>\n",
       "</div>"
      ],
      "text/plain": [
       "     apikey  success  requestNumber  itemsCount  totalResults  \\\n",
       "0  api2demo     True            999           5       1866111   \n",
       "\n",
       "                 nextCursor  \\\n",
       "0  AoEuLzkwNDAyL1NLX0NfODg=   \n",
       "\n",
       "                                               items  \\\n",
       "0  [{'completeness': 10, 'country': ['Netherlands...   \n",
       "\n",
       "                                                 url params.wskey  \\\n",
       "0  https://api.europeana.eu/record/v2/search.json...     api2demo   \n",
       "\n",
       "                params.query params.qf params.reusability params.media  \\\n",
       "0  proxy_dc_description.nl:*      None               None         None   \n",
       "\n",
       "  params.thumbnail params.landingpage params.colourpalette params.theme  \\\n",
       "0             None               None                 None         None   \n",
       "\n",
       "    params.sort params.profile  params.rows params.cursor params.callback  \\\n",
       "0  europeana_id       standard            5             *            None   \n",
       "\n",
       "  params.facet  \n",
       "0         None  "
      ]
     },
     "execution_count": 310,
     "metadata": {},
     "output_type": "execute_result"
    }
   ],
   "source": [
    "df=pd.json_normalize(response)\n",
    "df                    "
   ]
  },
  {
   "cell_type": "markdown",
   "metadata": {},
   "source": [
    "# Search API and Rercord API"
   ]
  },
  {
   "cell_type": "markdown",
   "metadata": {},
   "source": [
    "The Search and Rercod API have different fields. So lets check how the multilingual fields are mapped from Search API to Record API"
   ]
  },
  {
   "cell_type": "code",
   "execution_count": 322,
   "metadata": {},
   "outputs": [],
   "source": [
    "df_items=pd.json_normalize(response, record_path=['items'])"
   ]
  },
  {
   "cell_type": "markdown",
   "metadata": {},
   "source": [
    "# Conclusions"
   ]
  },
  {
   "cell_type": "markdown",
   "metadata": {},
   "source": [
    "Here we saw how to combine Search APi and Record API to retrieve field values that are not served by the Saerch API alone. The general idea is that the record API serves all results while the Search API only a fraction of it to optmize perfomance. "
   ]
  }
 ],
 "metadata": {
  "colab": {
   "collapsed_sections": [],
   "name": "Copy of multilingual_python_interface.ipynb",
   "provenance": []
  },
  "kernelspec": {
   "display_name": "Python 3 (ipykernel)",
   "language": "python",
   "name": "python3"
  },
  "language_info": {
   "codemirror_mode": {
    "name": "ipython",
    "version": 3
   },
   "file_extension": ".py",
   "mimetype": "text/x-python",
   "name": "python",
   "nbconvert_exporter": "python",
   "pygments_lexer": "ipython3",
   "version": "3.9.7"
  }
 },
 "nbformat": 4,
 "nbformat_minor": 4
}
